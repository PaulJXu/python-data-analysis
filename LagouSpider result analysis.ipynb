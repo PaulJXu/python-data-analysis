{
 "cells": [
  {
   "cell_type": "code",
   "execution_count": 42,
   "metadata": {
    "collapsed": true
   },
   "outputs": [],
   "source": [
    "import pandas as pd\n",
    "import numpy as np\n",
    "import matplotlib.pyplot as plt\n",
    "%matplotlib inline"
   ]
  },
  {
   "cell_type": "code",
   "execution_count": 43,
   "metadata": {
    "collapsed": false
   },
   "outputs": [],
   "source": [
    "df = pd.read_csv('C:\\\\Users\\\\Administrator\\\\Desktop\\\\新建文件夹\\\\拉勾网数据分析师爬取结果.csv')#用txt转化为utf-8的格式"
   ]
  },
  {
   "cell_type": "code",
   "execution_count": 44,
   "metadata": {
    "collapsed": false
   },
   "outputs": [],
   "source": [
    "df.drop('﻿',axis=1,inplace=True)#首列可以在保存时index=False，在此处去除需要复制空格粘贴，居然是一个‘点’"
   ]
  },
  {
   "cell_type": "code",
   "execution_count": 45,
   "metadata": {
    "collapsed": false
   },
   "outputs": [],
   "source": [
    "df.rename(columns={'0':'name','1':'staff','2':'position','3':'stage','4':'expr','5':'edu','6':'salary'},inplace=True)"
   ]
  },
  {
   "cell_type": "code",
   "execution_count": 46,
   "metadata": {
    "collapsed": false
   },
   "outputs": [
    {
     "data": {
      "text/html": [
       "<div>\n",
       "<table border=\"1\" class=\"dataframe\">\n",
       "  <thead>\n",
       "    <tr style=\"text-align: right;\">\n",
       "      <th></th>\n",
       "      <th>name</th>\n",
       "      <th>staff</th>\n",
       "      <th>position</th>\n",
       "      <th>stage</th>\n",
       "      <th>expr</th>\n",
       "      <th>edu</th>\n",
       "      <th>salary</th>\n",
       "    </tr>\n",
       "  </thead>\n",
       "  <tbody>\n",
       "    <tr>\n",
       "      <th>0</th>\n",
       "      <td>蚂蚁短租</td>\n",
       "      <td>150-500人</td>\n",
       "      <td>数据分析师</td>\n",
       "      <td>成熟型(C轮)</td>\n",
       "      <td>1-3年</td>\n",
       "      <td>本科</td>\n",
       "      <td>10k-20k</td>\n",
       "    </tr>\n",
       "    <tr>\n",
       "      <th>1</th>\n",
       "      <td>多彩饰家</td>\n",
       "      <td>150-500人</td>\n",
       "      <td>数据分析师</td>\n",
       "      <td>成长型(B轮)</td>\n",
       "      <td>3-5年</td>\n",
       "      <td>本科</td>\n",
       "      <td>20k-30k</td>\n",
       "    </tr>\n",
       "    <tr>\n",
       "      <th>2</th>\n",
       "      <td>滴滴出行</td>\n",
       "      <td>500-2000人</td>\n",
       "      <td>数据分析师</td>\n",
       "      <td>成熟型(D轮及以上)</td>\n",
       "      <td>3-5年</td>\n",
       "      <td>本科</td>\n",
       "      <td>20k-30k</td>\n",
       "    </tr>\n",
       "    <tr>\n",
       "      <th>3</th>\n",
       "      <td>在行&amp;amp;分答</td>\n",
       "      <td>50-150人</td>\n",
       "      <td>数据分析师</td>\n",
       "      <td>成长型(A轮)</td>\n",
       "      <td>1-3年</td>\n",
       "      <td>本科</td>\n",
       "      <td>10k-18k</td>\n",
       "    </tr>\n",
       "    <tr>\n",
       "      <th>4</th>\n",
       "      <td>宜信</td>\n",
       "      <td>2000人以上</td>\n",
       "      <td>数据分析师</td>\n",
       "      <td>上市公司</td>\n",
       "      <td>1-3年</td>\n",
       "      <td>本科</td>\n",
       "      <td>15k-28k</td>\n",
       "    </tr>\n",
       "  </tbody>\n",
       "</table>\n",
       "</div>"
      ],
      "text/plain": [
       "        name      staff position       stage  expr edu   salary\n",
       "0       蚂蚁短租   150-500人    数据分析师     成熟型(C轮)  1-3年  本科  10k-20k\n",
       "1       多彩饰家   150-500人    数据分析师     成长型(B轮)  3-5年  本科  20k-30k\n",
       "2       滴滴出行  500-2000人    数据分析师  成熟型(D轮及以上)  3-5年  本科  20k-30k\n",
       "3  在行&amp;分答    50-150人    数据分析师     成长型(A轮)  1-3年  本科  10k-18k\n",
       "4         宜信    2000人以上    数据分析师        上市公司  1-3年  本科  15k-28k"
      ]
     },
     "execution_count": 46,
     "metadata": {},
     "output_type": "execute_result"
    }
   ],
   "source": [
    "df.head()"
   ]
  },
  {
   "cell_type": "code",
   "execution_count": 6,
   "metadata": {
    "collapsed": false,
    "scrolled": true
   },
   "outputs": [
    {
     "data": {
      "text/plain": [
       "数据分析师                       228\n",
       "高级数据分析师                      32\n",
       "资深数据分析师                      10\n",
       "大数据分析师                        9\n",
       "大数据开发工程师                      9\n",
       "数据工程师                         8\n",
       "初级数据分析师                       4\n",
       "大数据工程师                        4\n",
       "金融数据分析师                       4\n",
       "数据研发工程师                       3\n",
       "数据分析员                         3\n",
       "大数据研发工程师                      3\n",
       "数据分析师（实习生）                    2\n",
       "大数据开发                         2\n",
       "商业数据分析师                       2\n",
       "数据分析师（实习）                     2\n",
       "大数据(开发、分析、算法)                 2\n",
       "分析师                           2\n",
       "网站数据分析师                       2\n",
       "数据开发工程师                       2\n",
       "协议数据分析师                       2\n",
       "数据分析师-北京-03875                2\n",
       "ASO数据分析师                      2\n",
       "数据分析师（北京-海淀区）                 1\n",
       "数据分析师1                        1\n",
       "数据科学家/高级数据分析师                 1\n",
       "流量数据分析师                       1\n",
       "数据开发                          1\n",
       "数据分析师(产品分析)-数据战略              1\n",
       "美团急聘数据分析师                     1\n",
       "                           ... \n",
       "数据分析师－金融事业部                   1\n",
       "数据分析师（数据报表方向）                 1\n",
       "助理数据分析师 清科研究中心                1\n",
       "数据分析师（市场资源方向）                 1\n",
       "数据分析师（可实习）                    1\n",
       "高级商务数据分析师                     1\n",
       "战略&amp;数据分析师                  1\n",
       "【数据管理】高级用户研究分析师               1\n",
       "数据建模分析师                       1\n",
       "数据分析师兼职讲师                     1\n",
       "数据分析师（北京）                     1\n",
       "【数据管理】高级数据分析师                 1\n",
       "Sr. Data Analyst 高级数据分析师      1\n",
       "数据分析师（客户端分析方向）                1\n",
       "大数据算法工程师                      1\n",
       "XYCH-数据分析师                    1\n",
       "数据分析师（BI）                     1\n",
       "产品技术部-高级数据分析师                 1\n",
       "大数据数据治理专家                     1\n",
       "高级数据分析师0912                   1\n",
       "策略分析主管（数据分析师）                 1\n",
       "DB-数据分析师                      1\n",
       "高级大数据开发/架构师                   1\n",
       "数据分析师（偏业务）                    1\n",
       "高级数据分析师（直播分析）                 1\n",
       "数据分析师（金融）                     1\n",
       "数据分析师-巴士业务(J12530)            1\n",
       "数据分析师（配送事业部-北京总部）             1\n",
       "高级数据分析师（应用科学部）：               1\n",
       "高级业务分析师/数据分析师                 1\n",
       "Name: position, dtype: int64"
      ]
     },
     "execution_count": 6,
     "metadata": {},
     "output_type": "execute_result"
    }
   ],
   "source": [
    "df['position'].value_counts()"
   ]
  },
  {
   "cell_type": "code",
   "execution_count": 47,
   "metadata": {
    "collapsed": false,
    "scrolled": true
   },
   "outputs": [],
   "source": [
    "df1 = df.loc[(df['position']=='初级数据分析师')|(df['position']=='高级数据分析师')|(df['position']=='数据分析师')]"
   ]
  },
  {
   "cell_type": "code",
   "execution_count": 57,
   "metadata": {
    "collapsed": false
   },
   "outputs": [
    {
     "data": {
      "text/plain": [
       "1-3年     107\n",
       "3-5年      99\n",
       "不限        39\n",
       "5-10年     14\n",
       "应届毕业生      4\n",
       "1年以下       1\n",
       "Name: expr, dtype: int64"
      ]
     },
     "execution_count": 57,
     "metadata": {},
     "output_type": "execute_result"
    }
   ],
   "source": [
    "df1['expr'].value_counts()"
   ]
  },
  {
   "cell_type": "code",
   "execution_count": 55,
   "metadata": {
    "collapsed": false
   },
   "outputs": [
    {
     "data": {
      "text/plain": [
       "上市公司          69\n",
       "成熟型(D轮及以上)    40\n",
       "成长型(B轮)       38\n",
       "成长型(A轮)       35\n",
       "成长型(不需要融资)    24\n",
       "成熟型(C轮)       17\n",
       "初创型(天使轮)      13\n",
       "初创型(未融资)      11\n",
       "成熟型(不需要融资)    11\n",
       "初创型(不需要融资)     6\n",
       "Name: stage, dtype: int64"
      ]
     },
     "execution_count": 55,
     "metadata": {},
     "output_type": "execute_result"
    }
   ],
   "source": [
    "df1['stage'].value_counts()"
   ]
  },
  {
   "cell_type": "code",
   "execution_count": 69,
   "metadata": {
    "collapsed": false,
    "scrolled": true
   },
   "outputs": [],
   "source": [
    "df3 = pd.DataFrame(df1['salary'].value_counts())"
   ]
  },
  {
   "cell_type": "code",
   "execution_count": 74,
   "metadata": {
    "collapsed": false
   },
   "outputs": [
    {
     "data": {
      "text/plain": [
       "<matplotlib.axes._subplots.AxesSubplot at 0x7509a50>"
      ]
     },
     "execution_count": 74,
     "metadata": {},
     "output_type": "execute_result"
    },
    {
     "data": {
      "image/png": "[encoded data removed]",
      "text/plain": [
       "<matplotlib.figure.Figure at 0x7744630>"
      ]
     },
     "metadata": {},
     "output_type": "display_data"
    }
   ],
   "source": [
    "df3.loc[df3['salary']>=6].plot(kind='bar')"
   ]
  },
  {
   "cell_type": "code",
   "execution_count": 14,
   "metadata": {
    "collapsed": false,
    "scrolled": true
   },
   "outputs": [
    {
     "data": {
      "text/html": [
       "<div>\n",
       "<table border=\"1\" class=\"dataframe\">\n",
       "  <thead>\n",
       "    <tr style=\"text-align: right;\">\n",
       "      <th></th>\n",
       "      <th>0</th>\n",
       "      <th>1</th>\n",
       "    </tr>\n",
       "  </thead>\n",
       "  <tbody>\n",
       "    <tr>\n",
       "      <th>0</th>\n",
       "      <td>150</td>\n",
       "      <td>500人</td>\n",
       "    </tr>\n",
       "    <tr>\n",
       "      <th>1</th>\n",
       "      <td>150</td>\n",
       "      <td>500人</td>\n",
       "    </tr>\n",
       "    <tr>\n",
       "      <th>2</th>\n",
       "      <td>500</td>\n",
       "      <td>2000人</td>\n",
       "    </tr>\n",
       "    <tr>\n",
       "      <th>3</th>\n",
       "      <td>50</td>\n",
       "      <td>150人</td>\n",
       "    </tr>\n",
       "    <tr>\n",
       "      <th>4</th>\n",
       "      <td>2000人以上</td>\n",
       "      <td>None</td>\n",
       "    </tr>\n",
       "    <tr>\n",
       "      <th>5</th>\n",
       "      <td>150</td>\n",
       "      <td>500人</td>\n",
       "    </tr>\n",
       "    <tr>\n",
       "      <th>6</th>\n",
       "      <td>2000人以上</td>\n",
       "      <td>None</td>\n",
       "    </tr>\n",
       "    <tr>\n",
       "      <th>7</th>\n",
       "      <td>500</td>\n",
       "      <td>2000人</td>\n",
       "    </tr>\n",
       "    <tr>\n",
       "      <th>8</th>\n",
       "      <td>150</td>\n",
       "      <td>500人</td>\n",
       "    </tr>\n",
       "    <tr>\n",
       "      <th>9</th>\n",
       "      <td>50</td>\n",
       "      <td>150人</td>\n",
       "    </tr>\n",
       "    <tr>\n",
       "      <th>10</th>\n",
       "      <td>500</td>\n",
       "      <td>2000人</td>\n",
       "    </tr>\n",
       "    <tr>\n",
       "      <th>11</th>\n",
       "      <td>500</td>\n",
       "      <td>2000人</td>\n",
       "    </tr>\n",
       "    <tr>\n",
       "      <th>12</th>\n",
       "      <td>150</td>\n",
       "      <td>500人</td>\n",
       "    </tr>\n",
       "    <tr>\n",
       "      <th>13</th>\n",
       "      <td>150</td>\n",
       "      <td>500人</td>\n",
       "    </tr>\n",
       "    <tr>\n",
       "      <th>14</th>\n",
       "      <td>50</td>\n",
       "      <td>150人</td>\n",
       "    </tr>\n",
       "    <tr>\n",
       "      <th>15</th>\n",
       "      <td>500</td>\n",
       "      <td>2000人</td>\n",
       "    </tr>\n",
       "    <tr>\n",
       "      <th>16</th>\n",
       "      <td>50</td>\n",
       "      <td>150人</td>\n",
       "    </tr>\n",
       "    <tr>\n",
       "      <th>17</th>\n",
       "      <td>150</td>\n",
       "      <td>500人</td>\n",
       "    </tr>\n",
       "    <tr>\n",
       "      <th>18</th>\n",
       "      <td>500</td>\n",
       "      <td>2000人</td>\n",
       "    </tr>\n",
       "    <tr>\n",
       "      <th>19</th>\n",
       "      <td>150</td>\n",
       "      <td>500人</td>\n",
       "    </tr>\n",
       "    <tr>\n",
       "      <th>20</th>\n",
       "      <td>15</td>\n",
       "      <td>50人</td>\n",
       "    </tr>\n",
       "    <tr>\n",
       "      <th>21</th>\n",
       "      <td>2000人以上</td>\n",
       "      <td>None</td>\n",
       "    </tr>\n",
       "    <tr>\n",
       "      <th>23</th>\n",
       "      <td>2000人以上</td>\n",
       "      <td>None</td>\n",
       "    </tr>\n",
       "    <tr>\n",
       "      <th>24</th>\n",
       "      <td>500</td>\n",
       "      <td>2000人</td>\n",
       "    </tr>\n",
       "    <tr>\n",
       "      <th>26</th>\n",
       "      <td>500</td>\n",
       "      <td>2000人</td>\n",
       "    </tr>\n",
       "    <tr>\n",
       "      <th>27</th>\n",
       "      <td>2000人以上</td>\n",
       "      <td>None</td>\n",
       "    </tr>\n",
       "    <tr>\n",
       "      <th>28</th>\n",
       "      <td>2000人以上</td>\n",
       "      <td>None</td>\n",
       "    </tr>\n",
       "    <tr>\n",
       "      <th>29</th>\n",
       "      <td>2000人以上</td>\n",
       "      <td>None</td>\n",
       "    </tr>\n",
       "    <tr>\n",
       "      <th>30</th>\n",
       "      <td>500</td>\n",
       "      <td>2000人</td>\n",
       "    </tr>\n",
       "    <tr>\n",
       "      <th>31</th>\n",
       "      <td>少于15人</td>\n",
       "      <td>None</td>\n",
       "    </tr>\n",
       "    <tr>\n",
       "      <th>...</th>\n",
       "      <td>...</td>\n",
       "      <td>...</td>\n",
       "    </tr>\n",
       "    <tr>\n",
       "      <th>336</th>\n",
       "      <td>2000人以上</td>\n",
       "      <td>None</td>\n",
       "    </tr>\n",
       "    <tr>\n",
       "      <th>337</th>\n",
       "      <td>15</td>\n",
       "      <td>50人</td>\n",
       "    </tr>\n",
       "    <tr>\n",
       "      <th>339</th>\n",
       "      <td>2000人以上</td>\n",
       "      <td>None</td>\n",
       "    </tr>\n",
       "    <tr>\n",
       "      <th>341</th>\n",
       "      <td>500</td>\n",
       "      <td>2000人</td>\n",
       "    </tr>\n",
       "    <tr>\n",
       "      <th>346</th>\n",
       "      <td>500</td>\n",
       "      <td>2000人</td>\n",
       "    </tr>\n",
       "    <tr>\n",
       "      <th>348</th>\n",
       "      <td>2000人以上</td>\n",
       "      <td>None</td>\n",
       "    </tr>\n",
       "    <tr>\n",
       "      <th>349</th>\n",
       "      <td>2000人以上</td>\n",
       "      <td>None</td>\n",
       "    </tr>\n",
       "    <tr>\n",
       "      <th>351</th>\n",
       "      <td>2000人以上</td>\n",
       "      <td>None</td>\n",
       "    </tr>\n",
       "    <tr>\n",
       "      <th>352</th>\n",
       "      <td>2000人以上</td>\n",
       "      <td>None</td>\n",
       "    </tr>\n",
       "    <tr>\n",
       "      <th>354</th>\n",
       "      <td>150</td>\n",
       "      <td>500人</td>\n",
       "    </tr>\n",
       "    <tr>\n",
       "      <th>355</th>\n",
       "      <td>15</td>\n",
       "      <td>50人</td>\n",
       "    </tr>\n",
       "    <tr>\n",
       "      <th>356</th>\n",
       "      <td>15</td>\n",
       "      <td>50人</td>\n",
       "    </tr>\n",
       "    <tr>\n",
       "      <th>357</th>\n",
       "      <td>500</td>\n",
       "      <td>2000人</td>\n",
       "    </tr>\n",
       "    <tr>\n",
       "      <th>358</th>\n",
       "      <td>50</td>\n",
       "      <td>150人</td>\n",
       "    </tr>\n",
       "    <tr>\n",
       "      <th>359</th>\n",
       "      <td>50</td>\n",
       "      <td>150人</td>\n",
       "    </tr>\n",
       "    <tr>\n",
       "      <th>360</th>\n",
       "      <td>15</td>\n",
       "      <td>50人</td>\n",
       "    </tr>\n",
       "    <tr>\n",
       "      <th>361</th>\n",
       "      <td>50</td>\n",
       "      <td>150人</td>\n",
       "    </tr>\n",
       "    <tr>\n",
       "      <th>363</th>\n",
       "      <td>2000人以上</td>\n",
       "      <td>None</td>\n",
       "    </tr>\n",
       "    <tr>\n",
       "      <th>364</th>\n",
       "      <td>50</td>\n",
       "      <td>150人</td>\n",
       "    </tr>\n",
       "    <tr>\n",
       "      <th>365</th>\n",
       "      <td>15</td>\n",
       "      <td>50人</td>\n",
       "    </tr>\n",
       "    <tr>\n",
       "      <th>366</th>\n",
       "      <td>2000人以上</td>\n",
       "      <td>None</td>\n",
       "    </tr>\n",
       "    <tr>\n",
       "      <th>368</th>\n",
       "      <td>500</td>\n",
       "      <td>2000人</td>\n",
       "    </tr>\n",
       "    <tr>\n",
       "      <th>370</th>\n",
       "      <td>50</td>\n",
       "      <td>150人</td>\n",
       "    </tr>\n",
       "    <tr>\n",
       "      <th>371</th>\n",
       "      <td>2000人以上</td>\n",
       "      <td>None</td>\n",
       "    </tr>\n",
       "    <tr>\n",
       "      <th>372</th>\n",
       "      <td>500</td>\n",
       "      <td>2000人</td>\n",
       "    </tr>\n",
       "    <tr>\n",
       "      <th>374</th>\n",
       "      <td>15</td>\n",
       "      <td>50人</td>\n",
       "    </tr>\n",
       "    <tr>\n",
       "      <th>375</th>\n",
       "      <td>500</td>\n",
       "      <td>2000人</td>\n",
       "    </tr>\n",
       "    <tr>\n",
       "      <th>418</th>\n",
       "      <td>500</td>\n",
       "      <td>2000人</td>\n",
       "    </tr>\n",
       "    <tr>\n",
       "      <th>421</th>\n",
       "      <td>2000人以上</td>\n",
       "      <td>None</td>\n",
       "    </tr>\n",
       "    <tr>\n",
       "      <th>437</th>\n",
       "      <td>500</td>\n",
       "      <td>2000人</td>\n",
       "    </tr>\n",
       "  </tbody>\n",
       "</table>\n",
       "<p>264 rows × 2 columns</p>\n",
       "</div>"
      ],
      "text/plain": [
       "           0      1\n",
       "0        150   500人\n",
       "1        150   500人\n",
       "2        500  2000人\n",
       "3         50   150人\n",
       "4    2000人以上   None\n",
       "5        150   500人\n",
       "6    2000人以上   None\n",
       "7        500  2000人\n",
       "8        150   500人\n",
       "9         50   150人\n",
       "10       500  2000人\n",
       "11       500  2000人\n",
       "12       150   500人\n",
       "13       150   500人\n",
       "14        50   150人\n",
       "15       500  2000人\n",
       "16        50   150人\n",
       "17       150   500人\n",
       "18       500  2000人\n",
       "19       150   500人\n",
       "20        15    50人\n",
       "21   2000人以上   None\n",
       "23   2000人以上   None\n",
       "24       500  2000人\n",
       "26       500  2000人\n",
       "27   2000人以上   None\n",
       "28   2000人以上   None\n",
       "29   2000人以上   None\n",
       "30       500  2000人\n",
       "31     少于15人   None\n",
       "..       ...    ...\n",
       "336  2000人以上   None\n",
       "337       15    50人\n",
       "339  2000人以上   None\n",
       "341      500  2000人\n",
       "346      500  2000人\n",
       "348  2000人以上   None\n",
       "349  2000人以上   None\n",
       "351  2000人以上   None\n",
       "352  2000人以上   None\n",
       "354      150   500人\n",
       "355       15    50人\n",
       "356       15    50人\n",
       "357      500  2000人\n",
       "358       50   150人\n",
       "359       50   150人\n",
       "360       15    50人\n",
       "361       50   150人\n",
       "363  2000人以上   None\n",
       "364       50   150人\n",
       "365       15    50人\n",
       "366  2000人以上   None\n",
       "368      500  2000人\n",
       "370       50   150人\n",
       "371  2000人以上   None\n",
       "372      500  2000人\n",
       "374       15    50人\n",
       "375      500  2000人\n",
       "418      500  2000人\n",
       "421  2000人以上   None\n",
       "437      500  2000人\n",
       "\n",
       "[264 rows x 2 columns]"
      ]
     },
     "execution_count": 14,
     "metadata": {},
     "output_type": "execute_result"
    }
   ],
   "source": [
    "df1['staff'].str.split('-',expand=True)"
   ]
  },
  {
   "cell_type": "code",
   "execution_count": 19,
   "metadata": {
    "collapsed": false,
    "scrolled": true
   },
   "outputs": [],
   "source": [
    "df2 = df1['salary'].str.split('-',expand=True)"
   ]
  },
  {
   "cell_type": "code",
   "execution_count": 26,
   "metadata": {
    "collapsed": false,
    "scrolled": true
   },
   "outputs": [],
   "source": [
    "df2.rename(columns={0:'salary_min',1:'salary_max'},inplace=True)"
   ]
  },
  {
   "cell_type": "code",
   "execution_count": null,
   "metadata": {
    "collapsed": true
   },
   "outputs": [],
   "source": [
    "df2['salary_min']=df2['salary_min'].str.replace(('k','')"
   ]
  },
  {
   "cell_type": "code",
   "execution_count": 91,
   "metadata": {
    "collapsed": true
   },
   "outputs": [],
   "source": [
    "df2['salary_min']=df2['salary_min'].str.replace('K','')"
   ]
  },
  {
   "cell_type": "code",
   "execution_count": 93,
   "metadata": {
    "collapsed": true
   },
   "outputs": [],
   "source": [
    "df2['salary_min']=df2['salary_min'].str.replace('以上','')"
   ]
  },
  {
   "cell_type": "code",
   "execution_count": 98,
   "metadata": {
    "collapsed": false
   },
   "outputs": [],
   "source": [
    "df2['salary_min']=df2['salary_min'].astype(np.int64)"
   ]
  },
  {
   "cell_type": "code",
   "execution_count": 99,
   "metadata": {
    "collapsed": false
   },
   "outputs": [
    {
     "name": "stdout",
     "output_type": "stream",
     "text": [
      "<class 'pandas.core.frame.DataFrame'>\n",
      "Int64Index: 264 entries, 0 to 437\n",
      "Data columns (total 2 columns):\n",
      "salary_min    264 non-null int64\n",
      "salary_max    263 non-null object\n",
      "dtypes: int64(1), object(1)\n",
      "memory usage: 5.2+ KB\n"
     ]
    }
   ],
   "source": [
    "df2.info()"
   ]
  },
  {
   "cell_type": "code",
   "execution_count": 106,
   "metadata": {
    "collapsed": false,
    "scrolled": true
   },
   "outputs": [],
   "source": [
    "df4 = pd.concat([df1,df2['salary_min']],axis=1)"
   ]
  },
  {
   "cell_type": "code",
   "execution_count": 107,
   "metadata": {
    "collapsed": false
   },
   "outputs": [
    {
     "data": {
      "text/plain": [
       "<matplotlib.axes._subplots.AxesSubplot at 0x781a670>"
      ]
     },
     "execution_count": 107,
     "metadata": {},
     "output_type": "execute_result"
    },
    {
     "data": {
      "image/png": "[encoded data removed]",
      "text/plain": [
       "<matplotlib.figure.Figure at 0x768c350>"
      ]
     },
     "metadata": {},
     "output_type": "display_data"
    }
   ],
   "source": [
    "df4['salary_min'].hist()"
   ]
  },
  {
   "cell_type": "code",
   "execution_count": null,
   "metadata": {
    "collapsed": true
   },
   "outputs": [],
   "source": []
  }
 ],
 "metadata": {
  "kernelspec": {
   "display_name": "Python [Root]",
   "language": "python",
   "name": "Python [Root]"
  },
  "language_info": {
   "codemirror_mode": {
    "name": "ipython",
    "version": 3
   },
   "file_extension": ".py",
   "mimetype": "text/x-python",
   "name": "python",
   "nbconvert_exporter": "python",
   "pygments_lexer": "ipython3",
   "version": "3.5.2"
  }
 },
 "nbformat": 4,
 "nbformat_minor": 0
}
