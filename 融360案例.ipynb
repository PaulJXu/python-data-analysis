{
 "cells": [
  {
   "cell_type": "code",
   "execution_count": 1,
   "metadata": {
    "collapsed": false
   },
   "outputs": [
    {
     "name": "stdout",
     "output_type": "stream",
     "text": [
      "C:\\Users\\xupu\\Desktop\\个人征信\n"
     ]
    }
   ],
   "source": [
    "cd C:\\Users\\xupu\\Desktop\\个人征信"
   ]
  },
  {
   "cell_type": "code",
   "execution_count": 2,
   "metadata": {
    "collapsed": true
   },
   "outputs": [],
   "source": [
    "import pandas as pd\n",
    "import numpy as np"
   ]
  },
  {
   "cell_type": "code",
   "execution_count": 3,
   "metadata": {
    "collapsed": false
   },
   "outputs": [],
   "source": [
    "user_info_train = pd.read_csv('train//user_info_train.txt',header=None,names=['user_id','sex','occupation','education','marriage','household'])\n",
    "user_info_test = pd.read_csv('test//user_info_test.txt',header=None,names=['user_id','sex','occupation','education','marriage','household'])"
   ]
  },
  {
   "cell_type": "code",
   "execution_count": 4,
   "metadata": {
    "collapsed": false,
    "scrolled": true
   },
   "outputs": [],
   "source": [
    "bank_detail_train = pd.read_csv('train//bank_detail_train.txt',header=None,names=['user_id','tm_encode','trade_type','trade_amount','salary_tag'])\n",
    "bank_detail_test = pd.read_csv('test//bank_detail_test.txt',header=None,names=['user_id','tm_encode','trade_type','trade_amount','salary_tag'])"
   ]
  },
  {
   "cell_type": "code",
   "execution_count": 5,
   "metadata": {
    "collapsed": false
   },
   "outputs": [
    {
     "data": {
      "text/html": [
       "<div>\n",
       "<table border=\"1\" class=\"dataframe\">\n",
       "  <thead>\n",
       "    <tr style=\"text-align: right;\">\n",
       "      <th></th>\n",
       "      <th>user_id</th>\n",
       "      <th>tm_encode</th>\n",
       "      <th>trade_type</th>\n",
       "      <th>trade_amount</th>\n",
       "      <th>salary_tag</th>\n",
       "    </tr>\n",
       "  </thead>\n",
       "  <tbody>\n",
       "    <tr>\n",
       "      <th>0</th>\n",
       "      <td>6965</td>\n",
       "      <td>5894316387</td>\n",
       "      <td>0</td>\n",
       "      <td>13.756664</td>\n",
       "      <td>0</td>\n",
       "    </tr>\n",
       "    <tr>\n",
       "      <th>1</th>\n",
       "      <td>6965</td>\n",
       "      <td>5894321388</td>\n",
       "      <td>1</td>\n",
       "      <td>13.756664</td>\n",
       "      <td>0</td>\n",
       "    </tr>\n",
       "    <tr>\n",
       "      <th>2</th>\n",
       "      <td>6965</td>\n",
       "      <td>5897553564</td>\n",
       "      <td>0</td>\n",
       "      <td>14.449810</td>\n",
       "      <td>0</td>\n",
       "    </tr>\n",
       "    <tr>\n",
       "      <th>3</th>\n",
       "      <td>6965</td>\n",
       "      <td>5897563463</td>\n",
       "      <td>1</td>\n",
       "      <td>10.527763</td>\n",
       "      <td>0</td>\n",
       "    </tr>\n",
       "    <tr>\n",
       "      <th>4</th>\n",
       "      <td>6965</td>\n",
       "      <td>5897564598</td>\n",
       "      <td>1</td>\n",
       "      <td>13.651303</td>\n",
       "      <td>0</td>\n",
       "    </tr>\n",
       "  </tbody>\n",
       "</table>\n",
       "</div>"
      ],
      "text/plain": [
       "   user_id   tm_encode  trade_type  trade_amount  salary_tag\n",
       "0     6965  5894316387           0     13.756664           0\n",
       "1     6965  5894321388           1     13.756664           0\n",
       "2     6965  5897553564           0     14.449810           0\n",
       "3     6965  5897563463           1     10.527763           0\n",
       "4     6965  5897564598           1     13.651303           0"
      ]
     },
     "execution_count": 5,
     "metadata": {},
     "output_type": "execute_result"
    }
   ],
   "source": [
    "bank_detail_train.head()"
   ]
  },
  {
   "cell_type": "code",
   "execution_count": 253,
   "metadata": {
    "collapsed": true
   },
   "outputs": [],
   "source": [
    "#计算个人净总收入  平均收入？\n",
    "grouped0_train = bank_detail_train.groupby(['user_id','trade_type'])\n",
    "grouped0_test = bank_detail_test.groupby(['user_id','trade_type'])"
   ]
  },
  {
   "cell_type": "code",
   "execution_count": 257,
   "metadata": {
    "collapsed": true
   },
   "outputs": [],
   "source": [
    "income_train = grouped0_train['trade_amount'].sum().unstack()\n",
    "income_test = grouped0_test['trade_amount'].sum().unstack()"
   ]
  },
  {
   "cell_type": "code",
   "execution_count": 258,
   "metadata": {
    "collapsed": true
   },
   "outputs": [],
   "source": [
    "income_train.rename(columns={0:'shouru',1:'zhichu'},inplace = True)\n",
    "income_test.rename(columns={0:'shouru',1:'zhichu'},inplace = True)"
   ]
  },
  {
   "cell_type": "code",
   "execution_count": 259,
   "metadata": {
    "collapsed": true
   },
   "outputs": [],
   "source": [
    "income_train['netincome'] = income_train['shouru']-income_train['zhichu']\n",
    "income_test['netincome'] = income_test['shouru']-income_test['zhichu']"
   ]
  },
  {
   "cell_type": "code",
   "execution_count": 260,
   "metadata": {
    "collapsed": true
   },
   "outputs": [],
   "source": [
    "incomes_train = income_train['netincome']\n",
    "incomes_test = income_test['netincome']"
   ]
  },
  {
   "cell_type": "code",
   "execution_count": 261,
   "metadata": {
    "collapsed": true
   },
   "outputs": [],
   "source": [
    "# 计算个人平均工资收入\n",
    "tag1_train = bank_detail_train.loc[bank_detail_train['salary_tag']==1]\n",
    "tag1_test = bank_detail_test.loc[bank_detail_test['salary_tag']==1]"
   ]
  },
  {
   "cell_type": "code",
   "execution_count": 262,
   "metadata": {
    "collapsed": true
   },
   "outputs": [],
   "source": [
    "salary_train = tag1_train.groupby('user_id')['trade_amount'].mean()\n",
    "salary_test = tag1_test.groupby('user_id')['trade_amount'].mean()"
   ]
  },
  {
   "cell_type": "code",
   "execution_count": 263,
   "metadata": {
    "collapsed": true
   },
   "outputs": [],
   "source": [
    "bank_train = pd.concat([incomes_train,salary_train],axis=1)\n",
    "bank_test = pd.concat([incomes_test,salary_test],axis=1)"
   ]
  },
  {
   "cell_type": "code",
   "execution_count": 264,
   "metadata": {
    "collapsed": false
   },
   "outputs": [
    {
     "data": {
      "text/plain": [
       "(9294, 2)"
      ]
     },
     "execution_count": 264,
     "metadata": {},
     "output_type": "execute_result"
    }
   ],
   "source": [
    "bank_train.shape"
   ]
  },
  {
   "cell_type": "code",
   "execution_count": 265,
   "metadata": {
    "collapsed": false
   },
   "outputs": [],
   "source": [
    "new_bank_train = bank_train.reset_index()\n",
    "new_bank_test = bank_test.reset_index()#合并到总表"
   ]
  },
  {
   "cell_type": "code",
   "execution_count": 16,
   "metadata": {
    "collapsed": false
   },
   "outputs": [],
   "source": [
    "#new_bank_train.loc[new_bank_train['trade_amount'].isnull(),'tag']=0， 与平均工资收入特征重复\n",
    "#new_bank_test.loc[new_bank_test['trade_amount'].isnull(),'tag']=0"
   ]
  },
  {
   "cell_type": "code",
   "execution_count": 17,
   "metadata": {
    "collapsed": false
   },
   "outputs": [],
   "source": [
    "#new_bank_train.loc[new_bank_train['trade_amount'].notnull(),'tag']=1\n",
    "#new_bank_test.loc[new_bank_test['trade_amount'].notnull(),'tag']=1"
   ]
  },
  {
   "cell_type": "code",
   "execution_count": 266,
   "metadata": {
    "collapsed": true
   },
   "outputs": [],
   "source": [
    "bill_detail_train = pd.read_csv('train//bill_detail_train.txt',header=None,names=['user_id','tm_encode','bank_id','last_bill','last_return','credit_amount','this_bill_left','minreturn_bill','use_times','this_bill_amount','adjust_amount','recircle_rate','left_amount','load_amount','return_item'])"
   ]
  },
  {
   "cell_type": "code",
   "execution_count": 267,
   "metadata": {
    "collapsed": true
   },
   "outputs": [],
   "source": [
    "bill_detail_test = pd.read_csv('test//bill_detail_test.txt',header=None,names=['user_id','tm_encode','bank_id','last_bill','last_return','credit_amount','this_bill_left','minreturn_bill','use_times','this_bill_amount','adjust_amount','recircle_rate','left_amount','load_amount','return_item'])"
   ]
  },
  {
   "cell_type": "code",
   "execution_count": 268,
   "metadata": {
    "collapsed": false
   },
   "outputs": [
    {
     "data": {
      "text/html": [
       "<div>\n",
       "<table border=\"1\" class=\"dataframe\">\n",
       "  <thead>\n",
       "    <tr style=\"text-align: right;\">\n",
       "      <th></th>\n",
       "      <th>user_id</th>\n",
       "      <th>tm_encode</th>\n",
       "      <th>bank_id</th>\n",
       "      <th>last_bill</th>\n",
       "      <th>last_return</th>\n",
       "      <th>credit_amount</th>\n",
       "      <th>this_bill_left</th>\n",
       "      <th>minreturn_bill</th>\n",
       "      <th>use_times</th>\n",
       "      <th>this_bill_amount</th>\n",
       "      <th>adjust_amount</th>\n",
       "      <th>recircle_rate</th>\n",
       "      <th>left_amount</th>\n",
       "      <th>load_amount</th>\n",
       "      <th>return_item</th>\n",
       "    </tr>\n",
       "  </thead>\n",
       "  <tbody>\n",
       "    <tr>\n",
       "      <th>0</th>\n",
       "      <td>3150</td>\n",
       "      <td>5906744363</td>\n",
       "      <td>6</td>\n",
       "      <td>18.626118</td>\n",
       "      <td>18.661937</td>\n",
       "      <td>20.664418</td>\n",
       "      <td>18.905766</td>\n",
       "      <td>17.847133</td>\n",
       "      <td>1</td>\n",
       "      <td>0.0</td>\n",
       "      <td>0.0</td>\n",
       "      <td>0.0</td>\n",
       "      <td>0.0</td>\n",
       "      <td>19.971271</td>\n",
       "      <td>0</td>\n",
       "    </tr>\n",
       "    <tr>\n",
       "      <th>1</th>\n",
       "      <td>3150</td>\n",
       "      <td>5906744401</td>\n",
       "      <td>6</td>\n",
       "      <td>18.905766</td>\n",
       "      <td>18.909954</td>\n",
       "      <td>20.664418</td>\n",
       "      <td>19.113305</td>\n",
       "      <td>17.911506</td>\n",
       "      <td>1</td>\n",
       "      <td>0.0</td>\n",
       "      <td>0.0</td>\n",
       "      <td>0.0</td>\n",
       "      <td>0.0</td>\n",
       "      <td>19.971271</td>\n",
       "      <td>0</td>\n",
       "    </tr>\n",
       "    <tr>\n",
       "      <th>2</th>\n",
       "      <td>3150</td>\n",
       "      <td>5906744427</td>\n",
       "      <td>6</td>\n",
       "      <td>19.113305</td>\n",
       "      <td>19.150290</td>\n",
       "      <td>20.664418</td>\n",
       "      <td>19.300194</td>\n",
       "      <td>17.977610</td>\n",
       "      <td>1</td>\n",
       "      <td>0.0</td>\n",
       "      <td>0.0</td>\n",
       "      <td>0.0</td>\n",
       "      <td>0.0</td>\n",
       "      <td>19.971271</td>\n",
       "      <td>0</td>\n",
       "    </tr>\n",
       "    <tr>\n",
       "      <th>3</th>\n",
       "      <td>3150</td>\n",
       "      <td>5906744515</td>\n",
       "      <td>6</td>\n",
       "      <td>19.300194</td>\n",
       "      <td>19.300280</td>\n",
       "      <td>21.000890</td>\n",
       "      <td>20.303240</td>\n",
       "      <td>18.477177</td>\n",
       "      <td>1</td>\n",
       "      <td>0.0</td>\n",
       "      <td>0.0</td>\n",
       "      <td>0.0</td>\n",
       "      <td>0.0</td>\n",
       "      <td>20.307743</td>\n",
       "      <td>0</td>\n",
       "    </tr>\n",
       "    <tr>\n",
       "      <th>4</th>\n",
       "      <td>3150</td>\n",
       "      <td>5906744562</td>\n",
       "      <td>6</td>\n",
       "      <td>20.303240</td>\n",
       "      <td>20.307744</td>\n",
       "      <td>21.000890</td>\n",
       "      <td>20.357134</td>\n",
       "      <td>18.510985</td>\n",
       "      <td>1</td>\n",
       "      <td>0.0</td>\n",
       "      <td>0.0</td>\n",
       "      <td>0.0</td>\n",
       "      <td>0.0</td>\n",
       "      <td>20.307743</td>\n",
       "      <td>0</td>\n",
       "    </tr>\n",
       "  </tbody>\n",
       "</table>\n",
       "</div>"
      ],
      "text/plain": [
       "   user_id   tm_encode  bank_id  last_bill  last_return  credit_amount  \\\n",
       "0     3150  5906744363        6  18.626118    18.661937      20.664418   \n",
       "1     3150  5906744401        6  18.905766    18.909954      20.664418   \n",
       "2     3150  5906744427        6  19.113305    19.150290      20.664418   \n",
       "3     3150  5906744515        6  19.300194    19.300280      21.000890   \n",
       "4     3150  5906744562        6  20.303240    20.307744      21.000890   \n",
       "\n",
       "   this_bill_left  minreturn_bill  use_times  this_bill_amount  adjust_amount  \\\n",
       "0       18.905766       17.847133          1               0.0            0.0   \n",
       "1       19.113305       17.911506          1               0.0            0.0   \n",
       "2       19.300194       17.977610          1               0.0            0.0   \n",
       "3       20.303240       18.477177          1               0.0            0.0   \n",
       "4       20.357134       18.510985          1               0.0            0.0   \n",
       "\n",
       "   recircle_rate  left_amount  load_amount  return_item  \n",
       "0            0.0          0.0    19.971271            0  \n",
       "1            0.0          0.0    19.971271            0  \n",
       "2            0.0          0.0    19.971271            0  \n",
       "3            0.0          0.0    20.307743            0  \n",
       "4            0.0          0.0    20.307743            0  "
      ]
     },
     "execution_count": 268,
     "metadata": {},
     "output_type": "execute_result"
    }
   ],
   "source": [
    "bill_detail_train.head()"
   ]
  },
  {
   "cell_type": "code",
   "execution_count": 269,
   "metadata": {
    "collapsed": false,
    "scrolled": false
   },
   "outputs": [],
   "source": [
    "# 平均信用卡账单金额\n",
    "mean_bill_train = bill_detail_train.loc[:,['user_id','this_bill_amount']]\n",
    "mean_bill_test = bill_detail_test.loc[:,['user_id','this_bill_amount']]"
   ]
  },
  {
   "cell_type": "code",
   "execution_count": 270,
   "metadata": {
    "collapsed": false
   },
   "outputs": [],
   "source": [
    "mean_bill_train = mean_bill_train.loc[mean_bill_train['this_bill_amount']!=0]\n",
    "mean_bill_test = mean_bill_test.loc[mean_bill_test['this_bill_amount']!=0]"
   ]
  },
  {
   "cell_type": "code",
   "execution_count": 271,
   "metadata": {
    "collapsed": false
   },
   "outputs": [],
   "source": [
    "mean_bill_train = mean_bill_train.groupby('user_id')['this_bill_amount'].mean()\n",
    "mean_bill_test = mean_bill_test.groupby('user_id')['this_bill_amount'].mean()"
   ]
  },
  {
   "cell_type": "code",
   "execution_count": 272,
   "metadata": {
    "collapsed": false,
    "scrolled": true
   },
   "outputs": [],
   "source": [
    "# 合并到表\n",
    "mean_bill_train = pd.DataFrame(mean_bill_train).reset_index()\n",
    "mean_bill_test = pd.DataFrame(mean_bill_test).reset_index()"
   ]
  },
  {
   "cell_type": "code",
   "execution_count": 273,
   "metadata": {
    "collapsed": true
   },
   "outputs": [],
   "source": [
    "bill_detail_train['last_return_diff']=bill_detail_train['last_return']-bill_detail_train['last_bill']\n",
    "bill_detail_test['last_return_diff']=bill_detail_test['last_return']-bill_detail_test['last_bill']"
   ]
  },
  {
   "cell_type": "code",
   "execution_count": 274,
   "metadata": {
    "collapsed": false,
    "scrolled": true
   },
   "outputs": [],
   "source": [
    "bill_detail_train = bill_detail_train.drop(['tm_encode','last_bill','last_return','minreturn_bill','use_times','adjust_amount'],axis=1)\n",
    "bill_detail_test = bill_detail_test.drop(['tm_encode','last_bill','last_return','minreturn_bill','use_times','adjust_amount'],axis=1)"
   ]
  },
  {
   "cell_type": "code",
   "execution_count": 275,
   "metadata": {
    "collapsed": false
   },
   "outputs": [],
   "source": [
    "#持有信用卡数量\n",
    "banks_train = bill_detail_train[['user_id','bank_id']]\n",
    "banks_test = bill_detail_test[['user_id','bank_id']]"
   ]
  },
  {
   "cell_type": "code",
   "execution_count": 276,
   "metadata": {
    "collapsed": false
   },
   "outputs": [],
   "source": [
    "banks1_train = banks_train.drop_duplicates()\n",
    "banks1_test = banks_test.drop_duplicates()"
   ]
  },
  {
   "cell_type": "code",
   "execution_count": 277,
   "metadata": {
    "collapsed": false
   },
   "outputs": [],
   "source": [
    "banks2_train = banks1_train.groupby('user_id')\n",
    "banks2_test = banks1_test.groupby('user_id')"
   ]
  },
  {
   "cell_type": "code",
   "execution_count": 278,
   "metadata": {
    "collapsed": false,
    "scrolled": true
   },
   "outputs": [],
   "source": [
    "banks3_train = banks2_train.count()\n",
    "banks3_test = banks2_test.count()"
   ]
  },
  {
   "cell_type": "code",
   "execution_count": 279,
   "metadata": {
    "collapsed": false,
    "scrolled": true
   },
   "outputs": [],
   "source": [
    "banks4_train = banks3_train.reset_index()\n",
    "banks4_test = banks3_test.reset_index()"
   ]
  },
  {
   "cell_type": "code",
   "execution_count": 280,
   "metadata": {
    "collapsed": false
   },
   "outputs": [],
   "source": [
    "banks5_train = banks4_train.rename(columns={'bank_id':'banks'})\n",
    "banks5_test = banks4_test.rename(columns={'bank_id':'banks'})\n",
    "#合并到表"
   ]
  },
  {
   "cell_type": "code",
   "execution_count": 281,
   "metadata": {
    "collapsed": true
   },
   "outputs": [],
   "source": [
    "grouped1_train = bill_detail_train.groupby(['user_id','bank_id'])\n",
    "grouped1_test = bill_detail_test.groupby(['user_id','bank_id'])"
   ]
  },
  {
   "cell_type": "code",
   "execution_count": 282,
   "metadata": {
    "collapsed": true
   },
   "outputs": [],
   "source": [
    "#平均信用卡额度\n",
    "credit_amount_train = (grouped1_train['credit_amount'].sum())/(grouped1_train['credit_amount'].size())\n",
    "credit_amount_test = (grouped1_test['credit_amount'].sum())/(grouped1_test['credit_amount'].size())"
   ]
  },
  {
   "cell_type": "code",
   "execution_count": 283,
   "metadata": {
    "collapsed": true
   },
   "outputs": [],
   "source": [
    "credit_amounts_train = pd.DataFrame(credit_amount_train).reset_index()\n",
    "credit_amounts_test = pd.DataFrame(credit_amount_test).reset_index()"
   ]
  },
  {
   "cell_type": "code",
   "execution_count": 284,
   "metadata": {
    "collapsed": true
   },
   "outputs": [],
   "source": [
    "credit_amounts_train.rename(columns={0:'credits'},inplace=True)\n",
    "credit_amounts_test.rename(columns={0:'credits'},inplace=True)"
   ]
  },
  {
   "cell_type": "code",
   "execution_count": 285,
   "metadata": {
    "collapsed": true
   },
   "outputs": [],
   "source": [
    "user_credit_amount_train = pd.DataFrame(credit_amounts_train.groupby('user_id')['credits'].sum())\n",
    "user_credit_amount_test = pd.DataFrame(credit_amounts_test.groupby('user_id')['credits'].sum())"
   ]
  },
  {
   "cell_type": "code",
   "execution_count": 286,
   "metadata": {
    "collapsed": true
   },
   "outputs": [],
   "source": [
    "user_credit_amount_train = user_credit_amount_train.reset_index()\n",
    "user_credit_amount_test = user_credit_amount_test.reset_index()\n",
    "#合并到表"
   ]
  },
  {
   "cell_type": "code",
   "execution_count": 287,
   "metadata": {
    "collapsed": true
   },
   "outputs": [],
   "source": [
    "grouped2_train = bill_detail_train.groupby('user_id')\n",
    "grouped2_test = bill_detail_test.groupby('user_id')"
   ]
  },
  {
   "cell_type": "code",
   "execution_count": 288,
   "metadata": {
    "collapsed": false
   },
   "outputs": [],
   "source": [
    "#用户信用卡发生的总利息\n",
    "user_rate_train = grouped2_train['recircle_rate','last_return_diff'].sum().reset_index()\n",
    "user_rate_test = grouped2_test['recircle_rate','last_return_diff'].sum().reset_index()"
   ]
  },
  {
   "cell_type": "code",
   "execution_count": 82,
   "metadata": {
    "collapsed": true
   },
   "outputs": [],
   "source": [
    "#user_loan_train = pd.DataFrame(grouped2_train['load_amount'].mean()).reset_index()  与本期账单金额特征重复\n",
    "#user_loan_test = pd.DataFrame(grouped2_test['load_amount'].mean()).reset_index()"
   ]
  },
  {
   "cell_type": "code",
   "execution_count": 289,
   "metadata": {
    "collapsed": true
   },
   "outputs": [],
   "source": [
    "d_train = pd.merge(banks5_train,user_credit_amount_train,on='user_id')\n",
    "d_test = pd.merge(banks5_test,user_credit_amount_test,on='user_id')"
   ]
  },
  {
   "cell_type": "code",
   "execution_count": 290,
   "metadata": {
    "collapsed": true
   },
   "outputs": [],
   "source": [
    "e_train = pd.merge(d_train,user_rate_train,on='user_id')\n",
    "e_test = pd.merge(d_test,user_rate_test,on='user_id')"
   ]
  },
  {
   "cell_type": "code",
   "execution_count": 291,
   "metadata": {
    "collapsed": true
   },
   "outputs": [],
   "source": [
    "f_train = pd.merge(e_train,mean_bill_train,on='user_id') \n",
    "f_test = pd.merge(e_test,mean_bill_train,on='user_id') "
   ]
  },
  {
   "cell_type": "markdown",
   "metadata": {},
   "source": [
    "#合并到总表"
   ]
  },
  {
   "cell_type": "code",
   "execution_count": 95,
   "metadata": {
    "collapsed": false
   },
   "outputs": [],
   "source": [
    "#loan_time_train = pd.read_csv('train//loan_time_train.txt',header = None,names=['user_id','loan_time'])\n",
    "#loan_time_test = pd.read_csv('test//loan_time_test.txt',header = None,names=['user_id','loan_time'])"
   ]
  },
  {
   "cell_type": "code",
   "execution_count": 292,
   "metadata": {
    "collapsed": false
   },
   "outputs": [],
   "source": [
    "overdue_train = pd.read_csv('train//overdue_train.txt',header=None,names=['user_id','target'])"
   ]
  },
  {
   "cell_type": "code",
   "execution_count": 293,
   "metadata": {
    "collapsed": false
   },
   "outputs": [],
   "source": [
    "browse_history_train = pd.read_csv('train//browse_history_train.txt',header=None,names=['user_id','tm_encode_2','browse_data','browse_tag'])"
   ]
  },
  {
   "cell_type": "code",
   "execution_count": 294,
   "metadata": {
    "collapsed": true
   },
   "outputs": [],
   "source": [
    "browse_history_test = pd.read_csv('test//browse_history_test.txt',header=None,names=['user_id','tm_encode_2','browse_data','browse_tag'])"
   ]
  },
  {
   "cell_type": "code",
   "execution_count": 295,
   "metadata": {
    "collapsed": false
   },
   "outputs": [],
   "source": [
    "#用户总浏览频次\n",
    "browse_times_train = browse_history_train[['user_id','tm_encode_2']]"
   ]
  },
  {
   "cell_type": "code",
   "execution_count": 296,
   "metadata": {
    "collapsed": true
   },
   "outputs": [],
   "source": [
    "browse_times_test = browse_history_test[['user_id','tm_encode_2']]"
   ]
  },
  {
   "cell_type": "code",
   "execution_count": 297,
   "metadata": {
    "collapsed": false
   },
   "outputs": [],
   "source": [
    "browse_train = browse_times_train.drop_duplicates()\n",
    "browse_test = browse_times_test.drop_duplicates()"
   ]
  },
  {
   "cell_type": "code",
   "execution_count": 298,
   "metadata": {
    "collapsed": false
   },
   "outputs": [],
   "source": [
    "browse1_train = browse_train.groupby('user_id')\n",
    "browse1_test = browse_test.groupby('user_id')"
   ]
  },
  {
   "cell_type": "code",
   "execution_count": 299,
   "metadata": {
    "collapsed": false,
    "scrolled": false
   },
   "outputs": [],
   "source": [
    "browse2_train = browse1_train['tm_encode_2'].count()\n",
    "browse2_test = browse1_test['tm_encode_2'].count()"
   ]
  },
  {
   "cell_type": "code",
   "execution_count": 300,
   "metadata": {
    "collapsed": false,
    "scrolled": true
   },
   "outputs": [],
   "source": [
    "browse3_train = pd.DataFrame(browse2_train).reset_index()\n",
    "browse3_test = pd.DataFrame(browse2_test).reset_index()"
   ]
  },
  {
   "cell_type": "code",
   "execution_count": 301,
   "metadata": {
    "collapsed": false
   },
   "outputs": [
    {
     "data": {
      "text/plain": [
       "(47330, 2)"
      ]
     },
     "execution_count": 301,
     "metadata": {},
     "output_type": "execute_result"
    }
   ],
   "source": [
    "browse3_train.shape"
   ]
  },
  {
   "cell_type": "code",
   "execution_count": null,
   "metadata": {
    "collapsed": true
   },
   "outputs": [],
   "source": []
  },
  {
   "cell_type": "code",
   "execution_count": 305,
   "metadata": {
    "collapsed": false,
    "scrolled": true
   },
   "outputs": [],
   "source": [
    "df_train = pd.merge(user_info_train,overdue_train,on='user_id')"
   ]
  },
  {
   "cell_type": "code",
   "execution_count": 120,
   "metadata": {
    "collapsed": true
   },
   "outputs": [],
   "source": [
    "#df0_train = pd.merge(df_train,loan_time_train,on='user_id')\n",
    "#df0_test = pd.merge(user_info_test,loan_time_test,on='user_id')"
   ]
  },
  {
   "cell_type": "code",
   "execution_count": 306,
   "metadata": {
    "collapsed": false
   },
   "outputs": [],
   "source": [
    "df1_train = pd.merge(df_train,f_train,on='user_id',how='left')\n",
    "df1_test = pd.merge(user_info_test,f_test,on='user_id',how='left')"
   ]
  },
  {
   "cell_type": "code",
   "execution_count": 307,
   "metadata": {
    "collapsed": true
   },
   "outputs": [],
   "source": [
    "df2_train = pd.merge(df1_train,new_bank_train,on='user_id',how='left')\n",
    "df2_test = pd.merge(df1_test,new_bank_test,on='user_id',how='left')"
   ]
  },
  {
   "cell_type": "code",
   "execution_count": 310,
   "metadata": {
    "collapsed": false
   },
   "outputs": [
    {
     "data": {
      "text/plain": [
       "(55596, 14)"
      ]
     },
     "execution_count": 310,
     "metadata": {},
     "output_type": "execute_result"
    }
   ],
   "source": [
    "df2_train.shape"
   ]
  },
  {
   "cell_type": "code",
   "execution_count": 309,
   "metadata": {
    "collapsed": false
   },
   "outputs": [],
   "source": [
    "df3_train = pd.merge(df2_train,browse3_train,on='user_id',how='left')\n",
    "df3_test = pd.merge(df2_test,browse3_test,on='user_id',how='left')"
   ]
  },
  {
   "cell_type": "code",
   "execution_count": 311,
   "metadata": {
    "collapsed": false
   },
   "outputs": [
    {
     "data": {
      "text/html": [
       "<div>\n",
       "<table border=\"1\" class=\"dataframe\">\n",
       "  <thead>\n",
       "    <tr style=\"text-align: right;\">\n",
       "      <th></th>\n",
       "      <th>user_id</th>\n",
       "      <th>sex</th>\n",
       "      <th>occupation</th>\n",
       "      <th>education</th>\n",
       "      <th>marriage</th>\n",
       "      <th>household</th>\n",
       "      <th>target</th>\n",
       "      <th>banks</th>\n",
       "      <th>credits</th>\n",
       "      <th>recircle_rate</th>\n",
       "      <th>last_return_diff</th>\n",
       "      <th>this_bill_amount</th>\n",
       "      <th>netincome</th>\n",
       "      <th>trade_amount</th>\n",
       "      <th>tm_encode_2</th>\n",
       "    </tr>\n",
       "  </thead>\n",
       "  <tbody>\n",
       "    <tr>\n",
       "      <th>0</th>\n",
       "      <td>3150</td>\n",
       "      <td>1</td>\n",
       "      <td>2</td>\n",
       "      <td>4</td>\n",
       "      <td>1</td>\n",
       "      <td>4</td>\n",
       "      <td>0</td>\n",
       "      <td>5.0</td>\n",
       "      <td>82.563651</td>\n",
       "      <td>0.000000</td>\n",
       "      <td>29.604743</td>\n",
       "      <td>19.680223</td>\n",
       "      <td>NaN</td>\n",
       "      <td>NaN</td>\n",
       "      <td>NaN</td>\n",
       "    </tr>\n",
       "    <tr>\n",
       "      <th>1</th>\n",
       "      <td>6965</td>\n",
       "      <td>1</td>\n",
       "      <td>2</td>\n",
       "      <td>4</td>\n",
       "      <td>3</td>\n",
       "      <td>2</td>\n",
       "      <td>0</td>\n",
       "      <td>2.0</td>\n",
       "      <td>39.942542</td>\n",
       "      <td>62.082722</td>\n",
       "      <td>10.922189</td>\n",
       "      <td>18.825107</td>\n",
       "      <td>-2261.681747</td>\n",
       "      <td>NaN</td>\n",
       "      <td>34.0</td>\n",
       "    </tr>\n",
       "    <tr>\n",
       "      <th>2</th>\n",
       "      <td>1265</td>\n",
       "      <td>1</td>\n",
       "      <td>3</td>\n",
       "      <td>4</td>\n",
       "      <td>3</td>\n",
       "      <td>1</td>\n",
       "      <td>0</td>\n",
       "      <td>2.0</td>\n",
       "      <td>39.959643</td>\n",
       "      <td>279.476096</td>\n",
       "      <td>-190.300944</td>\n",
       "      <td>19.007284</td>\n",
       "      <td>-1954.250868</td>\n",
       "      <td>NaN</td>\n",
       "      <td>3.0</td>\n",
       "    </tr>\n",
       "    <tr>\n",
       "      <th>3</th>\n",
       "      <td>6360</td>\n",
       "      <td>1</td>\n",
       "      <td>2</td>\n",
       "      <td>4</td>\n",
       "      <td>3</td>\n",
       "      <td>2</td>\n",
       "      <td>0</td>\n",
       "      <td>8.0</td>\n",
       "      <td>129.424333</td>\n",
       "      <td>1161.246092</td>\n",
       "      <td>-235.075394</td>\n",
       "      <td>18.631734</td>\n",
       "      <td>NaN</td>\n",
       "      <td>NaN</td>\n",
       "      <td>3.0</td>\n",
       "    </tr>\n",
       "    <tr>\n",
       "      <th>4</th>\n",
       "      <td>2583</td>\n",
       "      <td>2</td>\n",
       "      <td>2</td>\n",
       "      <td>2</td>\n",
       "      <td>1</td>\n",
       "      <td>1</td>\n",
       "      <td>0</td>\n",
       "      <td>3.0</td>\n",
       "      <td>57.061862</td>\n",
       "      <td>155.478508</td>\n",
       "      <td>1.760083</td>\n",
       "      <td>18.762691</td>\n",
       "      <td>-4327.835360</td>\n",
       "      <td>NaN</td>\n",
       "      <td>5.0</td>\n",
       "    </tr>\n",
       "    <tr>\n",
       "      <th>5</th>\n",
       "      <td>34764</td>\n",
       "      <td>1</td>\n",
       "      <td>2</td>\n",
       "      <td>3</td>\n",
       "      <td>3</td>\n",
       "      <td>1</td>\n",
       "      <td>1</td>\n",
       "      <td>4.0</td>\n",
       "      <td>62.175574</td>\n",
       "      <td>0.000000</td>\n",
       "      <td>-15.329336</td>\n",
       "      <td>20.443876</td>\n",
       "      <td>NaN</td>\n",
       "      <td>NaN</td>\n",
       "      <td>24.0</td>\n",
       "    </tr>\n",
       "    <tr>\n",
       "      <th>6</th>\n",
       "      <td>9554</td>\n",
       "      <td>1</td>\n",
       "      <td>2</td>\n",
       "      <td>4</td>\n",
       "      <td>2</td>\n",
       "      <td>2</td>\n",
       "      <td>0</td>\n",
       "      <td>2.0</td>\n",
       "      <td>0.000000</td>\n",
       "      <td>111.933703</td>\n",
       "      <td>0.529815</td>\n",
       "      <td>22.916942</td>\n",
       "      <td>NaN</td>\n",
       "      <td>NaN</td>\n",
       "      <td>NaN</td>\n",
       "    </tr>\n",
       "    <tr>\n",
       "      <th>7</th>\n",
       "      <td>6720</td>\n",
       "      <td>1</td>\n",
       "      <td>2</td>\n",
       "      <td>3</td>\n",
       "      <td>3</td>\n",
       "      <td>2</td>\n",
       "      <td>0</td>\n",
       "      <td>1.0</td>\n",
       "      <td>20.559057</td>\n",
       "      <td>0.000000</td>\n",
       "      <td>-0.979485</td>\n",
       "      <td>19.460566</td>\n",
       "      <td>NaN</td>\n",
       "      <td>NaN</td>\n",
       "      <td>2.0</td>\n",
       "    </tr>\n",
       "    <tr>\n",
       "      <th>8</th>\n",
       "      <td>29165</td>\n",
       "      <td>1</td>\n",
       "      <td>2</td>\n",
       "      <td>4</td>\n",
       "      <td>1</td>\n",
       "      <td>4</td>\n",
       "      <td>0</td>\n",
       "      <td>2.0</td>\n",
       "      <td>39.942541</td>\n",
       "      <td>0.000000</td>\n",
       "      <td>59.475954</td>\n",
       "      <td>19.454963</td>\n",
       "      <td>-2822.253358</td>\n",
       "      <td>14.473609</td>\n",
       "      <td>6.0</td>\n",
       "    </tr>\n",
       "    <tr>\n",
       "      <th>9</th>\n",
       "      <td>6966</td>\n",
       "      <td>1</td>\n",
       "      <td>2</td>\n",
       "      <td>3</td>\n",
       "      <td>1</td>\n",
       "      <td>4</td>\n",
       "      <td>0</td>\n",
       "      <td>4.0</td>\n",
       "      <td>74.615248</td>\n",
       "      <td>2428.861889</td>\n",
       "      <td>-279.329197</td>\n",
       "      <td>17.755971</td>\n",
       "      <td>NaN</td>\n",
       "      <td>NaN</td>\n",
       "      <td>NaN</td>\n",
       "    </tr>\n",
       "    <tr>\n",
       "      <th>10</th>\n",
       "      <td>35421</td>\n",
       "      <td>1</td>\n",
       "      <td>2</td>\n",
       "      <td>2</td>\n",
       "      <td>3</td>\n",
       "      <td>1</td>\n",
       "      <td>0</td>\n",
       "      <td>6.0</td>\n",
       "      <td>121.801698</td>\n",
       "      <td>196.229886</td>\n",
       "      <td>-101.405464</td>\n",
       "      <td>18.968235</td>\n",
       "      <td>NaN</td>\n",
       "      <td>NaN</td>\n",
       "      <td>16.0</td>\n",
       "    </tr>\n",
       "    <tr>\n",
       "      <th>11</th>\n",
       "      <td>27162</td>\n",
       "      <td>1</td>\n",
       "      <td>2</td>\n",
       "      <td>3</td>\n",
       "      <td>3</td>\n",
       "      <td>2</td>\n",
       "      <td>0</td>\n",
       "      <td>1.0</td>\n",
       "      <td>20.664418</td>\n",
       "      <td>0.000000</td>\n",
       "      <td>-0.785251</td>\n",
       "      <td>18.477115</td>\n",
       "      <td>NaN</td>\n",
       "      <td>NaN</td>\n",
       "      <td>5.0</td>\n",
       "    </tr>\n",
       "    <tr>\n",
       "      <th>12</th>\n",
       "      <td>2443</td>\n",
       "      <td>1</td>\n",
       "      <td>4</td>\n",
       "      <td>4</td>\n",
       "      <td>3</td>\n",
       "      <td>1</td>\n",
       "      <td>0</td>\n",
       "      <td>7.0</td>\n",
       "      <td>124.565769</td>\n",
       "      <td>649.094899</td>\n",
       "      <td>-2004.591771</td>\n",
       "      <td>18.311309</td>\n",
       "      <td>-742.501582</td>\n",
       "      <td>NaN</td>\n",
       "      <td>4.0</td>\n",
       "    </tr>\n",
       "    <tr>\n",
       "      <th>13</th>\n",
       "      <td>19579</td>\n",
       "      <td>1</td>\n",
       "      <td>2</td>\n",
       "      <td>2</td>\n",
       "      <td>3</td>\n",
       "      <td>1</td>\n",
       "      <td>0</td>\n",
       "      <td>3.0</td>\n",
       "      <td>46.735487</td>\n",
       "      <td>0.000000</td>\n",
       "      <td>1334.922813</td>\n",
       "      <td>21.100199</td>\n",
       "      <td>NaN</td>\n",
       "      <td>NaN</td>\n",
       "      <td>19.0</td>\n",
       "    </tr>\n",
       "    <tr>\n",
       "      <th>14</th>\n",
       "      <td>590</td>\n",
       "      <td>1</td>\n",
       "      <td>2</td>\n",
       "      <td>4</td>\n",
       "      <td>1</td>\n",
       "      <td>1</td>\n",
       "      <td>1</td>\n",
       "      <td>NaN</td>\n",
       "      <td>NaN</td>\n",
       "      <td>NaN</td>\n",
       "      <td>NaN</td>\n",
       "      <td>NaN</td>\n",
       "      <td>-4936.771965</td>\n",
       "      <td>NaN</td>\n",
       "      <td>1.0</td>\n",
       "    </tr>\n",
       "    <tr>\n",
       "      <th>15</th>\n",
       "      <td>42390</td>\n",
       "      <td>1</td>\n",
       "      <td>2</td>\n",
       "      <td>4</td>\n",
       "      <td>3</td>\n",
       "      <td>2</td>\n",
       "      <td>0</td>\n",
       "      <td>2.0</td>\n",
       "      <td>33.273822</td>\n",
       "      <td>409.366182</td>\n",
       "      <td>-549.146612</td>\n",
       "      <td>17.631150</td>\n",
       "      <td>NaN</td>\n",
       "      <td>NaN</td>\n",
       "      <td>3.0</td>\n",
       "    </tr>\n",
       "    <tr>\n",
       "      <th>16</th>\n",
       "      <td>43106</td>\n",
       "      <td>1</td>\n",
       "      <td>2</td>\n",
       "      <td>4</td>\n",
       "      <td>3</td>\n",
       "      <td>4</td>\n",
       "      <td>0</td>\n",
       "      <td>5.0</td>\n",
       "      <td>59.432593</td>\n",
       "      <td>622.596443</td>\n",
       "      <td>-157.294642</td>\n",
       "      <td>19.707924</td>\n",
       "      <td>NaN</td>\n",
       "      <td>NaN</td>\n",
       "      <td>6.0</td>\n",
       "    </tr>\n",
       "    <tr>\n",
       "      <th>17</th>\n",
       "      <td>12994</td>\n",
       "      <td>1</td>\n",
       "      <td>2</td>\n",
       "      <td>3</td>\n",
       "      <td>1</td>\n",
       "      <td>1</td>\n",
       "      <td>0</td>\n",
       "      <td>NaN</td>\n",
       "      <td>NaN</td>\n",
       "      <td>NaN</td>\n",
       "      <td>NaN</td>\n",
       "      <td>NaN</td>\n",
       "      <td>NaN</td>\n",
       "      <td>NaN</td>\n",
       "      <td>6.0</td>\n",
       "    </tr>\n",
       "    <tr>\n",
       "      <th>18</th>\n",
       "      <td>10313</td>\n",
       "      <td>1</td>\n",
       "      <td>3</td>\n",
       "      <td>4</td>\n",
       "      <td>2</td>\n",
       "      <td>2</td>\n",
       "      <td>0</td>\n",
       "      <td>2.0</td>\n",
       "      <td>39.283150</td>\n",
       "      <td>0.000000</td>\n",
       "      <td>16.683287</td>\n",
       "      <td>16.216673</td>\n",
       "      <td>-4436.668043</td>\n",
       "      <td>NaN</td>\n",
       "      <td>7.0</td>\n",
       "    </tr>\n",
       "    <tr>\n",
       "      <th>19</th>\n",
       "      <td>26702</td>\n",
       "      <td>1</td>\n",
       "      <td>2</td>\n",
       "      <td>4</td>\n",
       "      <td>1</td>\n",
       "      <td>4</td>\n",
       "      <td>0</td>\n",
       "      <td>3.0</td>\n",
       "      <td>60.390027</td>\n",
       "      <td>0.000000</td>\n",
       "      <td>25.599602</td>\n",
       "      <td>19.603047</td>\n",
       "      <td>NaN</td>\n",
       "      <td>NaN</td>\n",
       "      <td>1.0</td>\n",
       "    </tr>\n",
       "    <tr>\n",
       "      <th>20</th>\n",
       "      <td>55354</td>\n",
       "      <td>1</td>\n",
       "      <td>2</td>\n",
       "      <td>2</td>\n",
       "      <td>3</td>\n",
       "      <td>2</td>\n",
       "      <td>0</td>\n",
       "      <td>7.0</td>\n",
       "      <td>121.286450</td>\n",
       "      <td>62.232052</td>\n",
       "      <td>91.810980</td>\n",
       "      <td>20.193485</td>\n",
       "      <td>-2549.638401</td>\n",
       "      <td>NaN</td>\n",
       "      <td>15.0</td>\n",
       "    </tr>\n",
       "  </tbody>\n",
       "</table>\n",
       "</div>"
      ],
      "text/plain": [
       "    user_id  sex  occupation  education  marriage  household  target  banks  \\\n",
       "0      3150    1           2          4         1          4       0    5.0   \n",
       "1      6965    1           2          4         3          2       0    2.0   \n",
       "2      1265    1           3          4         3          1       0    2.0   \n",
       "3      6360    1           2          4         3          2       0    8.0   \n",
       "4      2583    2           2          2         1          1       0    3.0   \n",
       "5     34764    1           2          3         3          1       1    4.0   \n",
       "6      9554    1           2          4         2          2       0    2.0   \n",
       "7      6720    1           2          3         3          2       0    1.0   \n",
       "8     29165    1           2          4         1          4       0    2.0   \n",
       "9      6966    1           2          3         1          4       0    4.0   \n",
       "10    35421    1           2          2         3          1       0    6.0   \n",
       "11    27162    1           2          3         3          2       0    1.0   \n",
       "12     2443    1           4          4         3          1       0    7.0   \n",
       "13    19579    1           2          2         3          1       0    3.0   \n",
       "14      590    1           2          4         1          1       1    NaN   \n",
       "15    42390    1           2          4         3          2       0    2.0   \n",
       "16    43106    1           2          4         3          4       0    5.0   \n",
       "17    12994    1           2          3         1          1       0    NaN   \n",
       "18    10313    1           3          4         2          2       0    2.0   \n",
       "19    26702    1           2          4         1          4       0    3.0   \n",
       "20    55354    1           2          2         3          2       0    7.0   \n",
       "\n",
       "       credits  recircle_rate  last_return_diff  this_bill_amount  \\\n",
       "0    82.563651       0.000000         29.604743         19.680223   \n",
       "1    39.942542      62.082722         10.922189         18.825107   \n",
       "2    39.959643     279.476096       -190.300944         19.007284   \n",
       "3   129.424333    1161.246092       -235.075394         18.631734   \n",
       "4    57.061862     155.478508          1.760083         18.762691   \n",
       "5    62.175574       0.000000        -15.329336         20.443876   \n",
       "6     0.000000     111.933703          0.529815         22.916942   \n",
       "7    20.559057       0.000000         -0.979485         19.460566   \n",
       "8    39.942541       0.000000         59.475954         19.454963   \n",
       "9    74.615248    2428.861889       -279.329197         17.755971   \n",
       "10  121.801698     196.229886       -101.405464         18.968235   \n",
       "11   20.664418       0.000000         -0.785251         18.477115   \n",
       "12  124.565769     649.094899      -2004.591771         18.311309   \n",
       "13   46.735487       0.000000       1334.922813         21.100199   \n",
       "14         NaN            NaN               NaN               NaN   \n",
       "15   33.273822     409.366182       -549.146612         17.631150   \n",
       "16   59.432593     622.596443       -157.294642         19.707924   \n",
       "17         NaN            NaN               NaN               NaN   \n",
       "18   39.283150       0.000000         16.683287         16.216673   \n",
       "19   60.390027       0.000000         25.599602         19.603047   \n",
       "20  121.286450      62.232052         91.810980         20.193485   \n",
       "\n",
       "      netincome  trade_amount  tm_encode_2  \n",
       "0           NaN           NaN          NaN  \n",
       "1  -2261.681747           NaN         34.0  \n",
       "2  -1954.250868           NaN          3.0  \n",
       "3           NaN           NaN          3.0  \n",
       "4  -4327.835360           NaN          5.0  \n",
       "5           NaN           NaN         24.0  \n",
       "6           NaN           NaN          NaN  \n",
       "7           NaN           NaN          2.0  \n",
       "8  -2822.253358     14.473609          6.0  \n",
       "9           NaN           NaN          NaN  \n",
       "10          NaN           NaN         16.0  \n",
       "11          NaN           NaN          5.0  \n",
       "12  -742.501582           NaN          4.0  \n",
       "13          NaN           NaN         19.0  \n",
       "14 -4936.771965           NaN          1.0  \n",
       "15          NaN           NaN          3.0  \n",
       "16          NaN           NaN          6.0  \n",
       "17          NaN           NaN          6.0  \n",
       "18 -4436.668043           NaN          7.0  \n",
       "19          NaN           NaN          1.0  \n",
       "20 -2549.638401           NaN         15.0  "
      ]
     },
     "execution_count": 311,
     "metadata": {},
     "output_type": "execute_result"
    }
   ],
   "source": [
    "df3_train.loc[:20]"
   ]
  },
  {
   "cell_type": "code",
   "execution_count": null,
   "metadata": {
    "collapsed": true
   },
   "outputs": [],
   "source": []
  },
  {
   "cell_type": "code",
   "execution_count": 76,
   "metadata": {
    "collapsed": true
   },
   "outputs": [],
   "source": [
    "#df3_train['netincome'].fillna(df3_train['netincome'].mean(),inplace=True)\n",
    "#df3_test['netincome'].fillna(df3_test['netincome'].mean(),inplace=True)"
   ]
  },
  {
   "cell_type": "code",
   "execution_count": 77,
   "metadata": {
    "collapsed": false,
    "scrolled": true
   },
   "outputs": [],
   "source": [
    "#df3_train['trade_amount'].fillna(0,inplace=True)\n",
    "#df3_test['trade_amount'].fillna(0,inplace=True)"
   ]
  },
  {
   "cell_type": "code",
   "execution_count": 78,
   "metadata": {
    "collapsed": false
   },
   "outputs": [],
   "source": [
    "#df3_train['tag'].fillna(0,inplace=True)\n",
    "#df3_test['tag'].fillna(0,inplace=True)"
   ]
  },
  {
   "cell_type": "code",
   "execution_count": 79,
   "metadata": {
    "collapsed": true
   },
   "outputs": [],
   "source": [
    "#df3_train['tm_encode_2'].fillna(0,inplace=True)\n",
    "#df3_test['tm_encode_2'].fillna(0,inplace=True)"
   ]
  },
  {
   "cell_type": "code",
   "execution_count": 312,
   "metadata": {
    "collapsed": false
   },
   "outputs": [],
   "source": [
    "df3_train.fillna(0,inplace=True)\n",
    "df3_test.fillna(0,inplace=True)"
   ]
  },
  {
   "cell_type": "code",
   "execution_count": 313,
   "metadata": {
    "collapsed": false
   },
   "outputs": [
    {
     "data": {
      "text/html": [
       "<div>\n",
       "<table border=\"1\" class=\"dataframe\">\n",
       "  <thead>\n",
       "    <tr style=\"text-align: right;\">\n",
       "      <th></th>\n",
       "      <th>user_id</th>\n",
       "      <th>sex</th>\n",
       "      <th>occupation</th>\n",
       "      <th>education</th>\n",
       "      <th>marriage</th>\n",
       "      <th>household</th>\n",
       "      <th>target</th>\n",
       "      <th>banks</th>\n",
       "      <th>credits</th>\n",
       "      <th>recircle_rate</th>\n",
       "      <th>last_return_diff</th>\n",
       "      <th>this_bill_amount</th>\n",
       "      <th>netincome</th>\n",
       "      <th>trade_amount</th>\n",
       "      <th>tm_encode_2</th>\n",
       "    </tr>\n",
       "  </thead>\n",
       "  <tbody>\n",
       "    <tr>\n",
       "      <th>0</th>\n",
       "      <td>3150</td>\n",
       "      <td>1</td>\n",
       "      <td>2</td>\n",
       "      <td>4</td>\n",
       "      <td>1</td>\n",
       "      <td>4</td>\n",
       "      <td>0</td>\n",
       "      <td>5.0</td>\n",
       "      <td>82.563651</td>\n",
       "      <td>0.000000</td>\n",
       "      <td>29.604743</td>\n",
       "      <td>19.680223</td>\n",
       "      <td>0.000000</td>\n",
       "      <td>0.0</td>\n",
       "      <td>0.0</td>\n",
       "    </tr>\n",
       "    <tr>\n",
       "      <th>1</th>\n",
       "      <td>6965</td>\n",
       "      <td>1</td>\n",
       "      <td>2</td>\n",
       "      <td>4</td>\n",
       "      <td>3</td>\n",
       "      <td>2</td>\n",
       "      <td>0</td>\n",
       "      <td>2.0</td>\n",
       "      <td>39.942542</td>\n",
       "      <td>62.082722</td>\n",
       "      <td>10.922189</td>\n",
       "      <td>18.825107</td>\n",
       "      <td>-2261.681747</td>\n",
       "      <td>0.0</td>\n",
       "      <td>34.0</td>\n",
       "    </tr>\n",
       "    <tr>\n",
       "      <th>2</th>\n",
       "      <td>1265</td>\n",
       "      <td>1</td>\n",
       "      <td>3</td>\n",
       "      <td>4</td>\n",
       "      <td>3</td>\n",
       "      <td>1</td>\n",
       "      <td>0</td>\n",
       "      <td>2.0</td>\n",
       "      <td>39.959643</td>\n",
       "      <td>279.476096</td>\n",
       "      <td>-190.300944</td>\n",
       "      <td>19.007284</td>\n",
       "      <td>-1954.250868</td>\n",
       "      <td>0.0</td>\n",
       "      <td>3.0</td>\n",
       "    </tr>\n",
       "    <tr>\n",
       "      <th>3</th>\n",
       "      <td>6360</td>\n",
       "      <td>1</td>\n",
       "      <td>2</td>\n",
       "      <td>4</td>\n",
       "      <td>3</td>\n",
       "      <td>2</td>\n",
       "      <td>0</td>\n",
       "      <td>8.0</td>\n",
       "      <td>129.424333</td>\n",
       "      <td>1161.246092</td>\n",
       "      <td>-235.075394</td>\n",
       "      <td>18.631734</td>\n",
       "      <td>0.000000</td>\n",
       "      <td>0.0</td>\n",
       "      <td>3.0</td>\n",
       "    </tr>\n",
       "    <tr>\n",
       "      <th>4</th>\n",
       "      <td>2583</td>\n",
       "      <td>2</td>\n",
       "      <td>2</td>\n",
       "      <td>2</td>\n",
       "      <td>1</td>\n",
       "      <td>1</td>\n",
       "      <td>0</td>\n",
       "      <td>3.0</td>\n",
       "      <td>57.061862</td>\n",
       "      <td>155.478508</td>\n",
       "      <td>1.760083</td>\n",
       "      <td>18.762691</td>\n",
       "      <td>-4327.835360</td>\n",
       "      <td>0.0</td>\n",
       "      <td>5.0</td>\n",
       "    </tr>\n",
       "  </tbody>\n",
       "</table>\n",
       "</div>"
      ],
      "text/plain": [
       "   user_id  sex  occupation  education  marriage  household  target  banks  \\\n",
       "0     3150    1           2          4         1          4       0    5.0   \n",
       "1     6965    1           2          4         3          2       0    2.0   \n",
       "2     1265    1           3          4         3          1       0    2.0   \n",
       "3     6360    1           2          4         3          2       0    8.0   \n",
       "4     2583    2           2          2         1          1       0    3.0   \n",
       "\n",
       "      credits  recircle_rate  last_return_diff  this_bill_amount    netincome  \\\n",
       "0   82.563651       0.000000         29.604743         19.680223     0.000000   \n",
       "1   39.942542      62.082722         10.922189         18.825107 -2261.681747   \n",
       "2   39.959643     279.476096       -190.300944         19.007284 -1954.250868   \n",
       "3  129.424333    1161.246092       -235.075394         18.631734     0.000000   \n",
       "4   57.061862     155.478508          1.760083         18.762691 -4327.835360   \n",
       "\n",
       "   trade_amount  tm_encode_2  \n",
       "0           0.0          0.0  \n",
       "1           0.0         34.0  \n",
       "2           0.0          3.0  \n",
       "3           0.0          3.0  \n",
       "4           0.0          5.0  "
      ]
     },
     "execution_count": 313,
     "metadata": {},
     "output_type": "execute_result"
    }
   ],
   "source": [
    "df3_train.head()"
   ]
  },
  {
   "cell_type": "code",
   "execution_count": 315,
   "metadata": {
    "collapsed": false
   },
   "outputs": [],
   "source": [
    "X_test = df3_test.drop(['user_id'],axis=1)"
   ]
  },
  {
   "cell_type": "code",
   "execution_count": null,
   "metadata": {
    "collapsed": true
   },
   "outputs": [],
   "source": []
  },
  {
   "cell_type": "code",
   "execution_count": 316,
   "metadata": {
    "collapsed": false
   },
   "outputs": [],
   "source": [
    "X = df3_train.drop(['user_id','target'],axis=1)\n",
    "Y = df3_train['target']"
   ]
  },
  {
   "cell_type": "code",
   "execution_count": 317,
   "metadata": {
    "collapsed": false
   },
   "outputs": [
    {
     "data": {
      "text/plain": [
       "sex                   int64\n",
       "occupation            int64\n",
       "education             int64\n",
       "marriage              int64\n",
       "household             int64\n",
       "banks               float64\n",
       "credits             float64\n",
       "recircle_rate       float64\n",
       "last_return_diff    float64\n",
       "this_bill_amount    float64\n",
       "netincome           float64\n",
       "trade_amount        float64\n",
       "tm_encode_2         float64\n",
       "dtype: object"
      ]
     },
     "execution_count": 317,
     "metadata": {},
     "output_type": "execute_result"
    }
   ],
   "source": [
    "X.dtypes"
   ]
  },
  {
   "cell_type": "code",
   "execution_count": null,
   "metadata": {
    "collapsed": true
   },
   "outputs": [],
   "source": []
  },
  {
   "cell_type": "code",
   "execution_count": 318,
   "metadata": {
    "collapsed": true
   },
   "outputs": [],
   "source": [
    "from sklearn.cross_validation import train_test_split"
   ]
  },
  {
   "cell_type": "code",
   "execution_count": 319,
   "metadata": {
    "collapsed": true
   },
   "outputs": [],
   "source": [
    "xtrain,xtest,ytrain,ytest = train_test_split(X,Y,train_size=0.7)"
   ]
  },
  {
   "cell_type": "code",
   "execution_count": null,
   "metadata": {
    "collapsed": true
   },
   "outputs": [],
   "source": []
  },
  {
   "cell_type": "code",
   "execution_count": 156,
   "metadata": {
    "collapsed": true
   },
   "outputs": [],
   "source": [
    "from sklearn.ensemble import RandomForestClassifier"
   ]
  },
  {
   "cell_type": "code",
   "execution_count": 157,
   "metadata": {
    "collapsed": true
   },
   "outputs": [],
   "source": [
    "rf = RandomForestClassifier(n_estimators=100)"
   ]
  },
  {
   "cell_type": "code",
   "execution_count": 158,
   "metadata": {
    "collapsed": false
   },
   "outputs": [
    {
     "data": {
      "text/plain": [
       "RandomForestClassifier(bootstrap=True, class_weight=None, criterion='gini',\n",
       "            max_depth=None, max_features='auto', max_leaf_nodes=None,\n",
       "            min_samples_leaf=1, min_samples_split=2,\n",
       "            min_weight_fraction_leaf=0.0, n_estimators=100, n_jobs=1,\n",
       "            oob_score=False, random_state=None, verbose=0,\n",
       "            warm_start=False)"
      ]
     },
     "execution_count": 158,
     "metadata": {},
     "output_type": "execute_result"
    }
   ],
   "source": [
    "rf.fit(trainx,ytrain)"
   ]
  },
  {
   "cell_type": "code",
   "execution_count": 159,
   "metadata": {
    "collapsed": false
   },
   "outputs": [
    {
     "data": {
      "text/plain": [
       "0.87139516757599378"
      ]
     },
     "execution_count": 159,
     "metadata": {},
     "output_type": "execute_result"
    }
   ],
   "source": [
    "rf.score(testx,ytest)"
   ]
  },
  {
   "cell_type": "code",
   "execution_count": 160,
   "metadata": {
    "collapsed": false
   },
   "outputs": [
    {
     "data": {
      "text/plain": [
       "array([[ 0.85,  0.15],\n",
       "       [ 0.93,  0.07],\n",
       "       [ 0.84,  0.16],\n",
       "       ..., \n",
       "       [ 0.97,  0.03],\n",
       "       [ 0.92,  0.08],\n",
       "       [ 0.71,  0.29]])"
      ]
     },
     "execution_count": 160,
     "metadata": {},
     "output_type": "execute_result"
    }
   ],
   "source": [
    "rf.predict_proba(testx)"
   ]
  },
  {
   "cell_type": "code",
   "execution_count": null,
   "metadata": {
    "collapsed": true
   },
   "outputs": [],
   "source": []
  },
  {
   "cell_type": "code",
   "execution_count": 320,
   "metadata": {
    "collapsed": true
   },
   "outputs": [],
   "source": [
    "from sklearn.ensemble import GradientBoostingClassifier"
   ]
  },
  {
   "cell_type": "code",
   "execution_count": 334,
   "metadata": {
    "collapsed": true
   },
   "outputs": [],
   "source": [
    "gbc = GradientBoostingClassifier()"
   ]
  },
  {
   "cell_type": "code",
   "execution_count": 335,
   "metadata": {
    "collapsed": false
   },
   "outputs": [
    {
     "data": {
      "text/plain": [
       "GradientBoostingClassifier(init=None, learning_rate=0.1, loss='deviance',\n",
       "              max_depth=3, max_features=None, max_leaf_nodes=None,\n",
       "              min_samples_leaf=1, min_samples_split=2,\n",
       "              min_weight_fraction_leaf=0.0, n_estimators=100,\n",
       "              presort='auto', random_state=None, subsample=1.0, verbose=0,\n",
       "              warm_start=False)"
      ]
     },
     "execution_count": 335,
     "metadata": {},
     "output_type": "execute_result"
    }
   ],
   "source": [
    "gbc.fit(xtrain,ytrain)"
   ]
  },
  {
   "cell_type": "code",
   "execution_count": 336,
   "metadata": {
    "collapsed": false
   },
   "outputs": [
    {
     "data": {
      "text/plain": [
       "0.87025601055219137"
      ]
     },
     "execution_count": 336,
     "metadata": {},
     "output_type": "execute_result"
    }
   ],
   "source": [
    "gbc.score(xtest,ytest)"
   ]
  },
  {
   "cell_type": "code",
   "execution_count": 337,
   "metadata": {
    "collapsed": false
   },
   "outputs": [
    {
     "data": {
      "text/plain": [
       "array([[ 0.86753377,  0.13246623],\n",
       "       [ 0.89639048,  0.10360952],\n",
       "       [ 0.92985916,  0.07014084],\n",
       "       ..., \n",
       "       [ 0.87378964,  0.12621036],\n",
       "       [ 0.87002811,  0.12997189],\n",
       "       [ 0.86408613,  0.13591387]])"
      ]
     },
     "execution_count": 337,
     "metadata": {},
     "output_type": "execute_result"
    }
   ],
   "source": [
    "gbc.predict_proba(xtest)"
   ]
  },
  {
   "cell_type": "code",
   "execution_count": 338,
   "metadata": {
    "collapsed": true
   },
   "outputs": [],
   "source": [
    "from sklearn.metrics import precision_recall_curve"
   ]
  },
  {
   "cell_type": "code",
   "execution_count": 339,
   "metadata": {
    "collapsed": true
   },
   "outputs": [],
   "source": [
    "ytrue = ytest"
   ]
  },
  {
   "cell_type": "code",
   "execution_count": 340,
   "metadata": {
    "collapsed": false
   },
   "outputs": [],
   "source": [
    "pred =gbc.predict_proba(xtest)[:,1]"
   ]
  },
  {
   "cell_type": "code",
   "execution_count": 341,
   "metadata": {
    "collapsed": true
   },
   "outputs": [],
   "source": [
    "pre,recall,thre = precision_recall_curve(ytrue,pred)"
   ]
  },
  {
   "cell_type": "code",
   "execution_count": 342,
   "metadata": {
    "collapsed": true
   },
   "outputs": [],
   "source": [
    "import matplotlib.pyplot as plt\n",
    "%matplotlib inline"
   ]
  },
  {
   "cell_type": "code",
   "execution_count": 343,
   "metadata": {
    "collapsed": false
   },
   "outputs": [
    {
     "data": {
      "text/plain": [
       "<matplotlib.text.Text at 0x2d28f47d6d8>"
      ]
     },
     "execution_count": 343,
     "metadata": {},
     "output_type": "execute_result"
    },
    {
     "data": {
      "image/png": "[encoded data removed]",
      "text/plain": [
       "<matplotlib.figure.Figure at 0x2d287dca9b0>"
      ]
     },
     "metadata": {},
     "output_type": "display_data"
    }
   ],
   "source": [
    "plt.plot(recall,pre)\n",
    "plt.xlabel('recall')\n",
    "plt.ylabel('precision')"
   ]
  },
  {
   "cell_type": "code",
   "execution_count": 344,
   "metadata": {
    "collapsed": true
   },
   "outputs": [],
   "source": [
    "from sklearn.metrics import roc_auc_score"
   ]
  },
  {
   "cell_type": "code",
   "execution_count": 345,
   "metadata": {
    "collapsed": false
   },
   "outputs": [
    {
     "data": {
      "text/plain": [
       "0.62360380384992631"
      ]
     },
     "execution_count": 345,
     "metadata": {},
     "output_type": "execute_result"
    }
   ],
   "source": [
    "roc_auc_score(ytrue,pred)"
   ]
  },
  {
   "cell_type": "code",
   "execution_count": 346,
   "metadata": {
    "collapsed": false
   },
   "outputs": [
    {
     "data": {
      "text/plain": [
       "array([ 0.12144677,  0.02677931,  0.03662658,  0.0256434 ,  0.01541898,\n",
       "        0.03868013,  0.09292108,  0.09843573,  0.11010643,  0.15900747,\n",
       "        0.12370005,  0.05090215,  0.10033192])"
      ]
     },
     "execution_count": 346,
     "metadata": {},
     "output_type": "execute_result"
    }
   ],
   "source": [
    "gbc.feature_importances_"
   ]
  },
  {
   "cell_type": "code",
   "execution_count": null,
   "metadata": {
    "collapsed": true
   },
   "outputs": [],
   "source": []
  },
  {
   "cell_type": "code",
   "execution_count": 347,
   "metadata": {
    "collapsed": false
   },
   "outputs": [],
   "source": [
    "predict = gbc.predict_proba(X_test)[:,1]"
   ]
  },
  {
   "cell_type": "code",
   "execution_count": 348,
   "metadata": {
    "collapsed": false
   },
   "outputs": [],
   "source": [
    "predict = pd.Series(predict)"
   ]
  },
  {
   "cell_type": "code",
   "execution_count": 349,
   "metadata": {
    "collapsed": true
   },
   "outputs": [],
   "source": [
    "result = pd.concat([df3_test['user_id'],predict],axis=1)"
   ]
  },
  {
   "cell_type": "code",
   "execution_count": 350,
   "metadata": {
    "collapsed": false,
    "scrolled": true
   },
   "outputs": [],
   "source": [
    "result = result.rename(columns={'user_id':'userid',0:'probability'})"
   ]
  },
  {
   "cell_type": "code",
   "execution_count": 351,
   "metadata": {
    "collapsed": true
   },
   "outputs": [],
   "source": [
    "result.to_csv('C:\\\\Users\\\\xupu\\\\Desktop\\\\xupu11.csv',index=False)"
   ]
  },
  {
   "cell_type": "code",
   "execution_count": null,
   "metadata": {
    "collapsed": true
   },
   "outputs": [],
   "source": []
  },
  {
   "cell_type": "code",
   "execution_count": null,
   "metadata": {
    "collapsed": true
   },
   "outputs": [],
   "source": []
  },
  {
   "cell_type": "code",
   "execution_count": 58,
   "metadata": {
    "collapsed": true
   },
   "outputs": [],
   "source": []
  },
  {
   "cell_type": "code",
   "execution_count": null,
   "metadata": {
    "collapsed": true
   },
   "outputs": [],
   "source": []
  }
 ],
 "metadata": {
  "anaconda-cloud": {},
  "kernelspec": {
   "display_name": "Python [conda root]",
   "language": "python",
   "name": "conda-root-py"
  },
  "language_info": {
   "codemirror_mode": {
    "name": "ipython",
    "version": 3
   },
   "file_extension": ".py",
   "mimetype": "text/x-python",
   "name": "python",
   "nbconvert_exporter": "python",
   "pygments_lexer": "ipython3",
   "version": "3.5.2"
  }
 },
 "nbformat": 4,
 "nbformat_minor": 1
}
