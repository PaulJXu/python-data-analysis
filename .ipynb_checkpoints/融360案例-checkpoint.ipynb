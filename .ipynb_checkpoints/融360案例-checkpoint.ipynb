{
 "cells": [
  {
   "cell_type": "code",
   "execution_count": 1,
   "metadata": {
    "collapsed": false
   },
   "outputs": [
    {
     "name": "stdout",
     "output_type": "stream",
     "text": [
      "C:\\Users\\xupu\\Desktop\\个人征信\n"
     ]
    }
   ],
   "source": [
    "cd C:\\Users\\xupu\\Desktop\\个人征信"
   ]
  },
  {
   "cell_type": "code",
   "execution_count": 2,
   "metadata": {
    "collapsed": true
   },
   "outputs": [],
   "source": [
    "import pandas as pd\n",
    "import numpy as np"
   ]
  },
  {
   "cell_type": "code",
   "execution_count": 3,
   "metadata": {
    "collapsed": false
   },
   "outputs": [],
   "source": [
    "user_info_train = pd.read_csv('train//user_info_train.txt',header=None,names=['user_id','sex','occupation','education','marriage','household'])\n",
    "user_info_test = pd.read_csv('test//user_info_test.txt',header=None,names=['user_id','sex','occupation','education','marriage','household'])"
   ]
  },
  {
   "cell_type": "code",
   "execution_count": 4,
   "metadata": {
    "collapsed": false,
    "scrolled": true
   },
   "outputs": [],
   "source": [
    "bank_detail_train = pd.read_csv('train//bank_detail_train.txt',header=None,names=['user_id','tm_encode','trade_type','trade_amount','salary_tag'])\n",
    "bank_detail_test = pd.read_csv('test//bank_detail_test.txt',header=None,names=['user_id','tm_encode','trade_type','trade_amount','salary_tag'])"
   ]
  },
  {
   "cell_type": "code",
   "execution_count": 5,
   "metadata": {
    "collapsed": true
   },
   "outputs": [],
   "source": [
    "grouped0_train = bank_detail_train.groupby(['user_id','trade_type'])\n",
    "grouped0_test = bank_detail_test.groupby(['user_id','trade_type'])"
   ]
  },
  {
   "cell_type": "code",
   "execution_count": 6,
   "metadata": {
    "collapsed": true
   },
   "outputs": [],
   "source": [
    "income_train = grouped0_train['trade_amount'].sum().unstack()\n",
    "income_test = grouped0_test['trade_amount'].sum().unstack()"
   ]
  },
  {
   "cell_type": "code",
   "execution_count": 7,
   "metadata": {
    "collapsed": true
   },
   "outputs": [],
   "source": [
    "income_train.rename(columns={0:'shouru',1:'zhichu'},inplace = True)\n",
    "income_test.rename(columns={0:'shouru',1:'zhichu'},inplace = True)"
   ]
  },
  {
   "cell_type": "code",
   "execution_count": 8,
   "metadata": {
    "collapsed": true
   },
   "outputs": [],
   "source": [
    "income_train['netincome'] = income_train['shouru']-income_train['zhichu']\n",
    "income_test['netincome'] = income_test['shouru']-income_test['zhichu']"
   ]
  },
  {
   "cell_type": "code",
   "execution_count": 9,
   "metadata": {
    "collapsed": true
   },
   "outputs": [],
   "source": [
    "incomes_train = income_train['netincome']\n",
    "incomes_test = income_test['netincome']"
   ]
  },
  {
   "cell_type": "code",
   "execution_count": 10,
   "metadata": {
    "collapsed": true
   },
   "outputs": [],
   "source": [
    "tag1_train = bank_detail_train.loc[bank_detail_train['salary_tag']==1]\n",
    "tag1_test = bank_detail_test.loc[bank_detail_test['salary_tag']==1]"
   ]
  },
  {
   "cell_type": "code",
   "execution_count": 11,
   "metadata": {
    "collapsed": true
   },
   "outputs": [],
   "source": [
    "salary_train = tag1_train.groupby('user_id')['trade_amount'].mean()\n",
    "salary_test = tag1_test.groupby('user_id')['trade_amount'].mean()"
   ]
  },
  {
   "cell_type": "code",
   "execution_count": 12,
   "metadata": {
    "collapsed": true
   },
   "outputs": [],
   "source": [
    "bank_train = pd.concat([incomes_train,salary_train],axis=1)\n",
    "bank_test = pd.concat([incomes_test,salary_test],axis=1)"
   ]
  },
  {
   "cell_type": "code",
   "execution_count": 13,
   "metadata": {
    "collapsed": false
   },
   "outputs": [
    {
     "data": {
      "text/plain": [
       "(9294, 2)"
      ]
     },
     "execution_count": 13,
     "metadata": {},
     "output_type": "execute_result"
    }
   ],
   "source": [
    "bank_train.shape"
   ]
  },
  {
   "cell_type": "code",
   "execution_count": 14,
   "metadata": {
    "collapsed": false
   },
   "outputs": [],
   "source": [
    "new_bank_train = bank_train.reset_index()\n",
    "new_bank_test = bank_test.reset_index()#合并到总表"
   ]
  },
  {
   "cell_type": "code",
   "execution_count": 15,
   "metadata": {
    "collapsed": false
   },
   "outputs": [],
   "source": [
    "new_bank_train.loc[new_bank_train['trade_amount'].isnull(),'tag']=0\n",
    "new_bank_test.loc[new_bank_test['trade_amount'].isnull(),'tag']=0"
   ]
  },
  {
   "cell_type": "code",
   "execution_count": 16,
   "metadata": {
    "collapsed": false
   },
   "outputs": [],
   "source": [
    "new_bank_train.loc[new_bank_train['trade_amount'].notnull(),'tag']=1\n",
    "new_bank_test.loc[new_bank_test['trade_amount'].notnull(),'tag']=1"
   ]
  },
  {
   "cell_type": "code",
   "execution_count": 17,
   "metadata": {
    "collapsed": true
   },
   "outputs": [],
   "source": [
    "bill_detail_train = pd.read_csv('train//bill_detail_train.txt',header=None,names=['user_id','tm_encode','bank_id','last_bill','last_return','credit_amount','this_bill_left','minreturn_bill','use_times','this_bill_amount','adjust_amount','recircle_rate','left_amount','load_amount','return_item'])"
   ]
  },
  {
   "cell_type": "code",
   "execution_count": 18,
   "metadata": {
    "collapsed": true
   },
   "outputs": [],
   "source": [
    "bill_detail_test = pd.read_csv('test//bill_detail_test.txt',header=None,names=['user_id','tm_encode','bank_id','last_bill','last_return','credit_amount','this_bill_left','minreturn_bill','use_times','this_bill_amount','adjust_amount','recircle_rate','left_amount','load_amount','return_item'])"
   ]
  },
  {
   "cell_type": "code",
   "execution_count": 19,
   "metadata": {
    "collapsed": true
   },
   "outputs": [],
   "source": [
    "bill_detail_train['last_return_diff']=bill_detail_train['last_return']-bill_detail_train['last_bill']\n",
    "bill_detail_test['last_return_diff']=bill_detail_test['last_return']-bill_detail_test['last_bill']"
   ]
  },
  {
   "cell_type": "code",
   "execution_count": 20,
   "metadata": {
    "collapsed": false,
    "scrolled": true
   },
   "outputs": [],
   "source": [
    "bill_detail_train = bill_detail_train.drop(['tm_encode','last_bill','last_return','minreturn_bill','use_times','adjust_amount'],axis=1)\n",
    "bill_detail_test = bill_detail_test.drop(['tm_encode','last_bill','last_return','minreturn_bill','use_times','adjust_amount'],axis=1)"
   ]
  },
  {
   "cell_type": "code",
   "execution_count": 21,
   "metadata": {
    "collapsed": false
   },
   "outputs": [],
   "source": [
    "banks_train = bill_detail_train[['user_id','bank_id']]\n",
    "banks_test = bill_detail_test[['user_id','bank_id']]"
   ]
  },
  {
   "cell_type": "code",
   "execution_count": 22,
   "metadata": {
    "collapsed": false
   },
   "outputs": [],
   "source": [
    "banks1_train = banks_train.drop_duplicates()\n",
    "banks1_test = banks_test.drop_duplicates()"
   ]
  },
  {
   "cell_type": "code",
   "execution_count": 23,
   "metadata": {
    "collapsed": false
   },
   "outputs": [],
   "source": [
    "banks2_train = banks1_train.groupby('user_id')\n",
    "banks2_test = banks1_test.groupby('user_id')"
   ]
  },
  {
   "cell_type": "code",
   "execution_count": 24,
   "metadata": {
    "collapsed": false,
    "scrolled": true
   },
   "outputs": [],
   "source": [
    "banks3_train = banks2_train.count()\n",
    "banks3_test = banks2_test.count()"
   ]
  },
  {
   "cell_type": "code",
   "execution_count": 25,
   "metadata": {
    "collapsed": false,
    "scrolled": true
   },
   "outputs": [],
   "source": [
    "banks4_train = banks3_train.reset_index()\n",
    "banks4_test = banks3_test.reset_index()"
   ]
  },
  {
   "cell_type": "code",
   "execution_count": 26,
   "metadata": {
    "collapsed": false
   },
   "outputs": [],
   "source": [
    "banks5_train = banks4_train.rename(columns={'bank_id':'banks'})\n",
    "banks5_test = banks4_test.rename(columns={'bank_id':'banks'})"
   ]
  },
  {
   "cell_type": "code",
   "execution_count": 27,
   "metadata": {
    "collapsed": true
   },
   "outputs": [],
   "source": [
    "grouped1_train = bill_detail_train.groupby(['user_id','bank_id'])\n",
    "grouped1_test = bill_detail_test.groupby(['user_id','bank_id'])"
   ]
  },
  {
   "cell_type": "code",
   "execution_count": 28,
   "metadata": {
    "collapsed": true
   },
   "outputs": [],
   "source": [
    "credit_amount_train = (grouped1_train['credit_amount'].sum())/(grouped1_train['credit_amount'].size())\n",
    "credit_amount_test = (grouped1_test['credit_amount'].sum())/(grouped1_test['credit_amount'].size())"
   ]
  },
  {
   "cell_type": "code",
   "execution_count": 29,
   "metadata": {
    "collapsed": true
   },
   "outputs": [],
   "source": [
    "credit_amounts_train = pd.DataFrame(credit_amount_train).reset_index()\n",
    "credit_amounts_test = pd.DataFrame(credit_amount_test).reset_index()"
   ]
  },
  {
   "cell_type": "code",
   "execution_count": 30,
   "metadata": {
    "collapsed": true
   },
   "outputs": [],
   "source": [
    "credit_amounts_train.rename(columns={0:'edu'},inplace=True)\n",
    "credit_amounts_test.rename(columns={0:'edu'},inplace=True)"
   ]
  },
  {
   "cell_type": "code",
   "execution_count": 31,
   "metadata": {
    "collapsed": true
   },
   "outputs": [],
   "source": [
    "user_credit_amount_train = pd.DataFrame(credit_amounts_train.groupby('user_id')['edu'].sum())\n",
    "user_credit_amount_test = pd.DataFrame(credit_amounts_test.groupby('user_id')['edu'].sum())"
   ]
  },
  {
   "cell_type": "code",
   "execution_count": 32,
   "metadata": {
    "collapsed": true
   },
   "outputs": [],
   "source": [
    "user_credit_amount_train = user_credit_amount_train.reset_index()\n",
    "user_credit_amount_test = user_credit_amount_test.reset_index()"
   ]
  },
  {
   "cell_type": "code",
   "execution_count": 33,
   "metadata": {
    "collapsed": true
   },
   "outputs": [],
   "source": [
    "grouped2_train = bill_detail_train.groupby('user_id')\n",
    "grouped2_test = bill_detail_test.groupby('user_id')"
   ]
  },
  {
   "cell_type": "code",
   "execution_count": 34,
   "metadata": {
    "collapsed": false
   },
   "outputs": [],
   "source": [
    "user_rate_train = grouped2_train['recircle_rate','last_return_diff'].sum().reset_index()\n",
    "user_rate_test = grouped2_test['recircle_rate','last_return_diff'].sum().reset_index()"
   ]
  },
  {
   "cell_type": "code",
   "execution_count": 35,
   "metadata": {
    "collapsed": true
   },
   "outputs": [],
   "source": [
    "user_loan_train = pd.DataFrame(grouped2_train['load_amount'].mean()).reset_index()\n",
    "user_loan_test = pd.DataFrame(grouped2_test['load_amount'].mean()).reset_index()"
   ]
  },
  {
   "cell_type": "code",
   "execution_count": 36,
   "metadata": {
    "collapsed": true
   },
   "outputs": [],
   "source": [
    "d_train = pd.merge(banks5_train,user_credit_amount_train,on='user_id')\n",
    "d_test = pd.merge(banks5_test,user_credit_amount_test,on='user_id')"
   ]
  },
  {
   "cell_type": "code",
   "execution_count": 37,
   "metadata": {
    "collapsed": true
   },
   "outputs": [],
   "source": [
    "e_train = pd.merge(d_train,user_rate_train,on='user_id')\n",
    "e_test = pd.merge(d_test,user_rate_test,on='user_id')"
   ]
  },
  {
   "cell_type": "code",
   "execution_count": 38,
   "metadata": {
    "collapsed": true
   },
   "outputs": [],
   "source": [
    "f_train = pd.merge(e_train,user_loan_train,on='user_id') \n",
    "f_test = pd.merge(e_test,user_loan_test,on='user_id') #合并到总表"
   ]
  },
  {
   "cell_type": "code",
   "execution_count": 39,
   "metadata": {
    "collapsed": false
   },
   "outputs": [],
   "source": [
    "loan_time_train = pd.read_csv('train//loan_time_train.txt',header = None,names=['user_id','loan_time'])\n",
    "loan_time_test = pd.read_csv('test//loan_time_test.txt',header = None,names=['user_id','loan_time'])"
   ]
  },
  {
   "cell_type": "code",
   "execution_count": 40,
   "metadata": {
    "collapsed": false
   },
   "outputs": [],
   "source": [
    "overdue_train = pd.read_csv('train//overdue_train.txt',header=None,names=['user_id','target'])"
   ]
  },
  {
   "cell_type": "code",
   "execution_count": 42,
   "metadata": {
    "collapsed": false
   },
   "outputs": [],
   "source": [
    "browse_history_train = pd.read_csv('train//browse_history_train.txt',header=None,names=['user_id','tm_encode_2','browse_data','browse_tag'])"
   ]
  },
  {
   "cell_type": "code",
   "execution_count": 43,
   "metadata": {
    "collapsed": true
   },
   "outputs": [],
   "source": [
    "browse_history_test = pd.read_csv('test//browse_history_test.txt',header=None,names=['user_id','tm_encode_2','browse_data','browse_tag'])"
   ]
  },
  {
   "cell_type": "code",
   "execution_count": 49,
   "metadata": {
    "collapsed": false
   },
   "outputs": [],
   "source": [
    "browse_times_train = browse_history_train[['user_id','tm_encode_2']]"
   ]
  },
  {
   "cell_type": "code",
   "execution_count": 61,
   "metadata": {
    "collapsed": true
   },
   "outputs": [],
   "source": [
    "browse_times_test = browse_history_test[['user_id','tm_encode_2']]"
   ]
  },
  {
   "cell_type": "code",
   "execution_count": 62,
   "metadata": {
    "collapsed": false
   },
   "outputs": [],
   "source": [
    "browse_train = browse_times_train.drop_duplicates()\n",
    "browse_test = browse_times_test.drop_duplicates()"
   ]
  },
  {
   "cell_type": "code",
   "execution_count": 63,
   "metadata": {
    "collapsed": false
   },
   "outputs": [],
   "source": [
    "browse1_train = browse_train.groupby('user_id')\n",
    "browse1_test = browse_test.groupby('user_id')"
   ]
  },
  {
   "cell_type": "code",
   "execution_count": 64,
   "metadata": {
    "collapsed": false,
    "scrolled": false
   },
   "outputs": [],
   "source": [
    "browse2_train = browse1_train['tm_encode_2'].count()\n",
    "browse2_test = browse1_test['tm_encode_2'].count()"
   ]
  },
  {
   "cell_type": "code",
   "execution_count": 65,
   "metadata": {
    "collapsed": false,
    "scrolled": true
   },
   "outputs": [],
   "source": [
    "browse3_train = pd.DataFrame(browse2_train).reset_index()\n",
    "browse3_test = pd.DataFrame(browse2_test).reset_index()"
   ]
  },
  {
   "cell_type": "code",
   "execution_count": 72,
   "metadata": {
    "collapsed": false
   },
   "outputs": [
    {
     "data": {
      "text/plain": [
       "(47330, 2)"
      ]
     },
     "execution_count": 72,
     "metadata": {},
     "output_type": "execute_result"
    }
   ],
   "source": [
    "browse3_train.shape"
   ]
  },
  {
   "cell_type": "code",
   "execution_count": null,
   "metadata": {
    "collapsed": true
   },
   "outputs": [],
   "source": []
  },
  {
   "cell_type": "code",
   "execution_count": 67,
   "metadata": {
    "collapsed": false,
    "scrolled": true
   },
   "outputs": [],
   "source": [
    "df_train = pd.merge(user_info_train,overdue_train,on='user_id')"
   ]
  },
  {
   "cell_type": "code",
   "execution_count": 68,
   "metadata": {
    "collapsed": true
   },
   "outputs": [],
   "source": [
    "df0_train = pd.merge(df_train,loan_time_train,on='user_id')\n",
    "df0_test = pd.merge(user_info_test,loan_time_test,on='user_id')"
   ]
  },
  {
   "cell_type": "code",
   "execution_count": 69,
   "metadata": {
    "collapsed": false
   },
   "outputs": [],
   "source": [
    "df1_train = pd.merge(df0_train,f_train,on='user_id',how='left')\n",
    "df1_test = pd.merge(df0_test,f_test,on='user_id',how='left')"
   ]
  },
  {
   "cell_type": "code",
   "execution_count": 70,
   "metadata": {
    "collapsed": true
   },
   "outputs": [],
   "source": [
    "df2_train = pd.merge(df1_train,new_bank_train,on='user_id',how='left')\n",
    "df2_test = pd.merge(df1_test,new_bank_test,on='user_id',how='left')"
   ]
  },
  {
   "cell_type": "code",
   "execution_count": 73,
   "metadata": {
    "collapsed": false
   },
   "outputs": [
    {
     "data": {
      "text/plain": [
       "(55596, 16)"
      ]
     },
     "execution_count": 73,
     "metadata": {},
     "output_type": "execute_result"
    }
   ],
   "source": [
    "df2_train.shape"
   ]
  },
  {
   "cell_type": "code",
   "execution_count": 74,
   "metadata": {
    "collapsed": false
   },
   "outputs": [],
   "source": [
    "df3_train = pd.merge(df2_train,browse3_train,on='user_id',how='left')\n",
    "df3_test = pd.merge(df2_test,browse3_test,on='user_id',how='left')"
   ]
  },
  {
   "cell_type": "code",
   "execution_count": 133,
   "metadata": {
    "collapsed": false
   },
   "outputs": [
    {
     "data": {
      "text/html": [
       "<div>\n",
       "<table border=\"1\" class=\"dataframe\">\n",
       "  <thead>\n",
       "    <tr style=\"text-align: right;\">\n",
       "      <th></th>\n",
       "      <th>user_id</th>\n",
       "      <th>sex</th>\n",
       "      <th>occupation</th>\n",
       "      <th>education</th>\n",
       "      <th>marriage</th>\n",
       "      <th>household</th>\n",
       "      <th>target</th>\n",
       "      <th>loan_time</th>\n",
       "      <th>banks</th>\n",
       "      <th>edu</th>\n",
       "      <th>recircle_rate</th>\n",
       "      <th>last_return_diff</th>\n",
       "      <th>load_amount</th>\n",
       "      <th>netincome</th>\n",
       "      <th>trade_amount</th>\n",
       "      <th>tag</th>\n",
       "      <th>tm_encode_2</th>\n",
       "    </tr>\n",
       "  </thead>\n",
       "  <tbody>\n",
       "    <tr>\n",
       "      <th>0</th>\n",
       "      <td>3150</td>\n",
       "      <td>1</td>\n",
       "      <td>2</td>\n",
       "      <td>4</td>\n",
       "      <td>1</td>\n",
       "      <td>4</td>\n",
       "      <td>0</td>\n",
       "      <td>5919867087</td>\n",
       "      <td>5.0</td>\n",
       "      <td>82.563651</td>\n",
       "      <td>0.000000</td>\n",
       "      <td>29.604743</td>\n",
       "      <td>13.862981</td>\n",
       "      <td>-3009.678157</td>\n",
       "      <td>0.000000</td>\n",
       "      <td>0.0</td>\n",
       "      <td>0.0</td>\n",
       "    </tr>\n",
       "    <tr>\n",
       "      <th>1</th>\n",
       "      <td>6965</td>\n",
       "      <td>1</td>\n",
       "      <td>2</td>\n",
       "      <td>4</td>\n",
       "      <td>3</td>\n",
       "      <td>2</td>\n",
       "      <td>0</td>\n",
       "      <td>5923841487</td>\n",
       "      <td>2.0</td>\n",
       "      <td>39.942542</td>\n",
       "      <td>62.082722</td>\n",
       "      <td>10.922189</td>\n",
       "      <td>19.624697</td>\n",
       "      <td>-2261.681747</td>\n",
       "      <td>0.000000</td>\n",
       "      <td>0.0</td>\n",
       "      <td>34.0</td>\n",
       "    </tr>\n",
       "    <tr>\n",
       "      <th>2</th>\n",
       "      <td>1265</td>\n",
       "      <td>1</td>\n",
       "      <td>3</td>\n",
       "      <td>4</td>\n",
       "      <td>3</td>\n",
       "      <td>1</td>\n",
       "      <td>0</td>\n",
       "      <td>5915892687</td>\n",
       "      <td>2.0</td>\n",
       "      <td>39.959643</td>\n",
       "      <td>279.476096</td>\n",
       "      <td>-190.300944</td>\n",
       "      <td>9.702118</td>\n",
       "      <td>-1954.250868</td>\n",
       "      <td>0.000000</td>\n",
       "      <td>0.0</td>\n",
       "      <td>3.0</td>\n",
       "    </tr>\n",
       "    <tr>\n",
       "      <th>3</th>\n",
       "      <td>6360</td>\n",
       "      <td>1</td>\n",
       "      <td>2</td>\n",
       "      <td>4</td>\n",
       "      <td>3</td>\n",
       "      <td>2</td>\n",
       "      <td>0</td>\n",
       "      <td>5923495887</td>\n",
       "      <td>8.0</td>\n",
       "      <td>129.424333</td>\n",
       "      <td>1161.246092</td>\n",
       "      <td>-235.075394</td>\n",
       "      <td>13.169416</td>\n",
       "      <td>-3009.678157</td>\n",
       "      <td>0.000000</td>\n",
       "      <td>0.0</td>\n",
       "      <td>3.0</td>\n",
       "    </tr>\n",
       "    <tr>\n",
       "      <th>4</th>\n",
       "      <td>2583</td>\n",
       "      <td>2</td>\n",
       "      <td>2</td>\n",
       "      <td>2</td>\n",
       "      <td>1</td>\n",
       "      <td>1</td>\n",
       "      <td>0</td>\n",
       "      <td>5917275087</td>\n",
       "      <td>3.0</td>\n",
       "      <td>57.061862</td>\n",
       "      <td>155.478508</td>\n",
       "      <td>1.760083</td>\n",
       "      <td>11.014650</td>\n",
       "      <td>-4327.835360</td>\n",
       "      <td>0.000000</td>\n",
       "      <td>0.0</td>\n",
       "      <td>5.0</td>\n",
       "    </tr>\n",
       "    <tr>\n",
       "      <th>5</th>\n",
       "      <td>34764</td>\n",
       "      <td>1</td>\n",
       "      <td>2</td>\n",
       "      <td>3</td>\n",
       "      <td>3</td>\n",
       "      <td>1</td>\n",
       "      <td>1</td>\n",
       "      <td>5929543887</td>\n",
       "      <td>4.0</td>\n",
       "      <td>62.175574</td>\n",
       "      <td>0.000000</td>\n",
       "      <td>-15.329336</td>\n",
       "      <td>9.140774</td>\n",
       "      <td>-3009.678157</td>\n",
       "      <td>0.000000</td>\n",
       "      <td>0.0</td>\n",
       "      <td>24.0</td>\n",
       "    </tr>\n",
       "    <tr>\n",
       "      <th>6</th>\n",
       "      <td>9554</td>\n",
       "      <td>1</td>\n",
       "      <td>2</td>\n",
       "      <td>4</td>\n",
       "      <td>2</td>\n",
       "      <td>2</td>\n",
       "      <td>0</td>\n",
       "      <td>5924878287</td>\n",
       "      <td>2.0</td>\n",
       "      <td>0.000000</td>\n",
       "      <td>111.933703</td>\n",
       "      <td>0.529815</td>\n",
       "      <td>0.000000</td>\n",
       "      <td>-3009.678157</td>\n",
       "      <td>0.000000</td>\n",
       "      <td>0.0</td>\n",
       "      <td>0.0</td>\n",
       "    </tr>\n",
       "    <tr>\n",
       "      <th>7</th>\n",
       "      <td>6720</td>\n",
       "      <td>1</td>\n",
       "      <td>2</td>\n",
       "      <td>3</td>\n",
       "      <td>3</td>\n",
       "      <td>2</td>\n",
       "      <td>0</td>\n",
       "      <td>5923668687</td>\n",
       "      <td>1.0</td>\n",
       "      <td>20.559057</td>\n",
       "      <td>0.000000</td>\n",
       "      <td>-0.979485</td>\n",
       "      <td>19.865910</td>\n",
       "      <td>-3009.678157</td>\n",
       "      <td>0.000000</td>\n",
       "      <td>0.0</td>\n",
       "      <td>2.0</td>\n",
       "    </tr>\n",
       "    <tr>\n",
       "      <th>8</th>\n",
       "      <td>29165</td>\n",
       "      <td>1</td>\n",
       "      <td>2</td>\n",
       "      <td>4</td>\n",
       "      <td>1</td>\n",
       "      <td>4</td>\n",
       "      <td>0</td>\n",
       "      <td>5928679887</td>\n",
       "      <td>2.0</td>\n",
       "      <td>39.942541</td>\n",
       "      <td>0.000000</td>\n",
       "      <td>59.475954</td>\n",
       "      <td>6.001719</td>\n",
       "      <td>-2822.253358</td>\n",
       "      <td>14.473609</td>\n",
       "      <td>1.0</td>\n",
       "      <td>6.0</td>\n",
       "    </tr>\n",
       "    <tr>\n",
       "      <th>9</th>\n",
       "      <td>6966</td>\n",
       "      <td>1</td>\n",
       "      <td>2</td>\n",
       "      <td>3</td>\n",
       "      <td>1</td>\n",
       "      <td>4</td>\n",
       "      <td>0</td>\n",
       "      <td>5923841487</td>\n",
       "      <td>4.0</td>\n",
       "      <td>74.615248</td>\n",
       "      <td>2428.861889</td>\n",
       "      <td>-279.329197</td>\n",
       "      <td>17.746610</td>\n",
       "      <td>-3009.678157</td>\n",
       "      <td>0.000000</td>\n",
       "      <td>0.0</td>\n",
       "      <td>0.0</td>\n",
       "    </tr>\n",
       "    <tr>\n",
       "      <th>10</th>\n",
       "      <td>35421</td>\n",
       "      <td>1</td>\n",
       "      <td>2</td>\n",
       "      <td>2</td>\n",
       "      <td>3</td>\n",
       "      <td>1</td>\n",
       "      <td>0</td>\n",
       "      <td>5929630287</td>\n",
       "      <td>6.0</td>\n",
       "      <td>121.801698</td>\n",
       "      <td>196.229886</td>\n",
       "      <td>-101.405464</td>\n",
       "      <td>15.583716</td>\n",
       "      <td>-3009.678157</td>\n",
       "      <td>0.000000</td>\n",
       "      <td>0.0</td>\n",
       "      <td>16.0</td>\n",
       "    </tr>\n",
       "    <tr>\n",
       "      <th>11</th>\n",
       "      <td>27162</td>\n",
       "      <td>1</td>\n",
       "      <td>2</td>\n",
       "      <td>3</td>\n",
       "      <td>3</td>\n",
       "      <td>2</td>\n",
       "      <td>0</td>\n",
       "      <td>5928334287</td>\n",
       "      <td>1.0</td>\n",
       "      <td>20.664418</td>\n",
       "      <td>0.000000</td>\n",
       "      <td>-0.785251</td>\n",
       "      <td>19.971271</td>\n",
       "      <td>-3009.678157</td>\n",
       "      <td>0.000000</td>\n",
       "      <td>0.0</td>\n",
       "      <td>5.0</td>\n",
       "    </tr>\n",
       "    <tr>\n",
       "      <th>12</th>\n",
       "      <td>2443</td>\n",
       "      <td>1</td>\n",
       "      <td>4</td>\n",
       "      <td>4</td>\n",
       "      <td>3</td>\n",
       "      <td>1</td>\n",
       "      <td>0</td>\n",
       "      <td>5917015887</td>\n",
       "      <td>7.0</td>\n",
       "      <td>124.565769</td>\n",
       "      <td>649.094899</td>\n",
       "      <td>-2004.591771</td>\n",
       "      <td>10.873986</td>\n",
       "      <td>-742.501582</td>\n",
       "      <td>0.000000</td>\n",
       "      <td>0.0</td>\n",
       "      <td>4.0</td>\n",
       "    </tr>\n",
       "    <tr>\n",
       "      <th>13</th>\n",
       "      <td>19579</td>\n",
       "      <td>1</td>\n",
       "      <td>2</td>\n",
       "      <td>2</td>\n",
       "      <td>3</td>\n",
       "      <td>1</td>\n",
       "      <td>0</td>\n",
       "      <td>5927124687</td>\n",
       "      <td>3.0</td>\n",
       "      <td>46.735487</td>\n",
       "      <td>0.000000</td>\n",
       "      <td>1334.922813</td>\n",
       "      <td>8.781516</td>\n",
       "      <td>-3009.678157</td>\n",
       "      <td>0.000000</td>\n",
       "      <td>0.0</td>\n",
       "      <td>19.0</td>\n",
       "    </tr>\n",
       "    <tr>\n",
       "      <th>14</th>\n",
       "      <td>590</td>\n",
       "      <td>1</td>\n",
       "      <td>2</td>\n",
       "      <td>4</td>\n",
       "      <td>1</td>\n",
       "      <td>1</td>\n",
       "      <td>1</td>\n",
       "      <td>5915374287</td>\n",
       "      <td>1.0</td>\n",
       "      <td>20.441274</td>\n",
       "      <td>0.000000</td>\n",
       "      <td>-40.608303</td>\n",
       "      <td>12.566990</td>\n",
       "      <td>-4936.771965</td>\n",
       "      <td>0.000000</td>\n",
       "      <td>0.0</td>\n",
       "      <td>1.0</td>\n",
       "    </tr>\n",
       "    <tr>\n",
       "      <th>15</th>\n",
       "      <td>42390</td>\n",
       "      <td>1</td>\n",
       "      <td>2</td>\n",
       "      <td>4</td>\n",
       "      <td>3</td>\n",
       "      <td>2</td>\n",
       "      <td>0</td>\n",
       "      <td>5930407887</td>\n",
       "      <td>2.0</td>\n",
       "      <td>33.273822</td>\n",
       "      <td>409.366182</td>\n",
       "      <td>-549.146612</td>\n",
       "      <td>4.775459</td>\n",
       "      <td>-3009.678157</td>\n",
       "      <td>0.000000</td>\n",
       "      <td>0.0</td>\n",
       "      <td>3.0</td>\n",
       "    </tr>\n",
       "    <tr>\n",
       "      <th>16</th>\n",
       "      <td>43106</td>\n",
       "      <td>1</td>\n",
       "      <td>2</td>\n",
       "      <td>4</td>\n",
       "      <td>3</td>\n",
       "      <td>4</td>\n",
       "      <td>0</td>\n",
       "      <td>5930494287</td>\n",
       "      <td>5.0</td>\n",
       "      <td>59.432593</td>\n",
       "      <td>622.596443</td>\n",
       "      <td>-157.294642</td>\n",
       "      <td>12.165981</td>\n",
       "      <td>-3009.678157</td>\n",
       "      <td>0.000000</td>\n",
       "      <td>0.0</td>\n",
       "      <td>6.0</td>\n",
       "    </tr>\n",
       "    <tr>\n",
       "      <th>17</th>\n",
       "      <td>12994</td>\n",
       "      <td>1</td>\n",
       "      <td>2</td>\n",
       "      <td>3</td>\n",
       "      <td>1</td>\n",
       "      <td>1</td>\n",
       "      <td>0</td>\n",
       "      <td>5926001487</td>\n",
       "      <td>1.0</td>\n",
       "      <td>20.382665</td>\n",
       "      <td>0.000000</td>\n",
       "      <td>-84.814928</td>\n",
       "      <td>19.689517</td>\n",
       "      <td>-3009.678157</td>\n",
       "      <td>0.000000</td>\n",
       "      <td>0.0</td>\n",
       "      <td>6.0</td>\n",
       "    </tr>\n",
       "    <tr>\n",
       "      <th>18</th>\n",
       "      <td>10313</td>\n",
       "      <td>1</td>\n",
       "      <td>3</td>\n",
       "      <td>4</td>\n",
       "      <td>2</td>\n",
       "      <td>2</td>\n",
       "      <td>0</td>\n",
       "      <td>5925137487</td>\n",
       "      <td>2.0</td>\n",
       "      <td>39.283150</td>\n",
       "      <td>0.000000</td>\n",
       "      <td>16.683287</td>\n",
       "      <td>17.235483</td>\n",
       "      <td>-4436.668043</td>\n",
       "      <td>0.000000</td>\n",
       "      <td>0.0</td>\n",
       "      <td>7.0</td>\n",
       "    </tr>\n",
       "    <tr>\n",
       "      <th>19</th>\n",
       "      <td>26702</td>\n",
       "      <td>1</td>\n",
       "      <td>2</td>\n",
       "      <td>4</td>\n",
       "      <td>1</td>\n",
       "      <td>4</td>\n",
       "      <td>0</td>\n",
       "      <td>5928247887</td>\n",
       "      <td>3.0</td>\n",
       "      <td>60.390027</td>\n",
       "      <td>0.000000</td>\n",
       "      <td>25.599602</td>\n",
       "      <td>12.282417</td>\n",
       "      <td>-3009.678157</td>\n",
       "      <td>0.000000</td>\n",
       "      <td>0.0</td>\n",
       "      <td>1.0</td>\n",
       "    </tr>\n",
       "    <tr>\n",
       "      <th>20</th>\n",
       "      <td>55354</td>\n",
       "      <td>1</td>\n",
       "      <td>2</td>\n",
       "      <td>2</td>\n",
       "      <td>3</td>\n",
       "      <td>2</td>\n",
       "      <td>0</td>\n",
       "      <td>5932135887</td>\n",
       "      <td>7.0</td>\n",
       "      <td>121.286450</td>\n",
       "      <td>62.232052</td>\n",
       "      <td>91.810980</td>\n",
       "      <td>13.987766</td>\n",
       "      <td>-2549.638401</td>\n",
       "      <td>0.000000</td>\n",
       "      <td>0.0</td>\n",
       "      <td>15.0</td>\n",
       "    </tr>\n",
       "  </tbody>\n",
       "</table>\n",
       "</div>"
      ],
      "text/plain": [
       "    user_id  sex  occupation  education  marriage  household  target  \\\n",
       "0      3150    1           2          4         1          4       0   \n",
       "1      6965    1           2          4         3          2       0   \n",
       "2      1265    1           3          4         3          1       0   \n",
       "3      6360    1           2          4         3          2       0   \n",
       "4      2583    2           2          2         1          1       0   \n",
       "5     34764    1           2          3         3          1       1   \n",
       "6      9554    1           2          4         2          2       0   \n",
       "7      6720    1           2          3         3          2       0   \n",
       "8     29165    1           2          4         1          4       0   \n",
       "9      6966    1           2          3         1          4       0   \n",
       "10    35421    1           2          2         3          1       0   \n",
       "11    27162    1           2          3         3          2       0   \n",
       "12     2443    1           4          4         3          1       0   \n",
       "13    19579    1           2          2         3          1       0   \n",
       "14      590    1           2          4         1          1       1   \n",
       "15    42390    1           2          4         3          2       0   \n",
       "16    43106    1           2          4         3          4       0   \n",
       "17    12994    1           2          3         1          1       0   \n",
       "18    10313    1           3          4         2          2       0   \n",
       "19    26702    1           2          4         1          4       0   \n",
       "20    55354    1           2          2         3          2       0   \n",
       "\n",
       "     loan_time  banks         edu  recircle_rate  last_return_diff  \\\n",
       "0   5919867087    5.0   82.563651       0.000000         29.604743   \n",
       "1   5923841487    2.0   39.942542      62.082722         10.922189   \n",
       "2   5915892687    2.0   39.959643     279.476096       -190.300944   \n",
       "3   5923495887    8.0  129.424333    1161.246092       -235.075394   \n",
       "4   5917275087    3.0   57.061862     155.478508          1.760083   \n",
       "5   5929543887    4.0   62.175574       0.000000        -15.329336   \n",
       "6   5924878287    2.0    0.000000     111.933703          0.529815   \n",
       "7   5923668687    1.0   20.559057       0.000000         -0.979485   \n",
       "8   5928679887    2.0   39.942541       0.000000         59.475954   \n",
       "9   5923841487    4.0   74.615248    2428.861889       -279.329197   \n",
       "10  5929630287    6.0  121.801698     196.229886       -101.405464   \n",
       "11  5928334287    1.0   20.664418       0.000000         -0.785251   \n",
       "12  5917015887    7.0  124.565769     649.094899      -2004.591771   \n",
       "13  5927124687    3.0   46.735487       0.000000       1334.922813   \n",
       "14  5915374287    1.0   20.441274       0.000000        -40.608303   \n",
       "15  5930407887    2.0   33.273822     409.366182       -549.146612   \n",
       "16  5930494287    5.0   59.432593     622.596443       -157.294642   \n",
       "17  5926001487    1.0   20.382665       0.000000        -84.814928   \n",
       "18  5925137487    2.0   39.283150       0.000000         16.683287   \n",
       "19  5928247887    3.0   60.390027       0.000000         25.599602   \n",
       "20  5932135887    7.0  121.286450      62.232052         91.810980   \n",
       "\n",
       "    load_amount    netincome  trade_amount  tag  tm_encode_2  \n",
       "0     13.862981 -3009.678157      0.000000  0.0          0.0  \n",
       "1     19.624697 -2261.681747      0.000000  0.0         34.0  \n",
       "2      9.702118 -1954.250868      0.000000  0.0          3.0  \n",
       "3     13.169416 -3009.678157      0.000000  0.0          3.0  \n",
       "4     11.014650 -4327.835360      0.000000  0.0          5.0  \n",
       "5      9.140774 -3009.678157      0.000000  0.0         24.0  \n",
       "6      0.000000 -3009.678157      0.000000  0.0          0.0  \n",
       "7     19.865910 -3009.678157      0.000000  0.0          2.0  \n",
       "8      6.001719 -2822.253358     14.473609  1.0          6.0  \n",
       "9     17.746610 -3009.678157      0.000000  0.0          0.0  \n",
       "10    15.583716 -3009.678157      0.000000  0.0         16.0  \n",
       "11    19.971271 -3009.678157      0.000000  0.0          5.0  \n",
       "12    10.873986  -742.501582      0.000000  0.0          4.0  \n",
       "13     8.781516 -3009.678157      0.000000  0.0         19.0  \n",
       "14    12.566990 -4936.771965      0.000000  0.0          1.0  \n",
       "15     4.775459 -3009.678157      0.000000  0.0          3.0  \n",
       "16    12.165981 -3009.678157      0.000000  0.0          6.0  \n",
       "17    19.689517 -3009.678157      0.000000  0.0          6.0  \n",
       "18    17.235483 -4436.668043      0.000000  0.0          7.0  \n",
       "19    12.282417 -3009.678157      0.000000  0.0          1.0  \n",
       "20    13.987766 -2549.638401      0.000000  0.0         15.0  "
      ]
     },
     "execution_count": 133,
     "metadata": {},
     "output_type": "execute_result"
    }
   ],
   "source": [
    "df3_train.loc[:20]"
   ]
  },
  {
   "cell_type": "code",
   "execution_count": null,
   "metadata": {
    "collapsed": true
   },
   "outputs": [],
   "source": []
  },
  {
   "cell_type": "code",
   "execution_count": 76,
   "metadata": {
    "collapsed": true
   },
   "outputs": [],
   "source": [
    "df3_train['netincome'].fillna(df3_train['netincome'].mean(),inplace=True)\n",
    "df3_test['netincome'].fillna(df3_test['netincome'].mean(),inplace=True)"
   ]
  },
  {
   "cell_type": "code",
   "execution_count": 77,
   "metadata": {
    "collapsed": false,
    "scrolled": true
   },
   "outputs": [],
   "source": [
    "df3_train['trade_amount'].fillna(0,inplace=True)\n",
    "df3_test['trade_amount'].fillna(0,inplace=True)"
   ]
  },
  {
   "cell_type": "code",
   "execution_count": 78,
   "metadata": {
    "collapsed": false
   },
   "outputs": [],
   "source": [
    "df3_train['tag'].fillna(0,inplace=True)\n",
    "df3_test['tag'].fillna(0,inplace=True)"
   ]
  },
  {
   "cell_type": "code",
   "execution_count": 79,
   "metadata": {
    "collapsed": true
   },
   "outputs": [],
   "source": [
    "df3_train['tm_encode_2'].fillna(0,inplace=True)\n",
    "df3_test['tm_encode_2'].fillna(0,inplace=True)"
   ]
  },
  {
   "cell_type": "code",
   "execution_count": 80,
   "metadata": {
    "collapsed": false
   },
   "outputs": [],
   "source": [
    "df3_train = df3_train.fillna(df3_train.mean(),inplace=True)\n",
    "df3_test = df3_test.fillna(df3_test.mean(),inplace=True)"
   ]
  },
  {
   "cell_type": "code",
   "execution_count": null,
   "metadata": {
    "collapsed": true
   },
   "outputs": [],
   "source": []
  },
  {
   "cell_type": "code",
   "execution_count": 177,
   "metadata": {
    "collapsed": true
   },
   "outputs": [],
   "source": [
    "X_test = df3_test.drop('user_id',axis=1)"
   ]
  },
  {
   "cell_type": "code",
   "execution_count": 178,
   "metadata": {
    "collapsed": false
   },
   "outputs": [],
   "source": [
    "testX = ss.transform(X_test)"
   ]
  },
  {
   "cell_type": "code",
   "execution_count": null,
   "metadata": {
    "collapsed": true
   },
   "outputs": [],
   "source": []
  },
  {
   "cell_type": "code",
   "execution_count": 83,
   "metadata": {
    "collapsed": true
   },
   "outputs": [],
   "source": [
    "X = df3_train.drop(['user_id','target'],axis=1)\n",
    "Y = df3_train['target']"
   ]
  },
  {
   "cell_type": "code",
   "execution_count": 104,
   "metadata": {
    "collapsed": false
   },
   "outputs": [
    {
     "data": {
      "text/plain": [
       "sex                  object\n",
       "occupation           object\n",
       "education            object\n",
       "marriage             object\n",
       "household            object\n",
       "loan_time            object\n",
       "banks               float64\n",
       "edu                 float64\n",
       "recircle_rate       float64\n",
       "last_return_diff    float64\n",
       "load_amount         float64\n",
       "netincome           float64\n",
       "trade_amount        float64\n",
       "tag                  object\n",
       "tm_encode_2         float64\n",
       "dtype: object"
      ]
     },
     "execution_count": 104,
     "metadata": {},
     "output_type": "execute_result"
    }
   ],
   "source": [
    "X.dtypes"
   ]
  },
  {
   "cell_type": "code",
   "execution_count": 85,
   "metadata": {
    "collapsed": true
   },
   "outputs": [],
   "source": [
    "for i in ['sex','occupation','education','marriage','household','loan_time','tag']:\n",
    "    X[i] = X[i].astype('object')"
   ]
  },
  {
   "cell_type": "code",
   "execution_count": 103,
   "metadata": {
    "collapsed": true
   },
   "outputs": [],
   "source": [
    "X['tm_encode_2'] = X['tm_encode_2'].astype('float64')"
   ]
  },
  {
   "cell_type": "code",
   "execution_count": null,
   "metadata": {
    "collapsed": true
   },
   "outputs": [],
   "source": []
  },
  {
   "cell_type": "code",
   "execution_count": 150,
   "metadata": {
    "collapsed": true
   },
   "outputs": [],
   "source": [
    "from sklearn.cross_validation import train_test_split"
   ]
  },
  {
   "cell_type": "code",
   "execution_count": 160,
   "metadata": {
    "collapsed": true
   },
   "outputs": [],
   "source": [
    "xtrain,xtest,ytrain,ytest = train_test_split(X,Y,train_size=0.7)"
   ]
  },
  {
   "cell_type": "code",
   "execution_count": null,
   "metadata": {
    "collapsed": true
   },
   "outputs": [],
   "source": []
  },
  {
   "cell_type": "code",
   "execution_count": 152,
   "metadata": {
    "collapsed": true
   },
   "outputs": [],
   "source": [
    "from sklearn.preprocessing import StandardScaler"
   ]
  },
  {
   "cell_type": "code",
   "execution_count": 153,
   "metadata": {
    "collapsed": true
   },
   "outputs": [],
   "source": [
    "ss = StandardScaler()"
   ]
  },
  {
   "cell_type": "code",
   "execution_count": 161,
   "metadata": {
    "collapsed": false
   },
   "outputs": [
    {
     "data": {
      "text/plain": [
       "StandardScaler(copy=True, with_mean=True, with_std=True)"
      ]
     },
     "execution_count": 161,
     "metadata": {},
     "output_type": "execute_result"
    }
   ],
   "source": [
    "ss.fit(xtrain)"
   ]
  },
  {
   "cell_type": "code",
   "execution_count": 162,
   "metadata": {
    "collapsed": true
   },
   "outputs": [],
   "source": [
    "trainx = ss.transform(xtrain)\n",
    "testx = ss.transform(xtest)"
   ]
  },
  {
   "cell_type": "code",
   "execution_count": null,
   "metadata": {
    "collapsed": true
   },
   "outputs": [],
   "source": []
  },
  {
   "cell_type": "code",
   "execution_count": 163,
   "metadata": {
    "collapsed": true
   },
   "outputs": [],
   "source": [
    "from sklearn.ensemble import RandomForestClassifier"
   ]
  },
  {
   "cell_type": "code",
   "execution_count": 164,
   "metadata": {
    "collapsed": true
   },
   "outputs": [],
   "source": [
    "rf = RandomForestClassifier(n_estimators=100)"
   ]
  },
  {
   "cell_type": "code",
   "execution_count": 165,
   "metadata": {
    "collapsed": false
   },
   "outputs": [
    {
     "data": {
      "text/plain": [
       "RandomForestClassifier(bootstrap=True, class_weight=None, criterion='gini',\n",
       "            max_depth=None, max_features='auto', max_leaf_nodes=None,\n",
       "            min_samples_leaf=1, min_samples_split=2,\n",
       "            min_weight_fraction_leaf=0.0, n_estimators=100, n_jobs=1,\n",
       "            oob_score=False, random_state=None, verbose=0,\n",
       "            warm_start=False)"
      ]
     },
     "execution_count": 165,
     "metadata": {},
     "output_type": "execute_result"
    }
   ],
   "source": [
    "rf.fit(trainx,ytrain)"
   ]
  },
  {
   "cell_type": "code",
   "execution_count": 166,
   "metadata": {
    "collapsed": false
   },
   "outputs": [
    {
     "data": {
      "text/plain": [
       "0.87433299358474725"
      ]
     },
     "execution_count": 166,
     "metadata": {},
     "output_type": "execute_result"
    }
   ],
   "source": [
    "rf.score(testx,ytest)"
   ]
  },
  {
   "cell_type": "code",
   "execution_count": 167,
   "metadata": {
    "collapsed": false
   },
   "outputs": [
    {
     "data": {
      "text/plain": [
       "array([[ 0.99,  0.01],\n",
       "       [ 0.77,  0.23],\n",
       "       [ 0.79,  0.21],\n",
       "       ..., \n",
       "       [ 0.83,  0.17],\n",
       "       [ 1.  ,  0.  ],\n",
       "       [ 0.93,  0.07]])"
      ]
     },
     "execution_count": 167,
     "metadata": {},
     "output_type": "execute_result"
    }
   ],
   "source": [
    "rf.predict_proba(testx)"
   ]
  },
  {
   "cell_type": "code",
   "execution_count": 168,
   "metadata": {
    "collapsed": true
   },
   "outputs": [],
   "source": [
    "from sklearn.metrics import precision_recall_curve"
   ]
  },
  {
   "cell_type": "code",
   "execution_count": 169,
   "metadata": {
    "collapsed": true
   },
   "outputs": [],
   "source": [
    "ytrue = ytest"
   ]
  },
  {
   "cell_type": "code",
   "execution_count": 170,
   "metadata": {
    "collapsed": true
   },
   "outputs": [],
   "source": [
    "pred =rf.predict_proba(testx)[:,1]"
   ]
  },
  {
   "cell_type": "code",
   "execution_count": 171,
   "metadata": {
    "collapsed": true
   },
   "outputs": [],
   "source": [
    "pre,recall,thre = precision_recall_curve(ytrue,pred)"
   ]
  },
  {
   "cell_type": "code",
   "execution_count": 172,
   "metadata": {
    "collapsed": true
   },
   "outputs": [],
   "source": [
    "import matplotlib.pyplot as plt\n",
    "%matplotlib inline"
   ]
  },
  {
   "cell_type": "code",
   "execution_count": 173,
   "metadata": {
    "collapsed": false
   },
   "outputs": [
    {
     "data": {
      "text/plain": [
       "<matplotlib.text.Text at 0x1e097b863c8>"
      ]
     },
     "execution_count": 173,
     "metadata": {},
     "output_type": "execute_result"
    },
    {
     "data": {
      "image/png": "[encoded data removed]",
      "text/plain": [
       "<matplotlib.figure.Figure at 0x1e0b2f1c2b0>"
      ]
     },
     "metadata": {},
     "output_type": "display_data"
    }
   ],
   "source": [
    "plt.plot(recall,pre)\n",
    "plt.xlabel('recall')\n",
    "plt.ylabel('precision')"
   ]
  },
  {
   "cell_type": "code",
   "execution_count": 174,
   "metadata": {
    "collapsed": true
   },
   "outputs": [],
   "source": [
    "from sklearn.metrics import roc_auc_score"
   ]
  },
  {
   "cell_type": "code",
   "execution_count": 175,
   "metadata": {
    "collapsed": false
   },
   "outputs": [
    {
     "data": {
      "text/plain": [
       "0.61175046942082212"
      ]
     },
     "execution_count": 175,
     "metadata": {},
     "output_type": "execute_result"
    }
   ],
   "source": [
    "roc_auc_score(ytrue,pred)"
   ]
  },
  {
   "cell_type": "code",
   "execution_count": 176,
   "metadata": {
    "collapsed": false
   },
   "outputs": [
    {
     "data": {
      "text/plain": [
       "array([ 0.03170592,  0.03134232,  0.03241292,  0.04308585,  0.05137987,\n",
       "        0.16212185,  0.03203025,  0.13627538,  0.06123967,  0.15114837,\n",
       "        0.11245862,  0.04908406,  0.01181015,  0.00405885,  0.08984591])"
      ]
     },
     "execution_count": 176,
     "metadata": {},
     "output_type": "execute_result"
    }
   ],
   "source": [
    "rf.feature_importances_"
   ]
  },
  {
   "cell_type": "code",
   "execution_count": 179,
   "metadata": {
    "collapsed": true
   },
   "outputs": [],
   "source": [
    "predict = rf.predict_proba(testX)[:,1]"
   ]
  },
  {
   "cell_type": "code",
   "execution_count": 180,
   "metadata": {
    "collapsed": false
   },
   "outputs": [],
   "source": [
    "predict = pd.Series(predict)"
   ]
  },
  {
   "cell_type": "code",
   "execution_count": 181,
   "metadata": {
    "collapsed": true
   },
   "outputs": [],
   "source": [
    "result = pd.concat([df3_test['user_id'],predict],axis=1)"
   ]
  },
  {
   "cell_type": "code",
   "execution_count": 182,
   "metadata": {
    "collapsed": false,
    "scrolled": true
   },
   "outputs": [],
   "source": [
    "result = result.rename(columns={'user_id':'userid',0:'probability'})"
   ]
  },
  {
   "cell_type": "code",
   "execution_count": 183,
   "metadata": {
    "collapsed": true
   },
   "outputs": [],
   "source": [
    "result.to_csv('C:\\\\Users\\\\xupu\\\\Desktop\\\\xupu8.csv',index=False)"
   ]
  },
  {
   "cell_type": "code",
   "execution_count": null,
   "metadata": {
    "collapsed": true
   },
   "outputs": [],
   "source": []
  },
  {
   "cell_type": "code",
   "execution_count": null,
   "metadata": {
    "collapsed": true
   },
   "outputs": [],
   "source": []
  },
  {
   "cell_type": "code",
   "execution_count": 58,
   "metadata": {
    "collapsed": true
   },
   "outputs": [],
   "source": []
  },
  {
   "cell_type": "code",
   "execution_count": null,
   "metadata": {
    "collapsed": true
   },
   "outputs": [],
   "source": []
  }
 ],
 "metadata": {
  "anaconda-cloud": {},
  "kernelspec": {
   "display_name": "Python [conda root]",
   "language": "python",
   "name": "conda-root-py"
  },
  "language_info": {
   "codemirror_mode": {
    "name": "ipython",
    "version": 3
   },
   "file_extension": ".py",
   "mimetype": "text/x-python",
   "name": "python",
   "nbconvert_exporter": "python",
   "pygments_lexer": "ipython3",
   "version": "3.5.2"
  }
 },
 "nbformat": 4,
 "nbformat_minor": 1
}
