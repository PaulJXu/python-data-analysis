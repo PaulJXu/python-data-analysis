{
 "cells": [
  {
   "cell_type": "code",
   "execution_count": 1,
   "metadata": {
    "collapsed": false
   },
   "outputs": [
    {
     "name": "stdout",
     "output_type": "stream",
     "text": [
      "C:\\Users\\xupu\\Desktop\\个人征信\n"
     ]
    }
   ],
   "source": [
    "cd C:\\Users\\xupu\\Desktop\\个人征信"
   ]
  },
  {
   "cell_type": "code",
   "execution_count": 2,
   "metadata": {
    "collapsed": true
   },
   "outputs": [],
   "source": [
    "import pandas as pd\n",
    "import numpy as np\n",
    "import matplotlib.pyplot as plt\n",
    "%matplotlib inline"
   ]
  },
  {
   "cell_type": "code",
   "execution_count": 3,
   "metadata": {
    "collapsed": false
   },
   "outputs": [],
   "source": [
    "user_info_train = pd.read_csv('train//user_info_train.txt',header=None,names=['user_id','sex','occupation','education','marriage','household'])\n",
    "user_info_test = pd.read_csv('test//user_info_test.txt',header=None,names=['user_id','sex','occupation','education','marriage','household'])"
   ]
  },
  {
   "cell_type": "code",
   "execution_count": 4,
   "metadata": {
    "collapsed": false,
    "scrolled": true
   },
   "outputs": [],
   "source": [
    "bank_detail_train = pd.read_csv('train//bank_detail_train.txt',header=None,names=['user_id','tm_encode','trade_type','trade_amount','salary_tag'])\n",
    "bank_detail_test = pd.read_csv('test//bank_detail_test.txt',header=None,names=['user_id','tm_encode','trade_type','trade_amount','salary_tag'])"
   ]
  },
  {
   "cell_type": "code",
   "execution_count": 5,
   "metadata": {
    "collapsed": false
   },
   "outputs": [
    {
     "data": {
      "text/html": [
       "<div>\n",
       "<table border=\"1\" class=\"dataframe\">\n",
       "  <thead>\n",
       "    <tr style=\"text-align: right;\">\n",
       "      <th></th>\n",
       "      <th>user_id</th>\n",
       "      <th>tm_encode</th>\n",
       "      <th>trade_type</th>\n",
       "      <th>trade_amount</th>\n",
       "      <th>salary_tag</th>\n",
       "    </tr>\n",
       "  </thead>\n",
       "  <tbody>\n",
       "    <tr>\n",
       "      <th>0</th>\n",
       "      <td>6965</td>\n",
       "      <td>5894316387</td>\n",
       "      <td>0</td>\n",
       "      <td>13.756664</td>\n",
       "      <td>0</td>\n",
       "    </tr>\n",
       "    <tr>\n",
       "      <th>1</th>\n",
       "      <td>6965</td>\n",
       "      <td>5894321388</td>\n",
       "      <td>1</td>\n",
       "      <td>13.756664</td>\n",
       "      <td>0</td>\n",
       "    </tr>\n",
       "    <tr>\n",
       "      <th>2</th>\n",
       "      <td>6965</td>\n",
       "      <td>5897553564</td>\n",
       "      <td>0</td>\n",
       "      <td>14.449810</td>\n",
       "      <td>0</td>\n",
       "    </tr>\n",
       "    <tr>\n",
       "      <th>3</th>\n",
       "      <td>6965</td>\n",
       "      <td>5897563463</td>\n",
       "      <td>1</td>\n",
       "      <td>10.527763</td>\n",
       "      <td>0</td>\n",
       "    </tr>\n",
       "    <tr>\n",
       "      <th>4</th>\n",
       "      <td>6965</td>\n",
       "      <td>5897564598</td>\n",
       "      <td>1</td>\n",
       "      <td>13.651303</td>\n",
       "      <td>0</td>\n",
       "    </tr>\n",
       "  </tbody>\n",
       "</table>\n",
       "</div>"
      ],
      "text/plain": [
       "   user_id   tm_encode  trade_type  trade_amount  salary_tag\n",
       "0     6965  5894316387           0     13.756664           0\n",
       "1     6965  5894321388           1     13.756664           0\n",
       "2     6965  5897553564           0     14.449810           0\n",
       "3     6965  5897563463           1     10.527763           0\n",
       "4     6965  5897564598           1     13.651303           0"
      ]
     },
     "execution_count": 5,
     "metadata": {},
     "output_type": "execute_result"
    }
   ],
   "source": [
    "bank_detail_train.head()"
   ]
  },
  {
   "cell_type": "code",
   "execution_count": 6,
   "metadata": {
    "collapsed": true
   },
   "outputs": [],
   "source": [
    "#计算个人总收入，总支出，平均收入，平均支出\n",
    "grouped0_train = bank_detail_train.groupby(['user_id','trade_type'])\n",
    "grouped0_test = bank_detail_test.groupby(['user_id','trade_type'])"
   ]
  },
  {
   "cell_type": "code",
   "execution_count": 7,
   "metadata": {
    "collapsed": false
   },
   "outputs": [],
   "source": [
    "income_train_mean = grouped0_train['trade_amount'].mean().unstack()\n",
    "income_test_mean = grouped0_test['trade_amount'].mean().unstack()"
   ]
  },
  {
   "cell_type": "code",
   "execution_count": 8,
   "metadata": {
    "collapsed": true
   },
   "outputs": [],
   "source": [
    "income_train_sum = grouped0_train['trade_amount'].sum().unstack()\n",
    "income_test_sum = grouped0_test['trade_amount'].sum().unstack()"
   ]
  },
  {
   "cell_type": "code",
   "execution_count": 9,
   "metadata": {
    "collapsed": true
   },
   "outputs": [],
   "source": [
    "income_train_mean.rename(columns={0:'mean_income',1:'mean_pay'},inplace = True)\n",
    "income_test_mean.rename(columns={0:'mean_income',1:'mean_pay'},inplace = True)"
   ]
  },
  {
   "cell_type": "code",
   "execution_count": 10,
   "metadata": {
    "collapsed": true
   },
   "outputs": [],
   "source": [
    "income_train_sum.rename(columns={0:'sum_income',1:'sum_pay'},inplace = True)\n",
    "income_test_sum.rename(columns={0:'sum_income',1:'sum_pay'},inplace = True)"
   ]
  },
  {
   "cell_type": "code",
   "execution_count": 11,
   "metadata": {
    "collapsed": false,
    "scrolled": true
   },
   "outputs": [],
   "source": [
    "incomes_train = pd.concat([income_train_mean,income_train_sum],axis=1)\n",
    "incomes_test = pd.concat([income_test_mean,income_test_sum],axis=1)"
   ]
  },
  {
   "cell_type": "code",
   "execution_count": 12,
   "metadata": {
    "collapsed": true
   },
   "outputs": [],
   "source": [
    "# 计算个人平均工资收入\n",
    "tag1_train = bank_detail_train.loc[bank_detail_train['salary_tag']==1]\n",
    "tag1_test = bank_detail_test.loc[bank_detail_test['salary_tag']==1]"
   ]
  },
  {
   "cell_type": "code",
   "execution_count": 13,
   "metadata": {
    "collapsed": true
   },
   "outputs": [],
   "source": [
    "salary_train = tag1_train.groupby('user_id')['trade_amount'].mean()\n",
    "salary_test = tag1_test.groupby('user_id')['trade_amount'].mean()"
   ]
  },
  {
   "cell_type": "code",
   "execution_count": 14,
   "metadata": {
    "collapsed": true
   },
   "outputs": [],
   "source": [
    "bank_train = pd.concat([incomes_train,salary_train],axis=1)\n",
    "bank_test = pd.concat([incomes_test,salary_test],axis=1)"
   ]
  },
  {
   "cell_type": "code",
   "execution_count": 15,
   "metadata": {
    "collapsed": false
   },
   "outputs": [],
   "source": [
    "new_bank_train = bank_train.reset_index()\n",
    "new_bank_test = bank_test.reset_index()#合并到总表"
   ]
  },
  {
   "cell_type": "code",
   "execution_count": 16,
   "metadata": {
    "collapsed": true
   },
   "outputs": [],
   "source": [
    "bill_detail_train = pd.read_csv('train//bill_detail_train.txt',header=None,names=['user_id','tm_encode','bank_id','last_bill','last_return','credit_amount','this_bill_left','minreturn_bill','use_times','this_bill_amount','adjust_amount','recircle_rate','left_amount','load_amount','return_item'])"
   ]
  },
  {
   "cell_type": "code",
   "execution_count": 17,
   "metadata": {
    "collapsed": true
   },
   "outputs": [],
   "source": [
    "bill_detail_test = pd.read_csv('test//bill_detail_test.txt',header=None,names=['user_id','tm_encode','bank_id','last_bill','last_return','credit_amount','this_bill_left','minreturn_bill','use_times','this_bill_amount','adjust_amount','recircle_rate','left_amount','load_amount','return_item'])"
   ]
  },
  {
   "cell_type": "code",
   "execution_count": 18,
   "metadata": {
    "collapsed": false,
    "scrolled": false
   },
   "outputs": [],
   "source": [
    "# 平均信用卡账单金额\n",
    "mean_bill_train = bill_detail_train.loc[:,['user_id','this_bill_amount']]\n",
    "mean_bill_test = bill_detail_test.loc[:,['user_id','this_bill_amount']]"
   ]
  },
  {
   "cell_type": "code",
   "execution_count": 19,
   "metadata": {
    "collapsed": false
   },
   "outputs": [],
   "source": [
    "mean_bill_train = mean_bill_train.loc[mean_bill_train['this_bill_amount']!=0]\n",
    "mean_bill_test = mean_bill_test.loc[mean_bill_test['this_bill_amount']!=0]"
   ]
  },
  {
   "cell_type": "code",
   "execution_count": 20,
   "metadata": {
    "collapsed": false
   },
   "outputs": [],
   "source": [
    "mean_bill_train = mean_bill_train.groupby('user_id')['this_bill_amount'].mean()\n",
    "mean_bill_test = mean_bill_test.groupby('user_id')['this_bill_amount'].mean()"
   ]
  },
  {
   "cell_type": "code",
   "execution_count": 21,
   "metadata": {
    "collapsed": false,
    "scrolled": true
   },
   "outputs": [],
   "source": [
    "# 合并到表\n",
    "mean_bill_train = pd.DataFrame(mean_bill_train).reset_index()\n",
    "mean_bill_test = pd.DataFrame(mean_bill_test).reset_index()"
   ]
  },
  {
   "cell_type": "code",
   "execution_count": 22,
   "metadata": {
    "collapsed": false,
    "scrolled": true
   },
   "outputs": [],
   "source": [
    "bill_detail_train = bill_detail_train.drop(['tm_encode','last_bill','last_return','minreturn_bill','use_times','adjust_amount'],axis=1)\n",
    "bill_detail_test = bill_detail_test.drop(['tm_encode','last_bill','last_return','minreturn_bill','use_times','adjust_amount'],axis=1)"
   ]
  },
  {
   "cell_type": "code",
   "execution_count": 23,
   "metadata": {
    "collapsed": false
   },
   "outputs": [],
   "source": [
    "#持有信用卡数量\n",
    "banks_train = bill_detail_train[['user_id','bank_id']]\n",
    "banks_test = bill_detail_test[['user_id','bank_id']]"
   ]
  },
  {
   "cell_type": "code",
   "execution_count": 24,
   "metadata": {
    "collapsed": false
   },
   "outputs": [],
   "source": [
    "banks1_train = banks_train.drop_duplicates()\n",
    "banks1_test = banks_test.drop_duplicates()"
   ]
  },
  {
   "cell_type": "code",
   "execution_count": 25,
   "metadata": {
    "collapsed": false
   },
   "outputs": [],
   "source": [
    "banks2_train = banks1_train.groupby('user_id')\n",
    "banks2_test = banks1_test.groupby('user_id')"
   ]
  },
  {
   "cell_type": "code",
   "execution_count": 26,
   "metadata": {
    "collapsed": false,
    "scrolled": true
   },
   "outputs": [],
   "source": [
    "banks3_train = banks2_train.count()\n",
    "banks3_test = banks2_test.count()"
   ]
  },
  {
   "cell_type": "code",
   "execution_count": 27,
   "metadata": {
    "collapsed": false,
    "scrolled": true
   },
   "outputs": [],
   "source": [
    "banks4_train = banks3_train.reset_index()\n",
    "banks4_test = banks3_test.reset_index()"
   ]
  },
  {
   "cell_type": "code",
   "execution_count": 28,
   "metadata": {
    "collapsed": false
   },
   "outputs": [],
   "source": [
    "banks5_train = banks4_train.rename(columns={'bank_id':'banks'})\n",
    "banks5_test = banks4_test.rename(columns={'bank_id':'banks'})\n",
    "#合并到表"
   ]
  },
  {
   "cell_type": "code",
   "execution_count": 29,
   "metadata": {
    "collapsed": true
   },
   "outputs": [],
   "source": [
    "grouped1_train = bill_detail_train.groupby(['user_id','bank_id'])\n",
    "grouped1_test = bill_detail_test.groupby(['user_id','bank_id'])"
   ]
  },
  {
   "cell_type": "code",
   "execution_count": 30,
   "metadata": {
    "collapsed": true
   },
   "outputs": [],
   "source": [
    "#平均信用卡额度\n",
    "credit_amount_train = (grouped1_train['credit_amount'].sum())/(grouped1_train['credit_amount'].size())\n",
    "credit_amount_test = (grouped1_test['credit_amount'].sum())/(grouped1_test['credit_amount'].size())"
   ]
  },
  {
   "cell_type": "code",
   "execution_count": 31,
   "metadata": {
    "collapsed": false
   },
   "outputs": [
    {
     "data": {
      "text/plain": [
       "user_id  bank_id\n",
       "2        4          19.573962\n",
       "         9          19.971271\n",
       "         16         17.264566\n",
       "3        2          18.361833\n",
       "4        3          20.441274\n",
       "dtype: float64"
      ]
     },
     "execution_count": 31,
     "metadata": {},
     "output_type": "execute_result"
    }
   ],
   "source": [
    "credit_amount_train.head()"
   ]
  },
  {
   "cell_type": "code",
   "execution_count": 32,
   "metadata": {
    "collapsed": true
   },
   "outputs": [],
   "source": [
    "credit_amounts_train = pd.DataFrame(credit_amount_train).reset_index()\n",
    "credit_amounts_test = pd.DataFrame(credit_amount_test).reset_index()"
   ]
  },
  {
   "cell_type": "code",
   "execution_count": 33,
   "metadata": {
    "collapsed": true
   },
   "outputs": [],
   "source": [
    "credit_amounts_train.rename(columns={0:'credits'},inplace=True)\n",
    "credit_amounts_test.rename(columns={0:'credits'},inplace=True)"
   ]
  },
  {
   "cell_type": "code",
   "execution_count": 34,
   "metadata": {
    "collapsed": true
   },
   "outputs": [],
   "source": [
    "user_credit_amount_train = pd.DataFrame((credit_amounts_train.groupby('user_id')['credits'].sum())/(credit_amounts_train.groupby('user_id')['bank_id'].count()))\n",
    "user_credit_amount_test = pd.DataFrame((credit_amounts_test.groupby('user_id')['credits'].sum())/(credit_amounts_test.groupby('user_id')['bank_id'].count()))"
   ]
  },
  {
   "cell_type": "code",
   "execution_count": 35,
   "metadata": {
    "collapsed": true
   },
   "outputs": [],
   "source": [
    "user_credit_amount_train = user_credit_amount_train.reset_index()\n",
    "user_credit_amount_test = user_credit_amount_test.reset_index()"
   ]
  },
  {
   "cell_type": "code",
   "execution_count": 36,
   "metadata": {
    "collapsed": false
   },
   "outputs": [],
   "source": [
    "user_credit_amount_train.rename(columns={0:'credits'},inplace=True)\n",
    "user_credit_amount_test.rename(columns={0:'credits'},inplace=True)\n",
    "#合并到表"
   ]
  },
  {
   "cell_type": "code",
   "execution_count": 37,
   "metadata": {
    "collapsed": true
   },
   "outputs": [],
   "source": [
    "grouped2_train = bill_detail_train.groupby('user_id')\n",
    "grouped2_test = bill_detail_test.groupby('user_id')"
   ]
  },
  {
   "cell_type": "code",
   "execution_count": 38,
   "metadata": {
    "collapsed": false
   },
   "outputs": [],
   "source": [
    "#用户信用卡发生的总利息\n",
    "user_rate_train = grouped2_train['recircle_rate'].sum().reset_index()\n",
    "user_rate_test = grouped2_test['recircle_rate'].sum().reset_index()"
   ]
  },
  {
   "cell_type": "code",
   "execution_count": 39,
   "metadata": {
    "collapsed": true
   },
   "outputs": [],
   "source": [
    "d_train = pd.merge(banks5_train,user_credit_amount_train,on='user_id')\n",
    "d_test = pd.merge(banks5_test,user_credit_amount_test,on='user_id')"
   ]
  },
  {
   "cell_type": "code",
   "execution_count": 40,
   "metadata": {
    "collapsed": true
   },
   "outputs": [],
   "source": [
    "e_train = pd.merge(d_train,user_rate_train,on='user_id')\n",
    "e_test = pd.merge(d_test,user_rate_test,on='user_id')"
   ]
  },
  {
   "cell_type": "code",
   "execution_count": 41,
   "metadata": {
    "collapsed": true
   },
   "outputs": [],
   "source": [
    "f_train = pd.merge(e_train,mean_bill_train,on='user_id') \n",
    "f_test = pd.merge(e_test,mean_bill_test,on='user_id') \n",
    "#合并到总表"
   ]
  },
  {
   "cell_type": "code",
   "execution_count": 42,
   "metadata": {
    "collapsed": false
   },
   "outputs": [],
   "source": [
    "overdue_train = pd.read_csv('train//overdue_train.txt',header=None,names=['user_id','target'])"
   ]
  },
  {
   "cell_type": "code",
   "execution_count": 43,
   "metadata": {
    "collapsed": false
   },
   "outputs": [],
   "source": [
    "#browse_history_train = pd.read_csv('train//browse_history_train.txt',header=None,names=['user_id','tm_encode_2','browse_data','browse_tag'])"
   ]
  },
  {
   "cell_type": "code",
   "execution_count": 44,
   "metadata": {
    "collapsed": true
   },
   "outputs": [],
   "source": [
    "#browse_history_test = pd.read_csv('test//browse_history_test.txt',header=None,names=['user_id','tm_encode_2','browse_data','browse_tag'])"
   ]
  },
  {
   "cell_type": "code",
   "execution_count": 45,
   "metadata": {
    "collapsed": false
   },
   "outputs": [],
   "source": [
    "#用户总浏览频次\n",
    "#browse_times_train = browse_history_train[['user_id','tm_encode_2']]"
   ]
  },
  {
   "cell_type": "code",
   "execution_count": 46,
   "metadata": {
    "collapsed": true
   },
   "outputs": [],
   "source": [
    "#browse_times_test = browse_history_test[['user_id','tm_encode_2']]"
   ]
  },
  {
   "cell_type": "code",
   "execution_count": 47,
   "metadata": {
    "collapsed": false
   },
   "outputs": [],
   "source": [
    "#browse_train = browse_times_train.drop_duplicates()\n",
    "#browse_test = browse_times_test.drop_duplicates()"
   ]
  },
  {
   "cell_type": "code",
   "execution_count": 48,
   "metadata": {
    "collapsed": false
   },
   "outputs": [],
   "source": [
    "#browse1_train = browse_train.groupby('user_id')\n",
    "#browse1_test = browse_test.groupby('user_id')"
   ]
  },
  {
   "cell_type": "code",
   "execution_count": 49,
   "metadata": {
    "collapsed": false,
    "scrolled": false
   },
   "outputs": [],
   "source": [
    "#browse2_train = browse1_train['tm_encode_2'].count()\n",
    "#browse2_test = browse1_test['tm_encode_2'].count()"
   ]
  },
  {
   "cell_type": "code",
   "execution_count": 50,
   "metadata": {
    "collapsed": false,
    "scrolled": true
   },
   "outputs": [],
   "source": [
    "#browse3_train = pd.DataFrame(browse2_train).reset_index()\n",
    "#browse3_test = pd.DataFrame(browse2_test).reset_index()"
   ]
  },
  {
   "cell_type": "code",
   "execution_count": 51,
   "metadata": {
    "collapsed": false,
    "scrolled": true
   },
   "outputs": [],
   "source": [
    "df_train = pd.merge(user_info_train,overdue_train,on='user_id')"
   ]
  },
  {
   "cell_type": "code",
   "execution_count": 52,
   "metadata": {
    "collapsed": false
   },
   "outputs": [],
   "source": [
    "df1_train = pd.merge(df_train,f_train,on='user_id',how='left')\n",
    "df1_test = pd.merge(user_info_test,f_test,on='user_id',how='left')"
   ]
  },
  {
   "cell_type": "code",
   "execution_count": 53,
   "metadata": {
    "collapsed": true
   },
   "outputs": [],
   "source": [
    "df2_train = pd.merge(df1_train,new_bank_train,on='user_id',how='left')\n",
    "df2_test = pd.merge(df1_test,new_bank_test,on='user_id',how='left')"
   ]
  },
  {
   "cell_type": "code",
   "execution_count": 54,
   "metadata": {
    "collapsed": false
   },
   "outputs": [
    {
     "data": {
      "text/plain": [
       "(55596, 16)"
      ]
     },
     "execution_count": 54,
     "metadata": {},
     "output_type": "execute_result"
    }
   ],
   "source": [
    "df2_train.shape"
   ]
  },
  {
   "cell_type": "code",
   "execution_count": 55,
   "metadata": {
    "collapsed": false
   },
   "outputs": [],
   "source": [
    "#df3_train = pd.merge(df2_train,browse3_train,on='user_id',how='left')\n",
    "#df3_test = pd.merge(df2_test,browse3_test,on='user_id',how='left')"
   ]
  },
  {
   "cell_type": "code",
   "execution_count": 56,
   "metadata": {
    "collapsed": false
   },
   "outputs": [
    {
     "name": "stdout",
     "output_type": "stream",
     "text": [
      "<class 'pandas.core.frame.DataFrame'>\n",
      "Int64Index: 55596 entries, 0 to 55595\n",
      "Data columns (total 16 columns):\n",
      "user_id             55596 non-null int64\n",
      "sex                 55596 non-null int64\n",
      "occupation          55596 non-null int64\n",
      "education           55596 non-null int64\n",
      "marriage            55596 non-null int64\n",
      "household           55596 non-null int64\n",
      "target              55596 non-null int64\n",
      "banks               45375 non-null float64\n",
      "credits             45375 non-null float64\n",
      "recircle_rate       45375 non-null float64\n",
      "this_bill_amount    45375 non-null float64\n",
      "mean_income         9293 non-null float64\n",
      "mean_pay            9284 non-null float64\n",
      "sum_income          9293 non-null float64\n",
      "sum_pay             9284 non-null float64\n",
      "trade_amount        2991 non-null float64\n",
      "dtypes: float64(9), int64(7)\n",
      "memory usage: 7.2 MB\n"
     ]
    }
   ],
   "source": [
    "df2_train.info()"
   ]
  },
  {
   "cell_type": "code",
   "execution_count": 57,
   "metadata": {
    "collapsed": false
   },
   "outputs": [
    {
     "name": "stdout",
     "output_type": "stream",
     "text": [
      "<class 'pandas.core.frame.DataFrame'>\n",
      "Int64Index: 13899 entries, 0 to 13898\n",
      "Data columns (total 15 columns):\n",
      "user_id             13899 non-null int64\n",
      "sex                 13899 non-null int64\n",
      "occupation          13899 non-null int64\n",
      "education           13899 non-null int64\n",
      "marriage            13899 non-null int64\n",
      "household           13899 non-null int64\n",
      "banks               10960 non-null float64\n",
      "credits             10960 non-null float64\n",
      "recircle_rate       10960 non-null float64\n",
      "this_bill_amount    10960 non-null float64\n",
      "mean_income         709 non-null float64\n",
      "mean_pay            705 non-null float64\n",
      "sum_income          709 non-null float64\n",
      "sum_pay             705 non-null float64\n",
      "trade_amount        166 non-null float64\n",
      "dtypes: float64(9), int64(6)\n",
      "memory usage: 1.7 MB\n"
     ]
    }
   ],
   "source": [
    "df2_test.info()"
   ]
  },
  {
   "cell_type": "code",
   "execution_count": 58,
   "metadata": {
    "collapsed": false,
    "scrolled": true
   },
   "outputs": [],
   "source": [
    "df2_train.fillna(-999,inplace=True)"
   ]
  },
  {
   "cell_type": "code",
   "execution_count": 59,
   "metadata": {
    "collapsed": false,
    "scrolled": true
   },
   "outputs": [],
   "source": [
    "df2_test.fillna(-999,inplace=True)"
   ]
  },
  {
   "cell_type": "code",
   "execution_count": 60,
   "metadata": {
    "collapsed": false,
    "scrolled": true
   },
   "outputs": [],
   "source": [
    "df2_train = pd.get_dummies(data=df2_train,columns=['sex','occupation','education','marriage','household'])"
   ]
  },
  {
   "cell_type": "code",
   "execution_count": 61,
   "metadata": {
    "collapsed": false
   },
   "outputs": [],
   "source": [
    "df2_test = pd.get_dummies(data=df2_test,columns=['sex','occupation','education','marriage','household'])"
   ]
  },
  {
   "cell_type": "code",
   "execution_count": 62,
   "metadata": {
    "collapsed": false
   },
   "outputs": [],
   "source": [
    "X = df2_train.drop(['user_id','target'],axis=1)\n",
    "Y = df2_train['target']"
   ]
  },
  {
   "cell_type": "code",
   "execution_count": 63,
   "metadata": {
    "collapsed": false
   },
   "outputs": [],
   "source": [
    "X_test = df2_test.drop(['user_id'],axis=1)"
   ]
  },
  {
   "cell_type": "code",
   "execution_count": 64,
   "metadata": {
    "collapsed": false
   },
   "outputs": [
    {
     "data": {
      "text/html": [
       "<div>\n",
       "<table border=\"1\" class=\"dataframe\">\n",
       "  <thead>\n",
       "    <tr style=\"text-align: right;\">\n",
       "      <th></th>\n",
       "      <th>banks</th>\n",
       "      <th>credits</th>\n",
       "      <th>recircle_rate</th>\n",
       "      <th>this_bill_amount</th>\n",
       "      <th>mean_income</th>\n",
       "      <th>mean_pay</th>\n",
       "      <th>sum_income</th>\n",
       "      <th>sum_pay</th>\n",
       "      <th>trade_amount</th>\n",
       "      <th>sex_0</th>\n",
       "      <th>...</th>\n",
       "      <th>marriage_1</th>\n",
       "      <th>marriage_2</th>\n",
       "      <th>marriage_3</th>\n",
       "      <th>marriage_4</th>\n",
       "      <th>marriage_5</th>\n",
       "      <th>household_0</th>\n",
       "      <th>household_1</th>\n",
       "      <th>household_2</th>\n",
       "      <th>household_3</th>\n",
       "      <th>household_4</th>\n",
       "    </tr>\n",
       "  </thead>\n",
       "  <tbody>\n",
       "    <tr>\n",
       "      <th>0</th>\n",
       "      <td>5.0</td>\n",
       "      <td>16.512730</td>\n",
       "      <td>0.000000</td>\n",
       "      <td>19.680223</td>\n",
       "      <td>-999.000000</td>\n",
       "      <td>-999.000000</td>\n",
       "      <td>-999.000000</td>\n",
       "      <td>-999.000000</td>\n",
       "      <td>-999.0</td>\n",
       "      <td>0.0</td>\n",
       "      <td>...</td>\n",
       "      <td>1.0</td>\n",
       "      <td>0.0</td>\n",
       "      <td>0.0</td>\n",
       "      <td>0.0</td>\n",
       "      <td>0.0</td>\n",
       "      <td>0.0</td>\n",
       "      <td>0.0</td>\n",
       "      <td>0.0</td>\n",
       "      <td>0.0</td>\n",
       "      <td>1.0</td>\n",
       "    </tr>\n",
       "    <tr>\n",
       "      <th>1</th>\n",
       "      <td>2.0</td>\n",
       "      <td>19.971271</td>\n",
       "      <td>62.082722</td>\n",
       "      <td>18.825107</td>\n",
       "      <td>12.971336</td>\n",
       "      <td>11.192152</td>\n",
       "      <td>972.850228</td>\n",
       "      <td>3234.531975</td>\n",
       "      <td>-999.0</td>\n",
       "      <td>0.0</td>\n",
       "      <td>...</td>\n",
       "      <td>0.0</td>\n",
       "      <td>0.0</td>\n",
       "      <td>1.0</td>\n",
       "      <td>0.0</td>\n",
       "      <td>0.0</td>\n",
       "      <td>0.0</td>\n",
       "      <td>0.0</td>\n",
       "      <td>1.0</td>\n",
       "      <td>0.0</td>\n",
       "      <td>0.0</td>\n",
       "    </tr>\n",
       "    <tr>\n",
       "      <th>2</th>\n",
       "      <td>2.0</td>\n",
       "      <td>19.979821</td>\n",
       "      <td>279.476096</td>\n",
       "      <td>19.007284</td>\n",
       "      <td>13.665650</td>\n",
       "      <td>12.457337</td>\n",
       "      <td>1708.206195</td>\n",
       "      <td>3662.457063</td>\n",
       "      <td>-999.0</td>\n",
       "      <td>0.0</td>\n",
       "      <td>...</td>\n",
       "      <td>0.0</td>\n",
       "      <td>0.0</td>\n",
       "      <td>1.0</td>\n",
       "      <td>0.0</td>\n",
       "      <td>0.0</td>\n",
       "      <td>0.0</td>\n",
       "      <td>1.0</td>\n",
       "      <td>0.0</td>\n",
       "      <td>0.0</td>\n",
       "      <td>0.0</td>\n",
       "    </tr>\n",
       "    <tr>\n",
       "      <th>3</th>\n",
       "      <td>8.0</td>\n",
       "      <td>16.178042</td>\n",
       "      <td>1161.246092</td>\n",
       "      <td>18.631734</td>\n",
       "      <td>-999.000000</td>\n",
       "      <td>-999.000000</td>\n",
       "      <td>-999.000000</td>\n",
       "      <td>-999.000000</td>\n",
       "      <td>-999.0</td>\n",
       "      <td>0.0</td>\n",
       "      <td>...</td>\n",
       "      <td>0.0</td>\n",
       "      <td>0.0</td>\n",
       "      <td>1.0</td>\n",
       "      <td>0.0</td>\n",
       "      <td>0.0</td>\n",
       "      <td>0.0</td>\n",
       "      <td>0.0</td>\n",
       "      <td>1.0</td>\n",
       "      <td>0.0</td>\n",
       "      <td>0.0</td>\n",
       "    </tr>\n",
       "    <tr>\n",
       "      <th>4</th>\n",
       "      <td>3.0</td>\n",
       "      <td>19.020621</td>\n",
       "      <td>155.478508</td>\n",
       "      <td>18.762691</td>\n",
       "      <td>12.847302</td>\n",
       "      <td>11.430923</td>\n",
       "      <td>2736.475318</td>\n",
       "      <td>7064.310678</td>\n",
       "      <td>-999.0</td>\n",
       "      <td>0.0</td>\n",
       "      <td>...</td>\n",
       "      <td>1.0</td>\n",
       "      <td>0.0</td>\n",
       "      <td>0.0</td>\n",
       "      <td>0.0</td>\n",
       "      <td>0.0</td>\n",
       "      <td>0.0</td>\n",
       "      <td>1.0</td>\n",
       "      <td>0.0</td>\n",
       "      <td>0.0</td>\n",
       "      <td>0.0</td>\n",
       "    </tr>\n",
       "  </tbody>\n",
       "</table>\n",
       "<p>5 rows × 33 columns</p>\n",
       "</div>"
      ],
      "text/plain": [
       "   banks    credits  recircle_rate  this_bill_amount  mean_income    mean_pay  \\\n",
       "0    5.0  16.512730       0.000000         19.680223  -999.000000 -999.000000   \n",
       "1    2.0  19.971271      62.082722         18.825107    12.971336   11.192152   \n",
       "2    2.0  19.979821     279.476096         19.007284    13.665650   12.457337   \n",
       "3    8.0  16.178042    1161.246092         18.631734  -999.000000 -999.000000   \n",
       "4    3.0  19.020621     155.478508         18.762691    12.847302   11.430923   \n",
       "\n",
       "    sum_income      sum_pay  trade_amount  sex_0     ...       marriage_1  \\\n",
       "0  -999.000000  -999.000000        -999.0    0.0     ...              1.0   \n",
       "1   972.850228  3234.531975        -999.0    0.0     ...              0.0   \n",
       "2  1708.206195  3662.457063        -999.0    0.0     ...              0.0   \n",
       "3  -999.000000  -999.000000        -999.0    0.0     ...              0.0   \n",
       "4  2736.475318  7064.310678        -999.0    0.0     ...              1.0   \n",
       "\n",
       "   marriage_2  marriage_3  marriage_4  marriage_5  household_0  household_1  \\\n",
       "0         0.0         0.0         0.0         0.0          0.0          0.0   \n",
       "1         0.0         1.0         0.0         0.0          0.0          0.0   \n",
       "2         0.0         1.0         0.0         0.0          0.0          1.0   \n",
       "3         0.0         1.0         0.0         0.0          0.0          0.0   \n",
       "4         0.0         0.0         0.0         0.0          0.0          1.0   \n",
       "\n",
       "   household_2  household_3  household_4  \n",
       "0          0.0          0.0          1.0  \n",
       "1          1.0          0.0          0.0  \n",
       "2          0.0          0.0          0.0  \n",
       "3          1.0          0.0          0.0  \n",
       "4          0.0          0.0          0.0  \n",
       "\n",
       "[5 rows x 33 columns]"
      ]
     },
     "execution_count": 64,
     "metadata": {},
     "output_type": "execute_result"
    }
   ],
   "source": [
    "X.head()"
   ]
  },
  {
   "cell_type": "code",
   "execution_count": 65,
   "metadata": {
    "collapsed": false
   },
   "outputs": [
    {
     "data": {
      "text/html": [
       "<div>\n",
       "<table border=\"1\" class=\"dataframe\">\n",
       "  <thead>\n",
       "    <tr style=\"text-align: right;\">\n",
       "      <th></th>\n",
       "      <th>banks</th>\n",
       "      <th>credits</th>\n",
       "      <th>recircle_rate</th>\n",
       "      <th>this_bill_amount</th>\n",
       "      <th>mean_income</th>\n",
       "      <th>mean_pay</th>\n",
       "      <th>sum_income</th>\n",
       "      <th>sum_pay</th>\n",
       "      <th>trade_amount</th>\n",
       "      <th>sex_0</th>\n",
       "      <th>...</th>\n",
       "      <th>marriage_1</th>\n",
       "      <th>marriage_2</th>\n",
       "      <th>marriage_3</th>\n",
       "      <th>marriage_4</th>\n",
       "      <th>marriage_5</th>\n",
       "      <th>household_0</th>\n",
       "      <th>household_1</th>\n",
       "      <th>household_2</th>\n",
       "      <th>household_3</th>\n",
       "      <th>household_4</th>\n",
       "    </tr>\n",
       "  </thead>\n",
       "  <tbody>\n",
       "    <tr>\n",
       "      <th>0</th>\n",
       "      <td>4.0</td>\n",
       "      <td>18.906635</td>\n",
       "      <td>0.000000</td>\n",
       "      <td>18.316042</td>\n",
       "      <td>14.615321</td>\n",
       "      <td>12.253343</td>\n",
       "      <td>1593.070037</td>\n",
       "      <td>4521.483589</td>\n",
       "      <td>-999.000000</td>\n",
       "      <td>0.0</td>\n",
       "      <td>...</td>\n",
       "      <td>0.0</td>\n",
       "      <td>0.0</td>\n",
       "      <td>1.0</td>\n",
       "      <td>0.0</td>\n",
       "      <td>0.0</td>\n",
       "      <td>0.0</td>\n",
       "      <td>0.0</td>\n",
       "      <td>1.0</td>\n",
       "      <td>0.0</td>\n",
       "      <td>0.0</td>\n",
       "    </tr>\n",
       "    <tr>\n",
       "      <th>1</th>\n",
       "      <td>4.0</td>\n",
       "      <td>20.166904</td>\n",
       "      <td>47.949803</td>\n",
       "      <td>18.367104</td>\n",
       "      <td>13.207106</td>\n",
       "      <td>11.423941</td>\n",
       "      <td>2033.894275</td>\n",
       "      <td>5300.708664</td>\n",
       "      <td>15.105702</td>\n",
       "      <td>0.0</td>\n",
       "      <td>...</td>\n",
       "      <td>1.0</td>\n",
       "      <td>0.0</td>\n",
       "      <td>0.0</td>\n",
       "      <td>0.0</td>\n",
       "      <td>0.0</td>\n",
       "      <td>0.0</td>\n",
       "      <td>0.0</td>\n",
       "      <td>0.0</td>\n",
       "      <td>0.0</td>\n",
       "      <td>1.0</td>\n",
       "    </tr>\n",
       "    <tr>\n",
       "      <th>2</th>\n",
       "      <td>-999.0</td>\n",
       "      <td>-999.000000</td>\n",
       "      <td>-999.000000</td>\n",
       "      <td>-999.000000</td>\n",
       "      <td>-999.000000</td>\n",
       "      <td>-999.000000</td>\n",
       "      <td>-999.000000</td>\n",
       "      <td>-999.000000</td>\n",
       "      <td>-999.000000</td>\n",
       "      <td>0.0</td>\n",
       "      <td>...</td>\n",
       "      <td>1.0</td>\n",
       "      <td>0.0</td>\n",
       "      <td>0.0</td>\n",
       "      <td>0.0</td>\n",
       "      <td>0.0</td>\n",
       "      <td>0.0</td>\n",
       "      <td>0.0</td>\n",
       "      <td>1.0</td>\n",
       "      <td>0.0</td>\n",
       "      <td>0.0</td>\n",
       "    </tr>\n",
       "    <tr>\n",
       "      <th>3</th>\n",
       "      <td>-999.0</td>\n",
       "      <td>-999.000000</td>\n",
       "      <td>-999.000000</td>\n",
       "      <td>-999.000000</td>\n",
       "      <td>-999.000000</td>\n",
       "      <td>-999.000000</td>\n",
       "      <td>-999.000000</td>\n",
       "      <td>-999.000000</td>\n",
       "      <td>-999.000000</td>\n",
       "      <td>0.0</td>\n",
       "      <td>...</td>\n",
       "      <td>0.0</td>\n",
       "      <td>1.0</td>\n",
       "      <td>0.0</td>\n",
       "      <td>0.0</td>\n",
       "      <td>0.0</td>\n",
       "      <td>0.0</td>\n",
       "      <td>1.0</td>\n",
       "      <td>0.0</td>\n",
       "      <td>0.0</td>\n",
       "      <td>0.0</td>\n",
       "    </tr>\n",
       "    <tr>\n",
       "      <th>4</th>\n",
       "      <td>-999.0</td>\n",
       "      <td>-999.000000</td>\n",
       "      <td>-999.000000</td>\n",
       "      <td>-999.000000</td>\n",
       "      <td>12.843720</td>\n",
       "      <td>11.978474</td>\n",
       "      <td>5445.737430</td>\n",
       "      <td>6959.493585</td>\n",
       "      <td>-999.000000</td>\n",
       "      <td>0.0</td>\n",
       "      <td>...</td>\n",
       "      <td>0.0</td>\n",
       "      <td>1.0</td>\n",
       "      <td>0.0</td>\n",
       "      <td>0.0</td>\n",
       "      <td>0.0</td>\n",
       "      <td>0.0</td>\n",
       "      <td>0.0</td>\n",
       "      <td>1.0</td>\n",
       "      <td>0.0</td>\n",
       "      <td>0.0</td>\n",
       "    </tr>\n",
       "  </tbody>\n",
       "</table>\n",
       "<p>5 rows × 33 columns</p>\n",
       "</div>"
      ],
      "text/plain": [
       "   banks     credits  recircle_rate  this_bill_amount  mean_income  \\\n",
       "0    4.0   18.906635       0.000000         18.316042    14.615321   \n",
       "1    4.0   20.166904      47.949803         18.367104    13.207106   \n",
       "2 -999.0 -999.000000    -999.000000       -999.000000  -999.000000   \n",
       "3 -999.0 -999.000000    -999.000000       -999.000000  -999.000000   \n",
       "4 -999.0 -999.000000    -999.000000       -999.000000    12.843720   \n",
       "\n",
       "     mean_pay   sum_income      sum_pay  trade_amount  sex_0     ...       \\\n",
       "0   12.253343  1593.070037  4521.483589   -999.000000    0.0     ...        \n",
       "1   11.423941  2033.894275  5300.708664     15.105702    0.0     ...        \n",
       "2 -999.000000  -999.000000  -999.000000   -999.000000    0.0     ...        \n",
       "3 -999.000000  -999.000000  -999.000000   -999.000000    0.0     ...        \n",
       "4   11.978474  5445.737430  6959.493585   -999.000000    0.0     ...        \n",
       "\n",
       "   marriage_1  marriage_2  marriage_3  marriage_4  marriage_5  household_0  \\\n",
       "0         0.0         0.0         1.0         0.0         0.0          0.0   \n",
       "1         1.0         0.0         0.0         0.0         0.0          0.0   \n",
       "2         1.0         0.0         0.0         0.0         0.0          0.0   \n",
       "3         0.0         1.0         0.0         0.0         0.0          0.0   \n",
       "4         0.0         1.0         0.0         0.0         0.0          0.0   \n",
       "\n",
       "   household_1  household_2  household_3  household_4  \n",
       "0          0.0          1.0          0.0          0.0  \n",
       "1          0.0          0.0          0.0          1.0  \n",
       "2          0.0          1.0          0.0          0.0  \n",
       "3          1.0          0.0          0.0          0.0  \n",
       "4          0.0          1.0          0.0          0.0  \n",
       "\n",
       "[5 rows x 33 columns]"
      ]
     },
     "execution_count": 65,
     "metadata": {},
     "output_type": "execute_result"
    }
   ],
   "source": [
    "X_test.head()"
   ]
  },
  {
   "cell_type": "code",
   "execution_count": 66,
   "metadata": {
    "collapsed": true
   },
   "outputs": [],
   "source": [
    "from sklearn.cross_validation import train_test_split"
   ]
  },
  {
   "cell_type": "code",
   "execution_count": 67,
   "metadata": {
    "collapsed": true
   },
   "outputs": [],
   "source": [
    "xtrain,xtest,ytrain,ytest = train_test_split(X,Y,train_size=0.75)"
   ]
  },
  {
   "cell_type": "code",
   "execution_count": 68,
   "metadata": {
    "collapsed": true
   },
   "outputs": [],
   "source": [
    "from sklearn.ensemble import GradientBoostingClassifier"
   ]
  },
  {
   "cell_type": "code",
   "execution_count": 69,
   "metadata": {
    "collapsed": true
   },
   "outputs": [],
   "source": [
    "gbc = GradientBoostingClassifier()"
   ]
  },
  {
   "cell_type": "code",
   "execution_count": 70,
   "metadata": {
    "collapsed": false
   },
   "outputs": [
    {
     "data": {
      "text/plain": [
       "GradientBoostingClassifier(init=None, learning_rate=0.1, loss='deviance',\n",
       "              max_depth=3, max_features=None, max_leaf_nodes=None,\n",
       "              min_samples_leaf=1, min_samples_split=2,\n",
       "              min_weight_fraction_leaf=0.0, n_estimators=100,\n",
       "              presort='auto', random_state=None, subsample=1.0, verbose=0,\n",
       "              warm_start=False)"
      ]
     },
     "execution_count": 70,
     "metadata": {},
     "output_type": "execute_result"
    }
   ],
   "source": [
    "gbc.fit(xtrain,ytrain)"
   ]
  },
  {
   "cell_type": "code",
   "execution_count": 71,
   "metadata": {
    "collapsed": false
   },
   "outputs": [
    {
     "data": {
      "text/plain": [
       "0.87394776602633284"
      ]
     },
     "execution_count": 71,
     "metadata": {},
     "output_type": "execute_result"
    }
   ],
   "source": [
    "gbc.score(xtest,ytest)"
   ]
  },
  {
   "cell_type": "code",
   "execution_count": 72,
   "metadata": {
    "collapsed": false
   },
   "outputs": [
    {
     "data": {
      "text/plain": [
       "array([[ 0.74622387,  0.25377613],\n",
       "       [ 0.84423404,  0.15576596],\n",
       "       [ 0.9297287 ,  0.0702713 ],\n",
       "       ..., \n",
       "       [ 0.86892764,  0.13107236],\n",
       "       [ 0.89070881,  0.10929119],\n",
       "       [ 0.86197084,  0.13802916]])"
      ]
     },
     "execution_count": 72,
     "metadata": {},
     "output_type": "execute_result"
    }
   ],
   "source": [
    "gbc.predict_proba(xtest)"
   ]
  },
  {
   "cell_type": "code",
   "execution_count": 73,
   "metadata": {
    "collapsed": true
   },
   "outputs": [],
   "source": [
    "from sklearn.metrics import precision_recall_curve"
   ]
  },
  {
   "cell_type": "code",
   "execution_count": 74,
   "metadata": {
    "collapsed": true
   },
   "outputs": [],
   "source": [
    "ytrue = ytest"
   ]
  },
  {
   "cell_type": "code",
   "execution_count": 75,
   "metadata": {
    "collapsed": false
   },
   "outputs": [],
   "source": [
    "pred =gbc.predict_proba(xtest)[:,1]"
   ]
  },
  {
   "cell_type": "code",
   "execution_count": 76,
   "metadata": {
    "collapsed": true
   },
   "outputs": [],
   "source": [
    "pre,recall,thre = precision_recall_curve(ytrue,pred)"
   ]
  },
  {
   "cell_type": "code",
   "execution_count": 77,
   "metadata": {
    "collapsed": false
   },
   "outputs": [
    {
     "data": {
      "text/plain": [
       "<matplotlib.text.Text at 0x1ef8f7b18d0>"
      ]
     },
     "execution_count": 77,
     "metadata": {},
     "output_type": "execute_result"
    },
    {
     "data": {
      "image/png": "[encoded data removed]",
      "text/plain": [
       "<matplotlib.figure.Figure at 0x1ef8f780940>"
      ]
     },
     "metadata": {},
     "output_type": "display_data"
    }
   ],
   "source": [
    "plt.plot(recall,pre)\n",
    "plt.xlabel('recall')\n",
    "plt.ylabel('precision')"
   ]
  },
  {
   "cell_type": "code",
   "execution_count": 78,
   "metadata": {
    "collapsed": true
   },
   "outputs": [],
   "source": [
    "from sklearn.metrics import roc_auc_score"
   ]
  },
  {
   "cell_type": "code",
   "execution_count": 79,
   "metadata": {
    "collapsed": false
   },
   "outputs": [
    {
     "data": {
      "text/plain": [
       "0.62625603403000651"
      ]
     },
     "execution_count": 79,
     "metadata": {},
     "output_type": "execute_result"
    }
   ],
   "source": [
    "roc_auc_score(ytrue,pred)"
   ]
  },
  {
   "cell_type": "code",
   "execution_count": 80,
   "metadata": {
    "collapsed": false
   },
   "outputs": [
    {
     "data": {
      "text/plain": [
       "array([ 0.04086694,  0.15541182,  0.11945694,  0.12677812,  0.09679289,\n",
       "        0.04079504,  0.07928546,  0.052453  ,  0.05163654,  0.10049501,\n",
       "        0.00662807,  0.02471539,  0.        ,  0.        ,  0.00595893,\n",
       "        0.0049073 ,  0.00266508,  0.00054204,  0.00596131,  0.02361963,\n",
       "        0.00040034,  0.00654507,  0.00107817,  0.00616441,  0.00371435,\n",
       "        0.        ,  0.01209198,  0.00560594,  0.00126068,  0.00507002,\n",
       "        0.00855148,  0.        ,  0.01054806])"
      ]
     },
     "execution_count": 80,
     "metadata": {},
     "output_type": "execute_result"
    }
   ],
   "source": [
    "gbc.feature_importances_"
   ]
  },
  {
   "cell_type": "code",
   "execution_count": 91,
   "metadata": {
    "collapsed": false
   },
   "outputs": [
    {
     "data": {
      "text/plain": [
       "Index(['banks', 'credits', 'recircle_rate', 'this_bill_amount', 'mean_income',\n",
       "       'mean_pay', 'sum_income', 'sum_pay', 'trade_amount', 'sex_0', 'sex_1',\n",
       "       'sex_2', 'occupation_0', 'occupation_1', 'occupation_2', 'occupation_3',\n",
       "       'occupation_4', 'education_0', 'education_1', 'education_2',\n",
       "       'education_3', 'education_4', 'marriage_0', 'marriage_1', 'marriage_2',\n",
       "       'marriage_3', 'marriage_4', 'marriage_5', 'household_0', 'household_1',\n",
       "       'household_2', 'household_3', 'household_4'],\n",
       "      dtype='object')"
      ]
     },
     "execution_count": 91,
     "metadata": {},
     "output_type": "execute_result"
    }
   ],
   "source": [
    "xtrain.columns"
   ]
  },
  {
   "cell_type": "code",
   "execution_count": 95,
   "metadata": {
    "collapsed": false
   },
   "outputs": [],
   "source": [
    "feat_impo = pd.Series(gbc.feature_importances_,xtrain.columns).sort_values(ascending=False)"
   ]
  },
  {
   "cell_type": "code",
   "execution_count": 96,
   "metadata": {
    "collapsed": false
   },
   "outputs": [
    {
     "data": {
      "text/plain": [
       "<matplotlib.axes._subplots.AxesSubplot at 0x1ef9405f860>"
      ]
     },
     "execution_count": 96,
     "metadata": {},
     "output_type": "execute_result"
    },
    {
     "data": {
      "image/png": "[encoded data removed]",
      "text/plain": [
       "<matplotlib.figure.Figure at 0x1ef94069e80>"
      ]
     },
     "metadata": {},
     "output_type": "display_data"
    }
   ],
   "source": [
    "feat_impo.plot(kind='bar')"
   ]
  },
  {
   "cell_type": "code",
   "execution_count": 112,
   "metadata": {
    "collapsed": true
   },
   "outputs": [],
   "source": [
    "param_test1 = {'n_estimators':np.arange(80,160,20)}"
   ]
  },
  {
   "cell_type": "code",
   "execution_count": 100,
   "metadata": {
    "collapsed": true
   },
   "outputs": [],
   "source": [
    "from sklearn.grid_search import GridSearchCV"
   ]
  },
  {
   "cell_type": "code",
   "execution_count": 106,
   "metadata": {
    "collapsed": true
   },
   "outputs": [],
   "source": [
    "from sklearn import cross_validation, metrics"
   ]
  },
  {
   "cell_type": "code",
   "execution_count": 116,
   "metadata": {
    "collapsed": false
   },
   "outputs": [],
   "source": [
    "gsearch1 = GridSearchCV(estimator=GradientBoostingClassifier(),param_grid=param_test1,scoring='roc_auc',iid=False,cv=5)"
   ]
  },
  {
   "cell_type": "code",
   "execution_count": 117,
   "metadata": {
    "collapsed": false
   },
   "outputs": [
    {
     "data": {
      "text/plain": [
       "GridSearchCV(cv=5, error_score='raise',\n",
       "       estimator=GradientBoostingClassifier(init=None, learning_rate=0.1, loss='deviance',\n",
       "              max_depth=3, max_features=None, max_leaf_nodes=None,\n",
       "              min_samples_leaf=1, min_samples_split=2,\n",
       "              min_weight_fraction_leaf=0.0, n_estimators=100,\n",
       "              presort='auto', random_state=None, subsample=1.0, verbose=0,\n",
       "              warm_start=False),\n",
       "       fit_params={}, iid=False, n_jobs=1,\n",
       "       param_grid={'n_estimators': array([ 80, 100, 120, 140])},\n",
       "       pre_dispatch='2*n_jobs', refit=True, scoring='roc_auc', verbose=0)"
      ]
     },
     "execution_count": 117,
     "metadata": {},
     "output_type": "execute_result"
    }
   ],
   "source": [
    "gsearch1.fit(xtrain,ytrain)"
   ]
  },
  {
   "cell_type": "code",
   "execution_count": 118,
   "metadata": {
    "collapsed": false
   },
   "outputs": [
    {
     "data": {
      "text/plain": [
       "([mean: 0.63004, std: 0.00589, params: {'n_estimators': 80},\n",
       "  mean: 0.63100, std: 0.00497, params: {'n_estimators': 100},\n",
       "  mean: 0.63134, std: 0.00503, params: {'n_estimators': 120},\n",
       "  mean: 0.63124, std: 0.00555, params: {'n_estimators': 140}],\n",
       " {'n_estimators': 120},\n",
       " 0.63133889291533241)"
      ]
     },
     "execution_count": 118,
     "metadata": {},
     "output_type": "execute_result"
    }
   ],
   "source": [
    "gsearch1.grid_scores_,gsearch1.best_params_,gsearch1.best_score_"
   ]
  },
  {
   "cell_type": "code",
   "execution_count": 119,
   "metadata": {
    "collapsed": true
   },
   "outputs": [],
   "source": [
    "param_test2 = {'max_depth':np.arange(3,14,2)}"
   ]
  },
  {
   "cell_type": "code",
   "execution_count": 121,
   "metadata": {
    "collapsed": false
   },
   "outputs": [],
   "source": [
    "gsearch2 = GridSearchCV(estimator=GradientBoostingClassifier(n_estimators=120),param_grid=param_test2,scoring='roc_auc',iid=False,cv=5)"
   ]
  },
  {
   "cell_type": "code",
   "execution_count": 122,
   "metadata": {
    "collapsed": false
   },
   "outputs": [
    {
     "data": {
      "text/plain": [
       "GridSearchCV(cv=5, error_score='raise',\n",
       "       estimator=GradientBoostingClassifier(init=None, learning_rate=0.1, loss='deviance',\n",
       "              max_depth=3, max_features=None, max_leaf_nodes=None,\n",
       "              min_samples_leaf=1, min_samples_split=2,\n",
       "              min_weight_fraction_leaf=0.0, n_estimators=120,\n",
       "              presort='auto', random_state=None, subsample=1.0, verbose=0,\n",
       "              warm_start=False),\n",
       "       fit_params={}, iid=False, n_jobs=1,\n",
       "       param_grid={'max_depth': array([ 3,  5,  7,  9, 11, 13])},\n",
       "       pre_dispatch='2*n_jobs', refit=True, scoring='roc_auc', verbose=0)"
      ]
     },
     "execution_count": 122,
     "metadata": {},
     "output_type": "execute_result"
    }
   ],
   "source": [
    "gsearch2.fit(xtrain,ytrain)"
   ]
  },
  {
   "cell_type": "code",
   "execution_count": 123,
   "metadata": {
    "collapsed": false
   },
   "outputs": [
    {
     "data": {
      "text/plain": [
       "([mean: 0.63130, std: 0.00515, params: {'max_depth': 3},\n",
       "  mean: 0.62415, std: 0.00470, params: {'max_depth': 5},\n",
       "  mean: 0.61805, std: 0.00629, params: {'max_depth': 7},\n",
       "  mean: 0.60629, std: 0.00735, params: {'max_depth': 9},\n",
       "  mean: 0.59185, std: 0.00900, params: {'max_depth': 11},\n",
       "  mean: 0.58079, std: 0.00881, params: {'max_depth': 13}],\n",
       " {'max_depth': 3},\n",
       " 0.63129788678888921)"
      ]
     },
     "execution_count": 123,
     "metadata": {},
     "output_type": "execute_result"
    }
   ],
   "source": [
    "gsearch2.grid_scores_,gsearch2.best_params_,gsearch2.best_score_"
   ]
  },
  {
   "cell_type": "code",
   "execution_count": 81,
   "metadata": {
    "collapsed": false
   },
   "outputs": [],
   "source": [
    "predict = gbc.predict_proba(X_test)[:,1]"
   ]
  },
  {
   "cell_type": "code",
   "execution_count": 82,
   "metadata": {
    "collapsed": false
   },
   "outputs": [],
   "source": [
    "predict = pd.Series(predict)"
   ]
  },
  {
   "cell_type": "code",
   "execution_count": 83,
   "metadata": {
    "collapsed": false
   },
   "outputs": [],
   "source": [
    "result = pd.concat([df2_test['user_id'],predict],axis=1)"
   ]
  },
  {
   "cell_type": "code",
   "execution_count": 84,
   "metadata": {
    "collapsed": false,
    "scrolled": true
   },
   "outputs": [],
   "source": [
    "result = result.rename(columns={'user_id':'userid',0:'probability'})"
   ]
  },
  {
   "cell_type": "code",
   "execution_count": 85,
   "metadata": {
    "collapsed": true
   },
   "outputs": [],
   "source": [
    "result.to_csv('C:\\\\Users\\\\xupu\\\\Desktop\\\\xupu19.csv',index=False)"
   ]
  },
  {
   "cell_type": "code",
   "execution_count": null,
   "metadata": {
    "collapsed": true
   },
   "outputs": [],
   "source": []
  },
  {
   "cell_type": "code",
   "execution_count": null,
   "metadata": {
    "collapsed": true
   },
   "outputs": [],
   "source": []
  },
  {
   "cell_type": "code",
   "execution_count": null,
   "metadata": {
    "collapsed": true
   },
   "outputs": [],
   "source": []
  },
  {
   "cell_type": "code",
   "execution_count": null,
   "metadata": {
    "collapsed": true
   },
   "outputs": [],
   "source": []
  }
 ],
 "metadata": {
  "anaconda-cloud": {},
  "kernelspec": {
   "display_name": "Python [conda root]",
   "language": "python",
   "name": "conda-root-py"
  },
  "language_info": {
   "codemirror_mode": {
    "name": "ipython",
    "version": 3
   },
   "file_extension": ".py",
   "mimetype": "text/x-python",
   "name": "python",
   "nbconvert_exporter": "python",
   "pygments_lexer": "ipython3",
   "version": "3.5.2"
  }
 },
 "nbformat": 4,
 "nbformat_minor": 1
}
