{
 "cells": [
  {
   "cell_type": "code",
   "execution_count": 1,
   "metadata": {
    "collapsed": false
   },
   "outputs": [
    {
     "name": "stdout",
     "output_type": "stream",
     "text": [
      "C:\\Users\\xupu\\Desktop\\个人征信\n"
     ]
    }
   ],
   "source": [
    "cd C:\\Users\\xupu\\Desktop\\个人征信"
   ]
  },
  {
   "cell_type": "code",
   "execution_count": 2,
   "metadata": {
    "collapsed": true
   },
   "outputs": [],
   "source": [
    "import pandas as pd\n",
    "import numpy as np"
   ]
  },
  {
   "cell_type": "code",
   "execution_count": 3,
   "metadata": {
    "collapsed": false
   },
   "outputs": [],
   "source": [
    "user_info_train = pd.read_csv('train//user_info_train.txt',header=None,names=['user_id','sex','occupation','education','marriage','household'])\n",
    "user_info_test = pd.read_csv('test//user_info_test.txt',header=None,names=['user_id','sex','occupation','education','marriage','household'])"
   ]
  },
  {
   "cell_type": "code",
   "execution_count": 4,
   "metadata": {
    "collapsed": false,
    "scrolled": true
   },
   "outputs": [],
   "source": [
    "bank_detail_train = pd.read_csv('train//bank_detail_train.txt',header=None,names=['user_id','tm_encode','trade_type','trade_amount','salary_tag'])\n",
    "bank_detail_test = pd.read_csv('test//bank_detail_test.txt',header=None,names=['user_id','tm_encode','trade_type','trade_amount','salary_tag'])"
   ]
  },
  {
   "cell_type": "code",
   "execution_count": 5,
   "metadata": {
    "collapsed": true
   },
   "outputs": [],
   "source": [
    "grouped0_train = bank_detail_train.groupby(['user_id','trade_type'])\n",
    "grouped0_test = bank_detail_test.groupby(['user_id','trade_type'])"
   ]
  },
  {
   "cell_type": "code",
   "execution_count": 6,
   "metadata": {
    "collapsed": true
   },
   "outputs": [],
   "source": [
    "income_train = grouped0_train['trade_amount'].sum().unstack()\n",
    "income_test = grouped0_test['trade_amount'].sum().unstack()"
   ]
  },
  {
   "cell_type": "code",
   "execution_count": 7,
   "metadata": {
    "collapsed": true
   },
   "outputs": [],
   "source": [
    "income_train.rename(columns={0:'shouru',1:'zhichu'},inplace = True)\n",
    "income_test.rename(columns={0:'shouru',1:'zhichu'},inplace = True)"
   ]
  },
  {
   "cell_type": "code",
   "execution_count": 8,
   "metadata": {
    "collapsed": true
   },
   "outputs": [],
   "source": [
    "income_train['netincome'] = income_train['shouru']-income_train['zhichu']\n",
    "income_test['netincome'] = income_test['shouru']-income_test['zhichu']"
   ]
  },
  {
   "cell_type": "code",
   "execution_count": 9,
   "metadata": {
    "collapsed": true
   },
   "outputs": [],
   "source": [
    "incomes_train = income_train['netincome']\n",
    "incomes_test = income_test['netincome']"
   ]
  },
  {
   "cell_type": "code",
   "execution_count": 10,
   "metadata": {
    "collapsed": true
   },
   "outputs": [],
   "source": [
    "tag1_train = bank_detail_train.loc[bank_detail_train['salary_tag']==1]\n",
    "tag1_test = bank_detail_test.loc[bank_detail_test['salary_tag']==1]"
   ]
  },
  {
   "cell_type": "code",
   "execution_count": 11,
   "metadata": {
    "collapsed": true
   },
   "outputs": [],
   "source": [
    "salary_train = tag1_train.groupby('user_id')['trade_amount'].mean()\n",
    "salary_test = tag1_test.groupby('user_id')['trade_amount'].mean()"
   ]
  },
  {
   "cell_type": "code",
   "execution_count": 12,
   "metadata": {
    "collapsed": true
   },
   "outputs": [],
   "source": [
    "bank_train = pd.concat([incomes_train,salary_train],axis=1)\n",
    "bank_test = pd.concat([incomes_test,salary_test],axis=1)"
   ]
  },
  {
   "cell_type": "code",
   "execution_count": 13,
   "metadata": {
    "collapsed": false
   },
   "outputs": [
    {
     "data": {
      "text/plain": [
       "(9294, 2)"
      ]
     },
     "execution_count": 13,
     "metadata": {},
     "output_type": "execute_result"
    }
   ],
   "source": [
    "bank_train.shape"
   ]
  },
  {
   "cell_type": "code",
   "execution_count": 14,
   "metadata": {
    "collapsed": false
   },
   "outputs": [],
   "source": [
    "new_bank_train = bank_train.reset_index()\n",
    "new_bank_test = bank_test.reset_index()#合并到总表"
   ]
  },
  {
   "cell_type": "code",
   "execution_count": 15,
   "metadata": {
    "collapsed": false
   },
   "outputs": [],
   "source": [
    "new_bank_train.loc[new_bank_train['trade_amount'].isnull(),'tag']=0\n",
    "new_bank_test.loc[new_bank_test['trade_amount'].isnull(),'tag']=0"
   ]
  },
  {
   "cell_type": "code",
   "execution_count": 16,
   "metadata": {
    "collapsed": false
   },
   "outputs": [],
   "source": [
    "new_bank_train.loc[new_bank_train['trade_amount'].notnull(),'tag']=1\n",
    "new_bank_test.loc[new_bank_test['trade_amount'].notnull(),'tag']=1"
   ]
  },
  {
   "cell_type": "code",
   "execution_count": 17,
   "metadata": {
    "collapsed": true
   },
   "outputs": [],
   "source": [
    "bill_detail_train = pd.read_csv('train//bill_detail_train.txt',header=None,names=['user_id','tm_encode','bank_id','last_bill','last_return','credit_amount','this_bill_left','minreturn_bill','use_times','this_bill_amount','adjust_amount','recircle_rate','left_amount','load_amount','return_item'])"
   ]
  },
  {
   "cell_type": "code",
   "execution_count": 18,
   "metadata": {
    "collapsed": true
   },
   "outputs": [],
   "source": [
    "bill_detail_test = pd.read_csv('test//bill_detail_test.txt',header=None,names=['user_id','tm_encode','bank_id','last_bill','last_return','credit_amount','this_bill_left','minreturn_bill','use_times','this_bill_amount','adjust_amount','recircle_rate','left_amount','load_amount','return_item'])"
   ]
  },
  {
   "cell_type": "code",
   "execution_count": 19,
   "metadata": {
    "collapsed": true
   },
   "outputs": [],
   "source": [
    "bill_detail_train['last_return_diff']=bill_detail_train['last_return']-bill_detail_train['last_bill']\n",
    "bill_detail_test['last_return_diff']=bill_detail_test['last_return']-bill_detail_test['last_bill']"
   ]
  },
  {
   "cell_type": "code",
   "execution_count": 20,
   "metadata": {
    "collapsed": false,
    "scrolled": true
   },
   "outputs": [],
   "source": [
    "bill_detail_train = bill_detail_train.drop(['tm_encode','last_bill','last_return','minreturn_bill','use_times','adjust_amount'],axis=1)\n",
    "bill_detail_test = bill_detail_test.drop(['tm_encode','last_bill','last_return','minreturn_bill','use_times','adjust_amount'],axis=1)"
   ]
  },
  {
   "cell_type": "code",
   "execution_count": 21,
   "metadata": {
    "collapsed": false
   },
   "outputs": [],
   "source": [
    "banks_train = bill_detail_train[['user_id','bank_id']]\n",
    "banks_test = bill_detail_test[['user_id','bank_id']]"
   ]
  },
  {
   "cell_type": "code",
   "execution_count": 22,
   "metadata": {
    "collapsed": false
   },
   "outputs": [],
   "source": [
    "banks1_train = banks_train.drop_duplicates()\n",
    "banks1_test = banks_test.drop_duplicates()"
   ]
  },
  {
   "cell_type": "code",
   "execution_count": 23,
   "metadata": {
    "collapsed": false
   },
   "outputs": [],
   "source": [
    "banks2_train = banks1_train.groupby('user_id')\n",
    "banks2_test = banks1_test.groupby('user_id')"
   ]
  },
  {
   "cell_type": "code",
   "execution_count": 24,
   "metadata": {
    "collapsed": false,
    "scrolled": true
   },
   "outputs": [],
   "source": [
    "banks3_train = banks2_train.count()\n",
    "banks3_test = banks2_test.count()"
   ]
  },
  {
   "cell_type": "code",
   "execution_count": 25,
   "metadata": {
    "collapsed": false,
    "scrolled": true
   },
   "outputs": [],
   "source": [
    "banks4_train = banks3_train.reset_index()\n",
    "banks4_test = banks3_test.reset_index()"
   ]
  },
  {
   "cell_type": "code",
   "execution_count": 26,
   "metadata": {
    "collapsed": false
   },
   "outputs": [],
   "source": [
    "banks5_train = banks4_train.rename(columns={'bank_id':'banks'})\n",
    "banks5_test = banks4_test.rename(columns={'bank_id':'banks'})"
   ]
  },
  {
   "cell_type": "code",
   "execution_count": 27,
   "metadata": {
    "collapsed": true
   },
   "outputs": [],
   "source": [
    "grouped1_train = bill_detail_train.groupby(['user_id','bank_id'])\n",
    "grouped1_test = bill_detail_test.groupby(['user_id','bank_id'])"
   ]
  },
  {
   "cell_type": "code",
   "execution_count": 28,
   "metadata": {
    "collapsed": true
   },
   "outputs": [],
   "source": [
    "credit_amount_train = (grouped1_train['credit_amount'].sum())/(grouped1_train['credit_amount'].size())\n",
    "credit_amount_test = (grouped1_test['credit_amount'].sum())/(grouped1_test['credit_amount'].size())"
   ]
  },
  {
   "cell_type": "code",
   "execution_count": 29,
   "metadata": {
    "collapsed": true
   },
   "outputs": [],
   "source": [
    "credit_amounts_train = pd.DataFrame(credit_amount_train).reset_index()\n",
    "credit_amounts_test = pd.DataFrame(credit_amount_test).reset_index()"
   ]
  },
  {
   "cell_type": "code",
   "execution_count": 30,
   "metadata": {
    "collapsed": true
   },
   "outputs": [],
   "source": [
    "credit_amounts_train.rename(columns={0:'edu'},inplace=True)\n",
    "credit_amounts_test.rename(columns={0:'edu'},inplace=True)"
   ]
  },
  {
   "cell_type": "code",
   "execution_count": 31,
   "metadata": {
    "collapsed": true
   },
   "outputs": [],
   "source": [
    "user_credit_amount_train = pd.DataFrame(credit_amounts_train.groupby('user_id')['edu'].sum())\n",
    "user_credit_amount_test = pd.DataFrame(credit_amounts_test.groupby('user_id')['edu'].sum())"
   ]
  },
  {
   "cell_type": "code",
   "execution_count": 32,
   "metadata": {
    "collapsed": true
   },
   "outputs": [],
   "source": [
    "user_credit_amount_train = user_credit_amount_train.reset_index()\n",
    "user_credit_amount_test = user_credit_amount_test.reset_index()"
   ]
  },
  {
   "cell_type": "code",
   "execution_count": 33,
   "metadata": {
    "collapsed": true
   },
   "outputs": [],
   "source": [
    "grouped2_train = bill_detail_train.groupby('user_id')\n",
    "grouped2_test = bill_detail_test.groupby('user_id')"
   ]
  },
  {
   "cell_type": "code",
   "execution_count": 34,
   "metadata": {
    "collapsed": false
   },
   "outputs": [],
   "source": [
    "user_rate_train = grouped2_train['recircle_rate','last_return_diff'].sum().reset_index()\n",
    "user_rate_test = grouped2_test['recircle_rate','last_return_diff'].sum().reset_index()"
   ]
  },
  {
   "cell_type": "code",
   "execution_count": 35,
   "metadata": {
    "collapsed": true
   },
   "outputs": [],
   "source": [
    "user_loan_train = pd.DataFrame(grouped2_train['load_amount'].mean()).reset_index()\n",
    "user_loan_test = pd.DataFrame(grouped2_test['load_amount'].mean()).reset_index()"
   ]
  },
  {
   "cell_type": "code",
   "execution_count": 36,
   "metadata": {
    "collapsed": true
   },
   "outputs": [],
   "source": [
    "d_train = pd.merge(banks5_train,user_credit_amount_train,on='user_id')\n",
    "d_test = pd.merge(banks5_test,user_credit_amount_test,on='user_id')"
   ]
  },
  {
   "cell_type": "code",
   "execution_count": 37,
   "metadata": {
    "collapsed": true
   },
   "outputs": [],
   "source": [
    "e_train = pd.merge(d_train,user_rate_train,on='user_id')\n",
    "e_test = pd.merge(d_test,user_rate_test,on='user_id')"
   ]
  },
  {
   "cell_type": "code",
   "execution_count": 38,
   "metadata": {
    "collapsed": true
   },
   "outputs": [],
   "source": [
    "f_train = pd.merge(e_train,user_loan_train,on='user_id') \n",
    "f_test = pd.merge(e_test,user_loan_test,on='user_id') #合并到总表"
   ]
  },
  {
   "cell_type": "code",
   "execution_count": 39,
   "metadata": {
    "collapsed": false
   },
   "outputs": [],
   "source": [
    "loan_time_train = pd.read_csv('train//loan_time_train.txt',header = None,names=['user_id','loan_time'])\n",
    "loan_time_test = pd.read_csv('test//loan_time_test.txt',header = None,names=['user_id','loan_time'])"
   ]
  },
  {
   "cell_type": "code",
   "execution_count": 41,
   "metadata": {
    "collapsed": false
   },
   "outputs": [],
   "source": [
    "overdue_train = pd.read_csv('train//overdue_train.txt',header=None,names=['user_id','target'])"
   ]
  },
  {
   "cell_type": "code",
   "execution_count": 42,
   "metadata": {
    "collapsed": false,
    "scrolled": true
   },
   "outputs": [],
   "source": [
    "df_train = pd.merge(user_info_train,overdue_train,on='user_id')"
   ]
  },
  {
   "cell_type": "code",
   "execution_count": 43,
   "metadata": {
    "collapsed": true
   },
   "outputs": [],
   "source": [
    "df0_train = pd.merge(df_train,loan_time_train,on='user_id')\n",
    "df0_test = pd.merge(user_info_test,loan_time_test,on='user_id')"
   ]
  },
  {
   "cell_type": "code",
   "execution_count": 44,
   "metadata": {
    "collapsed": false
   },
   "outputs": [],
   "source": [
    "df1_train = pd.merge(df0_train,f_train,on='user_id',how='left')\n",
    "df1_test = pd.merge(df0_test,f_test,on='user_id',how='left')"
   ]
  },
  {
   "cell_type": "code",
   "execution_count": 45,
   "metadata": {
    "collapsed": true
   },
   "outputs": [],
   "source": [
    "df2_train = pd.merge(df1_train,new_bank_train,on='user_id',how='left')\n",
    "df2_test = pd.merge(df1_test,new_bank_test,on='user_id',how='left')"
   ]
  },
  {
   "cell_type": "code",
   "execution_count": 46,
   "metadata": {
    "collapsed": true
   },
   "outputs": [],
   "source": [
    "df2_train['netincome'].fillna(df2_train['netincome'].mean(),inplace=True)\n",
    "df2_test['netincome'].fillna(df2_test['netincome'].mean(),inplace=True)"
   ]
  },
  {
   "cell_type": "code",
   "execution_count": 47,
   "metadata": {
    "collapsed": false,
    "scrolled": true
   },
   "outputs": [],
   "source": [
    "df2_train['trade_amount'].fillna(0,inplace=True)\n",
    "df2_test['trade_amount'].fillna(0,inplace=True)"
   ]
  },
  {
   "cell_type": "code",
   "execution_count": 48,
   "metadata": {
    "collapsed": false
   },
   "outputs": [],
   "source": [
    "df2_train['tag'].fillna(0,inplace=True)\n",
    "df2_test['tag'].fillna(0,inplace=True)"
   ]
  },
  {
   "cell_type": "code",
   "execution_count": 49,
   "metadata": {
    "collapsed": false
   },
   "outputs": [],
   "source": [
    "df2_train = df2_train.fillna(df2_train.mean(),inplace=True)\n",
    "df2_test = df2_test.fillna(df2_test.mean(),inplace=True)"
   ]
  },
  {
   "cell_type": "code",
   "execution_count": null,
   "metadata": {
    "collapsed": true
   },
   "outputs": [],
   "source": []
  },
  {
   "cell_type": "code",
   "execution_count": 72,
   "metadata": {
    "collapsed": true
   },
   "outputs": [],
   "source": [
    "X_test = df2_test.drop('user_id',axis=1)"
   ]
  },
  {
   "cell_type": "code",
   "execution_count": 73,
   "metadata": {
    "collapsed": true
   },
   "outputs": [],
   "source": [
    "testX = ss.transform(X_test)"
   ]
  },
  {
   "cell_type": "code",
   "execution_count": null,
   "metadata": {
    "collapsed": true
   },
   "outputs": [],
   "source": []
  },
  {
   "cell_type": "code",
   "execution_count": 110,
   "metadata": {
    "collapsed": true
   },
   "outputs": [],
   "source": [
    "X = df2_train.drop(['user_id','target'],axis=1)\n",
    "Y = df2_train['target']"
   ]
  },
  {
   "cell_type": "code",
   "execution_count": 118,
   "metadata": {
    "collapsed": false
   },
   "outputs": [
    {
     "data": {
      "text/plain": [
       "sex                  object\n",
       "occupation           object\n",
       "education            object\n",
       "marriage             object\n",
       "household            object\n",
       "loan_time            object\n",
       "banks               float64\n",
       "edu                 float64\n",
       "recircle_rate       float64\n",
       "last_return_diff    float64\n",
       "load_amount         float64\n",
       "netincome           float64\n",
       "trade_amount        float64\n",
       "tag                  object\n",
       "dtype: object"
      ]
     },
     "execution_count": 118,
     "metadata": {},
     "output_type": "execute_result"
    }
   ],
   "source": [
    "X.dtypes"
   ]
  },
  {
   "cell_type": "code",
   "execution_count": 117,
   "metadata": {
    "collapsed": true
   },
   "outputs": [],
   "source": [
    "for i in ['sex','occupation','education','marriage','household','loan_time','tag']:\n",
    "    X[i] = X[i].astype('object')"
   ]
  },
  {
   "cell_type": "code",
   "execution_count": null,
   "metadata": {
    "collapsed": true
   },
   "outputs": [],
   "source": []
  },
  {
   "cell_type": "code",
   "execution_count": 140,
   "metadata": {
    "collapsed": true
   },
   "outputs": [],
   "source": [
    "from sklearn.cross_validation import train_test_split"
   ]
  },
  {
   "cell_type": "code",
   "execution_count": 141,
   "metadata": {
    "collapsed": true
   },
   "outputs": [],
   "source": [
    "xtrain,xtest,ytrain,ytest = train_test_split(X,Y,train_size=0.7)"
   ]
  },
  {
   "cell_type": "code",
   "execution_count": null,
   "metadata": {
    "collapsed": true
   },
   "outputs": [],
   "source": []
  },
  {
   "cell_type": "code",
   "execution_count": 121,
   "metadata": {
    "collapsed": true
   },
   "outputs": [],
   "source": [
    "from sklearn.preprocessing import StandardScaler"
   ]
  },
  {
   "cell_type": "code",
   "execution_count": 122,
   "metadata": {
    "collapsed": true
   },
   "outputs": [],
   "source": [
    "ss = StandardScaler()"
   ]
  },
  {
   "cell_type": "code",
   "execution_count": 123,
   "metadata": {
    "collapsed": false
   },
   "outputs": [
    {
     "data": {
      "text/plain": [
       "StandardScaler(copy=True, with_mean=True, with_std=True)"
      ]
     },
     "execution_count": 123,
     "metadata": {},
     "output_type": "execute_result"
    }
   ],
   "source": [
    "ss.fit(xtrain)"
   ]
  },
  {
   "cell_type": "code",
   "execution_count": 124,
   "metadata": {
    "collapsed": true
   },
   "outputs": [],
   "source": [
    "trainx = ss.transform(xtrain)\n",
    "testx = ss.transform(xtest)"
   ]
  },
  {
   "cell_type": "code",
   "execution_count": null,
   "metadata": {
    "collapsed": true
   },
   "outputs": [],
   "source": []
  },
  {
   "cell_type": "code",
   "execution_count": 142,
   "metadata": {
    "collapsed": true
   },
   "outputs": [],
   "source": [
    "from sklearn.ensemble import RandomForestClassifier"
   ]
  },
  {
   "cell_type": "code",
   "execution_count": 143,
   "metadata": {
    "collapsed": true
   },
   "outputs": [],
   "source": [
    "rf = RandomForestClassifier(n_estimators=100)"
   ]
  },
  {
   "cell_type": "code",
   "execution_count": 144,
   "metadata": {
    "collapsed": false
   },
   "outputs": [
    {
     "data": {
      "text/plain": [
       "RandomForestClassifier(bootstrap=True, class_weight=None, criterion='gini',\n",
       "            max_depth=None, max_features='auto', max_leaf_nodes=None,\n",
       "            min_samples_leaf=1, min_samples_split=2,\n",
       "            min_weight_fraction_leaf=0.0, n_estimators=100, n_jobs=1,\n",
       "            oob_score=False, random_state=None, verbose=0,\n",
       "            warm_start=False)"
      ]
     },
     "execution_count": 144,
     "metadata": {},
     "output_type": "execute_result"
    }
   ],
   "source": [
    "rf.fit(xtrain,ytrain)"
   ]
  },
  {
   "cell_type": "code",
   "execution_count": 145,
   "metadata": {
    "collapsed": false
   },
   "outputs": [
    {
     "data": {
      "text/plain": [
       "0.86773787397325974"
      ]
     },
     "execution_count": 145,
     "metadata": {},
     "output_type": "execute_result"
    }
   ],
   "source": [
    "rf.score(xtest,ytest)"
   ]
  },
  {
   "cell_type": "code",
   "execution_count": 146,
   "metadata": {
    "collapsed": false
   },
   "outputs": [
    {
     "data": {
      "text/plain": [
       "array([[ 0.71,  0.29],\n",
       "       [ 0.94,  0.06],\n",
       "       [ 0.98,  0.02],\n",
       "       ..., \n",
       "       [ 0.96,  0.04],\n",
       "       [ 0.95,  0.05],\n",
       "       [ 0.41,  0.59]])"
      ]
     },
     "execution_count": 146,
     "metadata": {},
     "output_type": "execute_result"
    }
   ],
   "source": [
    "rf.predict_proba(xtest)"
   ]
  },
  {
   "cell_type": "code",
   "execution_count": 147,
   "metadata": {
    "collapsed": true
   },
   "outputs": [],
   "source": [
    "from sklearn.metrics import precision_recall_curve"
   ]
  },
  {
   "cell_type": "code",
   "execution_count": 148,
   "metadata": {
    "collapsed": true
   },
   "outputs": [],
   "source": [
    "ytrue = ytest"
   ]
  },
  {
   "cell_type": "code",
   "execution_count": 149,
   "metadata": {
    "collapsed": true
   },
   "outputs": [],
   "source": [
    "pred =rf.predict_proba(xtest)[:,1]"
   ]
  },
  {
   "cell_type": "code",
   "execution_count": 150,
   "metadata": {
    "collapsed": true
   },
   "outputs": [],
   "source": [
    "pre,recall,thre = precision_recall_curve(ytrue,pred)"
   ]
  },
  {
   "cell_type": "code",
   "execution_count": 156,
   "metadata": {
    "collapsed": false,
    "scrolled": true
   },
   "outputs": [
    {
     "data": {
      "text/plain": [
       "array([ 0.        ,  0.005     ,  0.00666667,  0.0075    ,  0.01      ,\n",
       "        0.01166667,  0.01333333,  0.015     ,  0.01583333,  0.01666667,\n",
       "        0.02      ,  0.02083333,  0.022     ,  0.0225    ,  0.02333333,\n",
       "        0.025     ,  0.02666667,  0.03      ,  0.03102381,  0.03166667,\n",
       "        0.03235714,  0.03285714,  0.03333333,  0.03375   ,  0.035     ,\n",
       "        0.03666667,  0.0375    ,  0.03833333,  0.0395    ,  0.04      ,\n",
       "        0.04166667,  0.0425    ,  0.04333333,  0.045     ,  0.047     ,\n",
       "        0.05      ,  0.05166667,  0.05333333,  0.055     ,  0.05633333,\n",
       "        0.05666667,  0.05833333,  0.06      ,  0.06333333,  0.0635    ,\n",
       "        0.06416667,  0.065     ,  0.06666667,  0.06833333,  0.06983333,\n",
       "        0.07      ,  0.07333333,  0.075     ,  0.076     ,  0.07833333,\n",
       "        0.08      ,  0.08083333,  0.083     ,  0.08333333,  0.084     ,\n",
       "        0.085     ,  0.08583333,  0.0875    ,  0.09      ,  0.09104762,\n",
       "        0.09333333,  0.095     ,  0.09571429,  0.09666667,  0.09766667,\n",
       "        0.09833333,  0.1       ,  0.10060714,  0.10083333,  0.10166667,\n",
       "        0.1025    ,  0.10333333,  0.105     ,  0.10666667,  0.109     ,\n",
       "        0.10902381,  0.11      ,  0.11083333,  0.1115    ,  0.1125    ,\n",
       "        0.11266667,  0.11333333,  0.1135    ,  0.114     ,  0.115     ,\n",
       "        0.116     ,  0.11666667,  0.1175    ,  0.118     ,  0.11833333,\n",
       "        0.11916667,  0.12      ,  0.12133333,  0.12166667,  0.12333333,\n",
       "        0.1235    ,  0.12483333,  0.125     ,  0.12666667,  0.12833333,\n",
       "        0.12916667,  0.13      ,  0.13166667,  0.132     ,  0.13333333,\n",
       "        0.134     ,  0.13402886,  0.13433333,  0.135     ,  0.13666667,\n",
       "        0.1375    ,  0.13866667,  0.14      ,  0.141     ,  0.14166667,\n",
       "        0.1425    ,  0.14333333,  0.145     ,  0.14558333,  0.1475    ,\n",
       "        0.14821429,  0.14845238,  0.149     ,  0.14966667,  0.15      ,\n",
       "        0.1502381 ,  0.15083333,  0.1525    ,  0.15266667,  0.15333333,\n",
       "        0.15416667,  0.155     ,  0.15666667,  0.1575    ,  0.158     ,\n",
       "        0.15833333,  0.15983333,  0.16      ,  0.1615    ,  0.16166667,\n",
       "        0.16233333,  0.1625    ,  0.16333333,  0.16428571,  0.165     ,\n",
       "        0.16666667,  0.1675    ,  0.17      ,  0.17116667,  0.17166667,\n",
       "        0.17189701,  0.17333333,  0.175     ,  0.17666667,  0.1775    ,\n",
       "        0.18      ,  0.18266667,  0.18333333,  0.185     ,  0.19      ,\n",
       "        0.19166667,  0.19333333,  0.195     ,  0.19666667,  0.19875   ,\n",
       "        0.19966667,  0.2       ,  0.20266667,  0.20333333,  0.205     ,\n",
       "        0.20666667,  0.2075    ,  0.20916667,  0.21      ,  0.213     ,\n",
       "        0.21333333,  0.2135    ,  0.215     ,  0.21533333,  0.21666667,\n",
       "        0.218     ,  0.21833333,  0.21866667,  0.22      ,  0.221     ,\n",
       "        0.22166667,  0.22333333,  0.23      ,  0.23333333,  0.235     ,\n",
       "        0.24      ,  0.24333333,  0.245     ,  0.2465    ,  0.25      ,\n",
       "        0.25166667,  0.25216667,  0.25466667,  0.255     ,  0.26      ,\n",
       "        0.26083333,  0.26183333,  0.2625    ,  0.264     ,  0.265     ,\n",
       "        0.26633333,  0.26666667,  0.27      ,  0.27133333,  0.2725    ,\n",
       "        0.27285714,  0.2775    ,  0.28      ,  0.284     ,  0.28666667,\n",
       "        0.28817857,  0.29      ,  0.295     ,  0.29666667,  0.2975    ,\n",
       "        0.298     ,  0.3       ,  0.30166667,  0.305     ,  0.306     ,\n",
       "        0.30683333,  0.309     ,  0.31      ,  0.31833333,  0.32      ,\n",
       "        0.32017857,  0.33      ,  0.33012302,  0.33135714,  0.3335    ,\n",
       "        0.335     ,  0.338     ,  0.34      ,  0.34007143,  0.345     ,\n",
       "        0.34533333,  0.34666667,  0.35      ,  0.35007143,  0.3533254 ,\n",
       "        0.35333333,  0.35883333,  0.3595    ,  0.36      ,  0.36183333,\n",
       "        0.36333333,  0.365     ,  0.3685    ,  0.37      ,  0.375     ,\n",
       "        0.37583333,  0.38      ,  0.3807381 ,  0.38666667,  0.39      ,\n",
       "        0.39166667,  0.39333333,  0.395     ,  0.39666667,  0.4       ,\n",
       "        0.405     ,  0.409     ,  0.41      ,  0.4115119 ,  0.41935714,\n",
       "        0.42      ,  0.4225    ,  0.4285    ,  0.43      ,  0.44      ,\n",
       "        0.44466667,  0.44816667,  0.45      ,  0.45133333,  0.45666667,\n",
       "        0.45916667,  0.46      ,  0.46166667,  0.4685    ,  0.47      ,\n",
       "        0.47345238,  0.48      ,  0.483     ,  0.49      ,  0.49333333,\n",
       "        0.49366667,  0.49816667,  0.5       ,  0.51      ,  0.51333333,\n",
       "        0.52      ,  0.53      ,  0.54      ,  0.545     ,  0.55      ,\n",
       "        0.5505    ,  0.555     ,  0.56      ,  0.57      ,  0.58      ,\n",
       "        0.59      ,  0.6       ,  0.61      ,  0.61333333,  0.62      ,\n",
       "        0.63      ,  0.64      ,  0.65      ,  0.65166667,  0.66      ,\n",
       "        0.66333333,  0.67      ,  0.6705    ,  0.68      ,  0.68666667,\n",
       "        0.68980952,  0.69      ,  0.7       ,  0.71      ,  0.72      ,\n",
       "        0.73      ,  0.74      ,  0.75      ,  0.76      ,  0.77      ,\n",
       "        0.774     ,  0.7755    ,  0.79      ,  0.8       ,  0.81      ,\n",
       "        0.82      ,  0.83      ,  0.86      ,  0.89      ,  0.94      ,\n",
       "        0.96      ,  0.97      ])"
      ]
     },
     "execution_count": 156,
     "metadata": {},
     "output_type": "execute_result"
    }
   ],
   "source": [
    "thre"
   ]
  },
  {
   "cell_type": "code",
   "execution_count": 151,
   "metadata": {
    "collapsed": true
   },
   "outputs": [],
   "source": [
    "import matplotlib.pyplot as plt\n",
    "%matplotlib inline"
   ]
  },
  {
   "cell_type": "code",
   "execution_count": 152,
   "metadata": {
    "collapsed": false
   },
   "outputs": [
    {
     "data": {
      "text/plain": [
       "<matplotlib.text.Text at 0x2ae5b19a3c8>"
      ]
     },
     "execution_count": 152,
     "metadata": {},
     "output_type": "execute_result"
    },
    {
     "data": {
      "image/png": "[encoded data removed]",
      "text/plain": [
       "<matplotlib.figure.Figure at 0x2ae57759da0>"
      ]
     },
     "metadata": {},
     "output_type": "display_data"
    }
   ],
   "source": [
    "plt.plot(recall,pre)\n",
    "plt.xlabel('recall')\n",
    "plt.ylabel('precision')"
   ]
  },
  {
   "cell_type": "code",
   "execution_count": 153,
   "metadata": {
    "collapsed": true
   },
   "outputs": [],
   "source": [
    "from sklearn.metrics import roc_auc_score"
   ]
  },
  {
   "cell_type": "code",
   "execution_count": 154,
   "metadata": {
    "collapsed": false
   },
   "outputs": [
    {
     "data": {
      "text/plain": [
       "0.59866025738389861"
      ]
     },
     "execution_count": 154,
     "metadata": {},
     "output_type": "execute_result"
    }
   ],
   "source": [
    "roc_auc_score(ytrue,pred)"
   ]
  },
  {
   "cell_type": "code",
   "execution_count": 155,
   "metadata": {
    "collapsed": false
   },
   "outputs": [
    {
     "data": {
      "text/plain": [
       "array([ 0.03240816,  0.03291173,  0.0334739 ,  0.04416221,  0.05366204,\n",
       "        0.18769746,  0.03184899,  0.15063656,  0.06650057,  0.1709889 ,\n",
       "        0.12248112,  0.05664909,  0.01269444,  0.00388483])"
      ]
     },
     "execution_count": 155,
     "metadata": {},
     "output_type": "execute_result"
    }
   ],
   "source": [
    "rf.feature_importances_"
   ]
  },
  {
   "cell_type": "code",
   "execution_count": 74,
   "metadata": {
    "collapsed": true
   },
   "outputs": [],
   "source": [
    "predict = rf.predict_proba(testX)[:,1]"
   ]
  },
  {
   "cell_type": "code",
   "execution_count": 76,
   "metadata": {
    "collapsed": false
   },
   "outputs": [],
   "source": [
    "predict = pd.Series(predict)"
   ]
  },
  {
   "cell_type": "code",
   "execution_count": 78,
   "metadata": {
    "collapsed": true
   },
   "outputs": [],
   "source": [
    "result = pd.concat([df2_test['user_id'],predict],axis=1)"
   ]
  },
  {
   "cell_type": "code",
   "execution_count": 80,
   "metadata": {
    "collapsed": false,
    "scrolled": true
   },
   "outputs": [],
   "source": [
    "result = result.rename(columns={'user_id':'userid',0:'probability'})"
   ]
  },
  {
   "cell_type": "code",
   "execution_count": 81,
   "metadata": {
    "collapsed": true
   },
   "outputs": [],
   "source": [
    "result.to_csv('C:\\\\Users\\\\xupu\\\\Desktop\\\\xupu7.csv',index=False)"
   ]
  },
  {
   "cell_type": "code",
   "execution_count": null,
   "metadata": {
    "collapsed": true
   },
   "outputs": [],
   "source": []
  },
  {
   "cell_type": "code",
   "execution_count": null,
   "metadata": {
    "collapsed": true
   },
   "outputs": [],
   "source": []
  },
  {
   "cell_type": "code",
   "execution_count": 58,
   "metadata": {
    "collapsed": true
   },
   "outputs": [],
   "source": [
    "#browse_history = pd.read_csv('browse_history_train.txt',header=None,names=['user_id','tm_encode_2','browse_data','browse_tag'])"
   ]
  },
  {
   "cell_type": "code",
   "execution_count": null,
   "metadata": {
    "collapsed": true
   },
   "outputs": [],
   "source": []
  }
 ],
 "metadata": {
  "anaconda-cloud": {},
  "kernelspec": {
   "display_name": "Python [conda root]",
   "language": "python",
   "name": "conda-root-py"
  },
  "language_info": {
   "codemirror_mode": {
    "name": "ipython",
    "version": 3
   },
   "file_extension": ".py",
   "mimetype": "text/x-python",
   "name": "python",
   "nbconvert_exporter": "python",
   "pygments_lexer": "ipython3",
   "version": "3.5.2"
  }
 },
 "nbformat": 4,
 "nbformat_minor": 1
}
